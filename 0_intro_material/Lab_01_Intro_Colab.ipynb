{
  "nbformat": 4,
  "nbformat_minor": 0,
  "metadata": {
    "colab": {
      "name": "Lab_01_Intro_Colab.ipynb",
      "provenance": [],
      "collapsed_sections": [],
      "toc_visible": true
    },
    "kernelspec": {
      "display_name": "Python 3",
      "language": "python",
      "name": "python3"
    },
    "language_info": {
      "codemirror_mode": {
        "name": "ipython",
        "version": 3
      },
      "file_extension": ".py",
      "mimetype": "text/x-python",
      "name": "python",
      "nbconvert_exporter": "python",
      "pygments_lexer": "ipython3",
      "version": "3.8.5"
    }
  },
  "cells": [
    {
      "cell_type": "markdown",
      "metadata": {
        "id": "IBAupUTp-1ao"
      },
      "source": [
        "# What is Google Colab?\n",
        "\n",
        "[Colaboratory](https://colab.sandbox.google.com/notebooks/welcome.ipynb) is a [Jupyter](http://jupyter.org/) notebook environment that requires no setup to use. It allows you to create and share documents that contain:\n",
        "\n",
        "* Live, runnable code\n",
        "* Visualizations\n",
        "* Explanatory text\n",
        "\n",
        "It's also a great tool for prototyping and quick development. Let's give it a try. "
      ]
    },
    {
      "cell_type": "markdown",
      "metadata": {
        "id": "Cg9or9RcAG0-"
      },
      "source": [
        "Run the following so-called *(Code) Cell* by moving the cursor into it, and either\n",
        "\n",
        "* Pressing the \"play\" icon on the left of the cell, or\n",
        "* Hitting **`Shift + Enter`**."
      ]
    },
    {
      "cell_type": "code",
      "metadata": {
        "id": "qyNrs_gC-2JU"
      },
      "source": [
        "print('Hello, M2L!')"
      ],
      "execution_count": null,
      "outputs": []
    },
    {
      "cell_type": "markdown",
      "metadata": {
        "id": "8RGeFACL-2Ps"
      },
      "source": [
        "You should see the `Hello, M2L!` printed under the code."
      ]
    },
    {
      "cell_type": "markdown",
      "metadata": {
        "id": "7UwtwzObZbKt"
      },
      "source": [
        "The code is executed on a virtual machine dedicated to your account, with the results sent back to your browser. This has some positive and negative consequences."
      ]
    },
    {
      "cell_type": "markdown",
      "metadata": {
        "id": "-iBdZmzvbPAh"
      },
      "source": [
        "## Using a GPU\n",
        "\n",
        "You can connect to a virtual machine with a GPU. To select the hardware you want to use, follow either\n",
        "\n",
        "* **Edit > Notebook settings**, or\n",
        "* **Runtime > Change runtime type**\n",
        "\n",
        "and choose an accelerator.\n",
        "\n",
        "Note: since January 2020, only **Python 3** is supported in the Google Colab environment."
      ]
    },
    {
      "cell_type": "markdown",
      "metadata": {
        "id": "zxRZTbjtbPco"
      },
      "source": [
        "## Losing Connection\n",
        "\n",
        "You may lose connection to your virtual machine. The two most common causes are:\n",
        "\n",
        "* Virtual machines are recycled when idle for a while, and have a maximum lifetime enforced by the system.\n",
        "*  Long-running background computations, particularly on GPUs, may be stopped.\n",
        "\n",
        "**If you lose connection**, the state of your notebook will also be lost. You will need to **rerun all cells** up to the one you are currently working on. To do so\n",
        "\n",
        "1. Select (place the cursor into) the cell you are working on. \n",
        "2. Follow **Runtime > Run before**."
      ]
    },
    {
      "cell_type": "markdown",
      "metadata": {
        "id": "kUhiagDUC28G"
      },
      "source": [
        "## Pretty Printing by colab\n",
        "1) If the **last operation** of a given cell returns a value, it will be pretty printed by colab.\n"
      ]
    },
    {
      "cell_type": "code",
      "metadata": {
        "id": "Hz9y44oYDpXI"
      },
      "source": [
        "6 * 7"
      ],
      "execution_count": null,
      "outputs": []
    },
    {
      "cell_type": "code",
      "metadata": {
        "id": "YqgK5BvLFaU3"
      },
      "source": [
        "my_dict = {'one': 1, 'some set': {4, 2, 2}, 'a regular list': range(5)}"
      ],
      "execution_count": null,
      "outputs": []
    },
    {
      "cell_type": "markdown",
      "metadata": {
        "id": "1Rqgt29CFb4J"
      },
      "source": [
        "There is no output from the second cell, as assignment does not return anything."
      ]
    },
    {
      "cell_type": "markdown",
      "metadata": {
        "id": "ZgekhVgsC3Bu"
      },
      "source": [
        "2) You can explicitly **print** anything before the last operation, or **suppress** the output of the last operation by adding a semicolon."
      ]
    },
    {
      "cell_type": "code",
      "metadata": {
        "id": "7VKvo7dvDxBy"
      },
      "source": [
        "print(my_dict)\n",
        "my_dict['one'] * 10 + 1"
      ],
      "execution_count": null,
      "outputs": []
    },
    {
      "cell_type": "markdown",
      "metadata": {
        "id": "z2cu-vPJJL2o"
      },
      "source": [
        "## Scoping and Execution Model"
      ]
    },
    {
      "cell_type": "markdown",
      "metadata": {
        "id": "nKnGjUJvI5Gg"
      },
      "source": [
        "Notice that in the previous code cell we worked with `my_dict`, while it was defined in an even earlier cell.\n",
        "\n",
        "1) In colabs, variables defined at cell root have **global** scope.\n",
        "\n",
        "Modify `my_dict`:"
      ]
    },
    {
      "cell_type": "code",
      "metadata": {
        "id": "XETX0TevKW_h"
      },
      "source": [
        "my_dict['I\\'ve been changed!'] = True"
      ],
      "execution_count": null,
      "outputs": []
    },
    {
      "cell_type": "markdown",
      "metadata": {
        "id": "FMPTBE_HDxIH"
      },
      "source": [
        "2) Cells can be **run** in any **arbitrary order**, and global state is maintained between them.\n",
        "\n",
        "Try re-running the cell where we printed `my_dict`. You should see now  see the additional item `\"I've been changed!\": True`.\n"
      ]
    },
    {
      "cell_type": "markdown",
      "metadata": {
        "id": "wiNYzBdyLimN"
      },
      "source": [
        "3) Unintentionally reusing a global variable can lead to bugs. If all else fails, you can uncomment and run the following line to **clear all global variables**."
      ]
    },
    {
      "cell_type": "code",
      "metadata": {
        "id": "_iO10nIILkqs"
      },
      "source": [
        "# %reset -f"
      ],
      "execution_count": null,
      "outputs": []
    },
    {
      "cell_type": "markdown",
      "metadata": {
        "id": "vIVCsaGYMj1k"
      },
      "source": [
        "You will have to re-run the setup cells after."
      ]
    },
    {
      "cell_type": "markdown",
      "metadata": {
        "id": "qXw6vbMpFtFF"
      },
      "source": [
        "## Autocomplete / Documentation\n",
        "\n",
        "Code completions are displayed automatically while you are writing your code.\n",
        "\n",
        "If you find this to be annoying, you can go to:<br/>\n",
        "`Tools > Settings ... > Editor > Automatically trigger code completions` (UNCHECK).\n",
        "\n",
        "In this case, suggestions are manually invoked with the *`<TAB>`* key:\n",
        "* Pressing *`<TAB>`* after typing a prefix will show the available variables / commands.\n",
        "* Pressing *`<TAB>`* on a function parameter list will show the function documentation."
      ]
    },
    {
      "cell_type": "code",
      "metadata": {
        "id": "hwwF9RtoGMl4"
      },
      "source": [
        "direction_a, direction_b = ['UP', 'DOWN']"
      ],
      "execution_count": null,
      "outputs": []
    },
    {
      "cell_type": "markdown",
      "metadata": {
        "id": "_6WGj-j5UQ6k"
      },
      "source": [
        "Uncomment and hit *`<TAB>`* after '**dir**':"
      ]
    },
    {
      "cell_type": "code",
      "metadata": {
        "id": "CVXKeD7PkIUp"
      },
      "source": [
        "# dir"
      ],
      "execution_count": null,
      "outputs": []
    },
    {
      "cell_type": "markdown",
      "metadata": {
        "id": "Rqy-TemM4fki"
      },
      "source": [
        "Uncomment and hit *`<TAB>`* after **`print(`**:"
      ]
    },
    {
      "cell_type": "code",
      "metadata": {
        "id": "88NbgSBsVKeM"
      },
      "source": [
        "# print("
      ],
      "execution_count": null,
      "outputs": []
    },
    {
      "cell_type": "markdown",
      "metadata": {
        "id": "xUAFxf1uVkam"
      },
      "source": [
        "Alternatively, the question mark (**?**) works as a special character which gives us information about variables and functions. In this case you need to run the cell.\n",
        "\n"
      ]
    },
    {
      "cell_type": "code",
      "metadata": {
        "id": "h0nEx_NUVXbv"
      },
      "source": [
        "range?"
      ],
      "execution_count": null,
      "outputs": []
    },
    {
      "cell_type": "markdown",
      "metadata": {
        "id": "6B17wzOd8S3D"
      },
      "source": [
        "## Shortcuts\n",
        "\n",
        "The 4 most useful colab-specific shortcuts are:\n",
        "\n",
        "* `Ctrl+/` which toggles comments. Can be applied across multiple lines. **Try below.**\n",
        "* `Ctrl+M b` which creates a new code cell below the current one, placing the cursor in it.\n",
        "* `Ctrl+M -` which splits the current cell into 2 at the location of the cursor.\n",
        "* `Ctrl+M d` which deletes the current cell.\n",
        "\n",
        "There is of course a search and replace functionality as well.\n",
        "\n"
      ]
    },
    {
      "cell_type": "code",
      "metadata": {
        "id": "PJon8nGv8TM4"
      },
      "source": [
        "# print('comment')\n",
        "# print('me')\n",
        "# print('out')\n",
        "# print('in one go')"
      ],
      "execution_count": null,
      "outputs": []
    },
    {
      "cell_type": "markdown",
      "metadata": {
        "id": "dUTBihZIYC32"
      },
      "source": [
        "## Setup and Imports\n",
        "\n",
        "Python packages can and need to be imported into your colab notebook, the same way you would import them in a python script. For example, to use `numpy`, you would do"
      ]
    },
    {
      "cell_type": "code",
      "metadata": {
        "id": "Rhk-7l_dYExv"
      },
      "source": [
        "import numpy as np"
      ],
      "execution_count": null,
      "outputs": []
    },
    {
      "cell_type": "markdown",
      "metadata": {
        "id": "fQE00MVwYfej"
      },
      "source": [
        "While many packages (all packages that you will need!) can just be imported, some (e.g. `sonnet`) may not immediately be available. With colab, you can install any python package from `pip` for the duration of your connection."
      ]
    },
    {
      "cell_type": "code",
      "metadata": {
        "id": "yfP92hNwYfqv"
      },
      "source": [
        "!pip install -q dm-haiku"
      ],
      "execution_count": null,
      "outputs": []
    },
    {
      "cell_type": "markdown",
      "metadata": {
        "id": "YUQ8oIhHfgYp"
      },
      "source": [
        "You would, then, be able to call `import haiku as hk` as you normally do."
      ]
    },
    {
      "cell_type": "markdown",
      "metadata": {
        "id": "qCIXC0D6_VEm"
      },
      "source": [
        "Notice that we ran the shell command `pip` above. You can run any shell command by starting with `!`.<br/>\n",
        "There is an example below, and you can read more [here](https://colab.research.google.com/github/jakevdp/PythonDataScienceHandbook/blob/master/notebooks/01.05-IPython-And-Shell-Commands.ipynb#scrollTo=Tts2ysMs-xIz)."
      ]
    },
    {
      "cell_type": "code",
      "metadata": {
        "id": "8iCFyEUP_jpX"
      },
      "source": [
        "!ls\n",
        "!mkdir {\"test\"}\n",
        "contents = !ls\n",
        "print(contents)"
      ],
      "execution_count": null,
      "outputs": []
    },
    {
      "cell_type": "markdown",
      "metadata": {
        "id": "pWAjydYTuVUz"
      },
      "source": [
        "## Debugging\n",
        "\n",
        "You can debug code in cells with `(i)pdb` (IPython debugger).\n",
        "There are multiple options:\n",
        "\n",
        "* Create a cell containging only `%debug` *after* encountering an error.\n",
        "* Add `%%debug` as the first line of an existing cell to start debugging from the beginning.\n",
        "* Add `import pdb; pdb.set_trace()` on a line to pause execution there.\n",
        "\n",
        "Use 'n' to run the next line of code, and 'c' to resume execution."
      ]
    },
    {
      "cell_type": "markdown",
      "metadata": {
        "id": "EFTr9-pQGNB8"
      },
      "source": [
        "### Use of %debug\n"
      ]
    },
    {
      "cell_type": "code",
      "metadata": {
        "id": "cRb-UKo7GWH_"
      },
      "source": [
        "a_list = list()\n",
        "a_list['some_key'] = 4"
      ],
      "execution_count": null,
      "outputs": []
    },
    {
      "cell_type": "code",
      "metadata": {
        "id": "-UvYB2Y-GV2M"
      },
      "source": [
        "%debug"
      ],
      "execution_count": null,
      "outputs": []
    },
    {
      "cell_type": "markdown",
      "metadata": {
        "id": "fu9KuBnFGWzq"
      },
      "source": [
        "### Use of %%debug"
      ]
    },
    {
      "cell_type": "code",
      "metadata": {
        "id": "uyzsDJwGq_Dy"
      },
      "source": [
        "%%debug\n",
        "print('Let me get started.')\n",
        "message = 'We are almost done.'\n",
        "print('You can see the global variables, step through code, etc.')"
      ],
      "execution_count": null,
      "outputs": []
    },
    {
      "cell_type": "markdown",
      "metadata": {
        "id": "d1ZsQaxZGZ7W"
      },
      "source": [
        "### Use of pdb"
      ]
    },
    {
      "cell_type": "code",
      "metadata": {
        "id": "_tQM1XFNFooh"
      },
      "source": [
        "print('Let me get started.')\n",
        "message = 'We are almost done.'\n",
        "import pdb; pdb.set_trace()\n",
        "print('You can see the global variables, step through code, etc.')"
      ],
      "execution_count": null,
      "outputs": []
    },
    {
      "cell_type": "markdown",
      "metadata": {
        "id": "tiSKbgPe9hqI"
      },
      "source": [
        "## Forms\n",
        "\n",
        "With colab it is easy to take input from the user in code cells through so called forms. A simplest example is shown below."
      ]
    },
    {
      "cell_type": "code",
      "metadata": {
        "id": "Gu30itgd97l7"
      },
      "source": [
        "# @title This text shows up as a title.\n",
        "\n",
        "a = 2  # @param {type: 'integer'}\n",
        "b = 3  # @param\n",
        "\n",
        "print('a+b =', str(a+b))"
      ],
      "execution_count": null,
      "outputs": []
    },
    {
      "cell_type": "markdown",
      "metadata": {
        "id": "_-w9fM9BcUBS"
      },
      "source": [
        "In order to expose a variable as parameter you just add `#@param` after it.\n",
        "\n",
        "You can use the GUI on othe right hand side to change parameters values and types.<br/> **Try setting the value of a=5 and rerun the cell above.**\n",
        "\n",
        "You can read more about this on the official starting colab.\n"
      ]
    },
    {
      "cell_type": "markdown",
      "metadata": {
        "id": "XdQo7XSl-4wm"
      },
      "source": [
        "\n",
        "Cells with forms allow you to toggle whether either of these are visible:\n",
        "\n",
        "* the code,\n",
        "* the form,\n",
        "* or both\n",
        "\n",
        "**Try switching between these 3 options for the above cell.** This is how you do this:\n",
        "\n",
        "1. Click anywhere over the area of the cell with the form to highlight it.\n",
        "2. Click on the \"three vertically arranged dots\" icong in the top right of the cell.\n",
        "3. Go to \"Form >\", select your desired action."
      ]
    },
    {
      "cell_type": "markdown",
      "metadata": {
        "id": "SZKTwLixhlc5"
      },
      "source": [
        "## Guided exercise: write a decoder for a text encoder\n",
        "\n",
        "We defined a (very) simple text encoding function in ``encode()``.<br/>\n",
        "Your job is to understand it, and write the corresponding decoder in ``decode()``, so that **`text == decoder(encoder(text))`**.\n"
      ]
    },
    {
      "cell_type": "code",
      "metadata": {
        "id": "dJrw_uFKhqCh",
        "cellView": "code"
      },
      "source": [
        "# Code\n",
        "laws = \"\"\"\n",
        "1. A robot may not injure a human being or,\n",
        "    through inaction, allow a human being to come to harm.\n",
        "2. A robot must obey orders given it by human\n",
        "    beings except where such orders would conflict with the First Law.\n",
        "3. A robot must protect its own existence as\n",
        "    long as such protection does not conflict with the First or Second Law.\n",
        "\"\"\"\n",
        "\n",
        "\n",
        "def encode(plain_text):\n",
        "    new_letters = [chr(ord(letter)+1) for letter in plain_text]\n",
        "    return ''.join(new_letters)\n",
        "\n",
        "\n",
        "def decode(encoded_text):\n",
        "    ### Your Code Here ###\n",
        "    return decoded_text"
      ],
      "execution_count": null,
      "outputs": []
    },
    {
      "cell_type": "code",
      "metadata": {
        "id": "4X3bhmgLolXZ"
      },
      "source": [
        "# Basic Test\n",
        "\n",
        "encoded_text = encode(laws)\n",
        "print('The encoded text:')\n",
        "print(encoded_text)\n",
        "assert encoded_text != laws, (\n",
        "    'The encoded text should be different from the original')\n",
        "print()\n",
        "\n",
        "# decoded_text = decode(encoded_text)\n",
        "# print('The decoded text:')\n",
        "# print(decoded_text)\n",
        "# assert decoded_text == laws, (\n",
        "#     'The decoded text should be the same as the original')"
      ],
      "execution_count": null,
      "outputs": []
    },
    {
      "cell_type": "code",
      "metadata": {
        "id": "odNeTetkrS2x",
        "cellView": "form"
      },
      "source": [
        "# @title Solution\n",
        "\n",
        "# def encode(plain_text):\n",
        "#     new_letters = [chr(ord(letter)+1) for letter in plain_text]\n",
        "#     return ''.join(new_letters)\n",
        "\n",
        "\n",
        "# def decode(encoded_text):\n",
        "#     new_letters = [chr(ord(letter)-1) for letter in encoded_text]\n",
        "#     return ''.join(new_letters)"
      ],
      "execution_count": null,
      "outputs": []
    },
    {
      "cell_type": "markdown",
      "metadata": {
        "id": "B6g2I-twVvp5"
      },
      "source": [
        "## Some additional tips\n",
        "\n",
        "* You can access an outline of the colab by clicking the arrow on the right hand side.\n",
        "* The [official colab landing colab](https://colab.sandbox.google.com/notebooks/welcome.ipynb) has some more examples and info as well."
      ]
    }
  ]
}