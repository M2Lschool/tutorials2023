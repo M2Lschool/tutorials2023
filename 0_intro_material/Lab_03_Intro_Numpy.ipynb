{
  "nbformat": 4,
  "nbformat_minor": 0,
  "metadata": {
    "colab": {
      "name": "Lab_03_Intro_Numpy.ipynb",
      "provenance": [],
      "collapsed_sections": []
    },
    "kernelspec": {
      "display_name": "Python 3",
      "language": "python",
      "name": "python3"
    },
    "language_info": {
      "codemirror_mode": {
        "name": "ipython",
        "version": 3
      },
      "file_extension": ".py",
      "mimetype": "text/x-python",
      "name": "python",
      "nbconvert_exporter": "python",
      "pygments_lexer": "ipython3",
      "version": "3.8.5"
    }
  },
  "cells": [
    {
      "cell_type": "markdown",
      "metadata": {
        "id": "TK_s931vVvwi"
      },
      "source": [
        "# Numpy\n",
        "\n",
        "\" NumPy is the fundamental package for scientific computing with Python.  It contains among other things:\n",
        "\n",
        "* a powerful N-dimensional array object\n",
        "* sophisticated (broadcasting) functions\n",
        "* useful linear algebra, Fourier transform, and random number capabilities \"\n",
        "\n",
        "\n",
        "-- From the [NumPy](http://www.numpy.org/) landing page.\n",
        "\n"
      ]
    },
    {
      "cell_type": "markdown",
      "metadata": {
        "id": "kVwjoPsFGgbH"
      },
      "source": [
        "Before learning about numpy, we introduce..\n",
        "\n",
        "### The NXOR Function\n",
        "\n",
        "Many of the exercises involve working with the  $\\mathrm{NXOR} \\colon \\; [-1, 1]^2  \\rightarrow \\{-1, +1\\}$ function defined as \n",
        "\n",
        "$$ (x_1, x_2) \\longmapsto \\mathrm{sgn}(x_1 \\cdot x_2) .$$\n",
        "\n",
        "where for $x_1 \\cdot x_2 = 0$ we let $\\mathrm{NXOR}(x_1, x_2) = -1$.\n",
        "\n",
        "We can visualize this function as\n",
        "\n",
        "![A set of points in \\[-1, +1\\]^2 with green and red markers denoting the value assigned to them by the NXOR function](https://github.com/tmlss2018/PracticalSessions/blob/master/assets/nxor_labels.png?raw=true)\n",
        "\n",
        "where each point in $ [-1, 1]^2$ is marked by green (+1) or red (-1) according to the value assigned to it by the NXOR function.\n",
        "\n",
        "\n"
      ]
    },
    {
      "cell_type": "markdown",
      "metadata": {
        "id": "9HfKNF9JG3Sg"
      },
      "source": [
        "\n",
        "Over the course of the intro lab exercises we will\n",
        "\n",
        "1. Generate such data with numpy.\n",
        "2. Create the plot above with matplotlib.\n",
        "3. Train a model to learn this function.\n"
      ]
    },
    {
      "cell_type": "markdown",
      "metadata": {
        "id": "psAhyeala4Qa"
      },
      "source": [
        "### Setup and imports. Run the following cell."
      ]
    },
    {
      "cell_type": "code",
      "metadata": {
        "id": "jJmfT0IMa494"
      },
      "source": [
        "import numpy as np"
      ],
      "execution_count": 1,
      "outputs": []
    },
    {
      "cell_type": "markdown",
      "metadata": {
        "id": "209T8819ws6R"
      },
      "source": [
        "### Random numbers in numpy"
      ]
    },
    {
      "cell_type": "code",
      "metadata": {
        "colab": {
          "base_uri": "https://localhost:8080/"
        },
        "id": "HPoRLRxdwyHs",
        "outputId": "8ab46604-035f-4ade-93a9-9bd699bba33f"
      },
      "source": [
        "np.random.random((3, 2))  # Array of shape (3, 2), entries uniform in [0, 1)."
      ],
      "execution_count": 2,
      "outputs": [
        {
          "output_type": "execute_result",
          "data": {
            "text/plain": [
              "array([[0.24979127, 0.59265351],\n",
              "       [0.33590299, 0.1185103 ],\n",
              "       [0.58447674, 0.26072642]])"
            ]
          },
          "metadata": {
            "tags": []
          },
          "execution_count": 2
        }
      ]
    },
    {
      "cell_type": "markdown",
      "metadata": {
        "id": "d1xeqjN_eGrM"
      },
      "source": [
        "Note that (as usual in computing) numpy produces pseudo-random numbers based on a seed, or more precisely a random state. In order to make random sequences and calculations based on reproducible, use\n",
        "\n",
        "* the [`np.random.seed()`](https://docs.scipy.org/doc/numpy/reference/generated/numpy.random.seed.html) function to set the default global seed, or\n",
        "* the [`np.random.RandomState`](https://docs.scipy.org/doc/numpy/reference/generated/numpy.random.RandomState.html) class which is a container for a pseudo-random number generator and exposes methods for generating random numbers.\n"
      ]
    },
    {
      "cell_type": "code",
      "metadata": {
        "colab": {
          "base_uri": "https://localhost:8080/"
        },
        "id": "knUtcFWoFqK0",
        "outputId": "d454fca2-dbc5-4fc1-ca45-599baa0640f4"
      },
      "source": [
        "np.random.seed(0)\n",
        "print(np.random.random(2))\n",
        "# Reset the global random state to the same state.\n",
        "np.random.seed(0)\n",
        "print(np.random.random(2))"
      ],
      "execution_count": 3,
      "outputs": [
        {
          "output_type": "stream",
          "text": [
            "[0.5488135  0.71518937]\n",
            "[0.5488135  0.71518937]\n"
          ],
          "name": "stdout"
        }
      ]
    },
    {
      "cell_type": "markdown",
      "metadata": {
        "id": "Tz435THaxePN"
      },
      "source": [
        "### Numpy Array Operations 1\n",
        "\n",
        "There are a large number of operations you can run on any numpy array. Here we showcase some common ones."
      ]
    },
    {
      "cell_type": "code",
      "metadata": {
        "colab": {
          "base_uri": "https://localhost:8080/"
        },
        "id": "YZbsqkyXxgUo",
        "outputId": "5d0a5c64-93df-4614-d693-d02cbf4a970f"
      },
      "source": [
        "# Create one from hard-coded data:\n",
        "ar = np.array([\n",
        "    [0.0, 0.2],\n",
        "    [0.9, 0.5],\n",
        "    [0.3, 0.7],\n",
        "], dtype=np.float64)  # float64 is the default.\n",
        "\n",
        "print('The array:\\n', ar)\n",
        "print()\n",
        "\n",
        "print('data type', ar.dtype)\n",
        "print('transpose\\n', ar.T)\n",
        "print('shape', ar.shape)\n",
        "print('reshaping an array', ar.reshape((6)))"
      ],
      "execution_count": 4,
      "outputs": [
        {
          "output_type": "stream",
          "text": [
            "The array:\n",
            " [[0.  0.2]\n",
            " [0.9 0.5]\n",
            " [0.3 0.7]]\n",
            "\n",
            "data type float64\n",
            "transpose\n",
            " [[0.  0.9 0.3]\n",
            " [0.2 0.5 0.7]]\n",
            "shape (3, 2)\n",
            "reshaping an array [0.  0.2 0.9 0.5 0.3 0.7]\n"
          ],
          "name": "stdout"
        }
      ]
    },
    {
      "cell_type": "markdown",
      "metadata": {
        "id": "s5wC8i8_4WBf"
      },
      "source": [
        "Many numpy operations are available both as np module functions as well as array methods. For example, we can also reshape as"
      ]
    },
    {
      "cell_type": "code",
      "metadata": {
        "colab": {
          "base_uri": "https://localhost:8080/"
        },
        "id": "AjGy5myl4jxo",
        "outputId": "ca4e1bbd-8835-47d8-bb61-3259ae702534"
      },
      "source": [
        "print('reshape v2', np.reshape(ar, (6, 1)))"
      ],
      "execution_count": 5,
      "outputs": [
        {
          "output_type": "stream",
          "text": [
            "reshape v2 [[0. ]\n",
            " [0.2]\n",
            " [0.9]\n",
            " [0.5]\n",
            " [0.3]\n",
            " [0.7]]\n"
          ],
          "name": "stdout"
        }
      ]
    },
    {
      "cell_type": "markdown",
      "metadata": {
        "id": "Tt4G37QAGWl4"
      },
      "source": [
        "### Numpy Indexing and selectors\n",
        "\n",
        "Here are some basic indexing examples from numpy."
      ]
    },
    {
      "cell_type": "code",
      "metadata": {
        "colab": {
          "base_uri": "https://localhost:8080/"
        },
        "id": "4Bbdmb0BGXPc",
        "outputId": "d473b981-9993-4aae-fdb3-068c3d8961f8"
      },
      "source": [
        "ar"
      ],
      "execution_count": 6,
      "outputs": [
        {
          "output_type": "execute_result",
          "data": {
            "text/plain": [
              "array([[0. , 0.2],\n",
              "       [0.9, 0.5],\n",
              "       [0.3, 0.7]])"
            ]
          },
          "metadata": {
            "tags": []
          },
          "execution_count": 6
        }
      ]
    },
    {
      "cell_type": "code",
      "metadata": {
        "colab": {
          "base_uri": "https://localhost:8080/"
        },
        "id": "6lk0NQGGGpRK",
        "outputId": "a437878d-6641-426f-a06b-7329537a2117"
      },
      "source": [
        "ar[0, 1]  # row, column"
      ],
      "execution_count": 7,
      "outputs": [
        {
          "output_type": "execute_result",
          "data": {
            "text/plain": [
              "0.2"
            ]
          },
          "metadata": {
            "tags": []
          },
          "execution_count": 7
        }
      ]
    },
    {
      "cell_type": "code",
      "metadata": {
        "colab": {
          "base_uri": "https://localhost:8080/"
        },
        "id": "Eh1zKgqMGpa-",
        "outputId": "d8c9ee03-0f4e-4f87-e536-d22606fcfee9"
      },
      "source": [
        "ar[:, 1]  # slices: select all elements across the first (0th) axis."
      ],
      "execution_count": 8,
      "outputs": [
        {
          "output_type": "execute_result",
          "data": {
            "text/plain": [
              "array([0.2, 0.5, 0.7])"
            ]
          },
          "metadata": {
            "tags": []
          },
          "execution_count": 8
        }
      ]
    },
    {
      "cell_type": "code",
      "metadata": {
        "colab": {
          "base_uri": "https://localhost:8080/"
        },
        "id": "QVo9SdiWSZqn",
        "outputId": "c1f9291b-7c54-4ac6-d08a-ada8db0e518b"
      },
      "source": [
        "ar[1:2, 1]  # slices with syntax from:to, selecting [from, to)."
      ],
      "execution_count": 9,
      "outputs": [
        {
          "output_type": "execute_result",
          "data": {
            "text/plain": [
              "array([0.5])"
            ]
          },
          "metadata": {
            "tags": []
          },
          "execution_count": 9
        }
      ]
    },
    {
      "cell_type": "code",
      "metadata": {
        "colab": {
          "base_uri": "https://localhost:8080/"
        },
        "id": "n64DQFr7Subs",
        "outputId": "c11d3ff2-52f1-4abb-800b-7c415a4fd6f0"
      },
      "source": [
        "ar[1:, 1]  # Omit `to` to go all the way to the end"
      ],
      "execution_count": 10,
      "outputs": [
        {
          "output_type": "execute_result",
          "data": {
            "text/plain": [
              "array([0.5, 0.7])"
            ]
          },
          "metadata": {
            "tags": []
          },
          "execution_count": 10
        }
      ]
    },
    {
      "cell_type": "code",
      "metadata": {
        "colab": {
          "base_uri": "https://localhost:8080/"
        },
        "id": "Uq7bmNPVTD2B",
        "outputId": "21d0fb40-031e-49aa-a9ed-27144ff80433"
      },
      "source": [
        "ar[:2, 1]  # Omit `from` to start from the beginning"
      ],
      "execution_count": 11,
      "outputs": [
        {
          "output_type": "execute_result",
          "data": {
            "text/plain": [
              "array([0.2, 0.5])"
            ]
          },
          "metadata": {
            "tags": []
          },
          "execution_count": 11
        }
      ]
    },
    {
      "cell_type": "code",
      "metadata": {
        "colab": {
          "base_uri": "https://localhost:8080/"
        },
        "id": "uJ7A1vVWTKQc",
        "outputId": "bb487b04-2175-478e-e17f-2e8213529eba"
      },
      "source": [
        "ar[0:-1, 1]  # Use negative indexing to count elements from the back."
      ],
      "execution_count": 12,
      "outputs": [
        {
          "output_type": "execute_result",
          "data": {
            "text/plain": [
              "array([0.2, 0.5])"
            ]
          },
          "metadata": {
            "tags": []
          },
          "execution_count": 12
        }
      ]
    },
    {
      "cell_type": "markdown",
      "metadata": {
        "id": "CVizP583IolT"
      },
      "source": [
        "We can also pass boolean arrays as indices. These will exactly define which elements to select."
      ]
    },
    {
      "cell_type": "code",
      "metadata": {
        "colab": {
          "base_uri": "https://localhost:8080/"
        },
        "id": "-91q2Si7IBGN",
        "outputId": "14d3d425-6f71-4a37-e7e3-70e20040f0bf"
      },
      "source": [
        "ar[np.array([\n",
        "    [True, False],\n",
        "    [False, True],\n",
        "    [True, False],\n",
        "])]"
      ],
      "execution_count": 13,
      "outputs": [
        {
          "output_type": "execute_result",
          "data": {
            "text/plain": [
              "array([0. , 0.5, 0.3])"
            ]
          },
          "metadata": {
            "tags": []
          },
          "execution_count": 13
        }
      ]
    },
    {
      "cell_type": "markdown",
      "metadata": {
        "id": "g9VttyKZI2aX"
      },
      "source": [
        "Boolean arrays can be created with logical operations, then used as selectors. Logical operators apply elementwise."
      ]
    },
    {
      "cell_type": "code",
      "metadata": {
        "colab": {
          "base_uri": "https://localhost:8080/"
        },
        "id": "KyH_50JVIWOK",
        "outputId": "0e8d76b8-8ff5-41f7-bd57-b0616b74c9af"
      },
      "source": [
        "ar_2 = np.array([   # Nearly the same as ar\n",
        "    [0.0, 0.1],\n",
        "    [0.9, 0.5],\n",
        "    [0.0, 0.7],\n",
        "])\n",
        "\n",
        "# Where ar_2 is smaller than ar, let ar_2 be -inf.\n",
        "ar_2[ar_2 < ar] = -np.inf\n",
        "ar_2"
      ],
      "execution_count": 14,
      "outputs": [
        {
          "output_type": "execute_result",
          "data": {
            "text/plain": [
              "array([[ 0. , -inf],\n",
              "       [ 0.9,  0.5],\n",
              "       [-inf,  0.7]])"
            ]
          },
          "metadata": {
            "tags": []
          },
          "execution_count": 14
        }
      ]
    },
    {
      "cell_type": "markdown",
      "metadata": {
        "id": "-GwBK4LJGpjK"
      },
      "source": [
        "### Numpy Operations 2"
      ]
    },
    {
      "cell_type": "code",
      "metadata": {
        "colab": {
          "base_uri": "https://localhost:8080/"
        },
        "id": "gHElhCDy4SrG",
        "outputId": "cc2f8875-9ef7-419b-c567-8d4528f9adbf"
      },
      "source": [
        "print('array:\\n', ar)\n",
        "print()\n",
        "\n",
        "print('sum across axis 0 (rows):', ar.sum(axis=0))\n",
        "print('mean', ar.mean())\n",
        "print('min', ar.min())\n",
        "print('row-wise min', ar.min(axis=1))"
      ],
      "execution_count": 15,
      "outputs": [
        {
          "output_type": "stream",
          "text": [
            "array:\n",
            " [[0.  0.2]\n",
            " [0.9 0.5]\n",
            " [0.3 0.7]]\n",
            "\n",
            "sum across axis 0 (rows): [1.2 1.4]\n",
            "mean 0.43333333333333335\n",
            "min 0.0\n",
            "row-wise min [0.  0.5 0.3]\n"
          ],
          "name": "stdout"
        }
      ]
    },
    {
      "cell_type": "markdown",
      "metadata": {
        "id": "bSNi0aLs03J1"
      },
      "source": [
        "We can also take element-wise minimums between two arrays.\n",
        "\n",
        "We may want to do this when \"clipping\" values in a matrix, that is, setting any values larger than, say, 0.6, to 0.6. We would do this in numpy with..\n",
        "\n",
        "### Broadcasting (and selectors)"
      ]
    },
    {
      "cell_type": "code",
      "metadata": {
        "colab": {
          "base_uri": "https://localhost:8080/"
        },
        "id": "GLCN0umLxuLv",
        "outputId": "1ed6704a-d63a-4230-9ce7-c27e7a2816ca"
      },
      "source": [
        "np.minimum(ar, 0.6)"
      ],
      "execution_count": 16,
      "outputs": [
        {
          "output_type": "execute_result",
          "data": {
            "text/plain": [
              "array([[0. , 0.2],\n",
              "       [0.6, 0.5],\n",
              "       [0.3, 0.6]])"
            ]
          },
          "metadata": {
            "tags": []
          },
          "execution_count": 16
        }
      ]
    },
    {
      "cell_type": "markdown",
      "metadata": {
        "id": "Kmq7Yf_73GgC"
      },
      "source": [
        "Numpy automatically turns the scalar 0.6 into an array the same size as `ar` in order to take element-wise minimum.\n",
        "\n"
      ]
    },
    {
      "cell_type": "markdown",
      "metadata": {
        "id": "vkM1cL-pBrEE"
      },
      "source": [
        "Broadcasting can save us a lot of typing, but in complicated cases it may require a good understanding of the exact rules followed.\n",
        "\n",
        "Some references:\n",
        "\n",
        "* [Numpy page that explains broadcasting](https://docs.scipy.org/doc/numpy-1.13.0/user/basics.broadcasting.html)\n",
        "* [Similar content with some visualizations](http://scipy.github.io/old-wiki/pages/EricsBroadcastingDoc)\n",
        "\n",
        "Here we follow with a selection of other useful broadcasting examples.\n"
      ]
    },
    {
      "cell_type": "code",
      "metadata": {
        "colab": {
          "base_uri": "https://localhost:8080/"
        },
        "id": "S52hBSnG5JRa",
        "outputId": "901e7125-95ee-41f4-e635-e965f7d5a17e"
      },
      "source": [
        "# Centering our array.\n",
        "print('centered array:\\n', ar - np.mean(ar))"
      ],
      "execution_count": 17,
      "outputs": [
        {
          "output_type": "stream",
          "text": [
            "centered array:\n",
            " [[-0.43333333 -0.23333333]\n",
            " [ 0.46666667  0.06666667]\n",
            " [-0.13333333  0.26666667]]\n"
          ],
          "name": "stdout"
        }
      ]
    },
    {
      "cell_type": "markdown",
      "metadata": {
        "id": "mS5IDFrA6ig3"
      },
      "source": [
        "Note that `np.mean()` was a scalar, but it is automatically subtracted from every element.\n"
      ]
    },
    {
      "cell_type": "markdown",
      "metadata": {
        "id": "KzlVmOY_FPhQ"
      },
      "source": [
        "We can write the minimum function ourselves, as well."
      ]
    },
    {
      "cell_type": "code",
      "metadata": {
        "colab": {
          "base_uri": "https://localhost:8080/"
        },
        "id": "zatGgBsOFNdF",
        "outputId": "b8f3f370-9a28-4f97-c7b1-018830ad88ca"
      },
      "source": [
        "clipped_ar = ar.copy()  # So that ar is not modified.\n",
        "clipped_ar[clipped_ar > 0.6] = 0.6\n",
        "clipped_ar"
      ],
      "execution_count": 18,
      "outputs": [
        {
          "output_type": "execute_result",
          "data": {
            "text/plain": [
              "array([[0. , 0.2],\n",
              "       [0.6, 0.5],\n",
              "       [0.3, 0.6]])"
            ]
          },
          "metadata": {
            "tags": []
          },
          "execution_count": 18
        }
      ]
    },
    {
      "cell_type": "markdown",
      "metadata": {
        "id": "SnDqUDgtFyF5"
      },
      "source": [
        "A few things happened here:\n",
        "\n",
        "1. 0.6 was broadcast in for the greater than (>) operation\n",
        "2. The greater than operation defined a selector, selecting a subset of the elements of the array\n",
        "3. 0.6 was broadcast to the right number of elements for assignment."
      ]
    },
    {
      "cell_type": "markdown",
      "metadata": {
        "id": "QzLtiYXUFN5P"
      },
      "source": [
        "Vectors may also be broadcast into matrices."
      ]
    },
    {
      "cell_type": "code",
      "metadata": {
        "colab": {
          "base_uri": "https://localhost:8080/"
        },
        "id": "n2gv3YVf5JZL",
        "outputId": "19801a00-5678-4d96-a9b8-99ce9b4b9a9e"
      },
      "source": [
        "vec = np.array([1, 2])\n",
        "ar + vec"
      ],
      "execution_count": 19,
      "outputs": [
        {
          "output_type": "execute_result",
          "data": {
            "text/plain": [
              "array([[1. , 2.2],\n",
              "       [1.9, 2.5],\n",
              "       [1.3, 2.7]])"
            ]
          },
          "metadata": {
            "tags": []
          },
          "execution_count": 19
        }
      ]
    },
    {
      "cell_type": "markdown",
      "metadata": {
        "id": "7ehzlV8J75ar"
      },
      "source": [
        "Here the shapes of the involved arrays are:\n",
        "```\n",
        "ar     (2d array):  2 x 2\n",
        "vec    (1d array):      2\n",
        "Result (2d array):  2 x 2\n",
        "```\n",
        "\n",
        "When either of the dimensions compared is one (even implicitly, like in the case of `vec`), the other is used. In other words, dimensions with size 1 are stretched or “copied” to match the other.\n",
        "\n",
        "Here, this meant that the `[1, 2]` row was repeated to match the number of rows in `ar`, then added together.\n"
      ]
    },
    {
      "cell_type": "markdown",
      "metadata": {
        "id": "bBLjzt84A2ZL"
      },
      "source": [
        "If there is a shape mismatch, you will be informed. To try, uncomment the line below and run it."
      ]
    },
    {
      "cell_type": "code",
      "metadata": {
        "id": "sViqTRjXAWhN"
      },
      "source": [
        "# ar + np.array([[1, 2, 3]])"
      ],
      "execution_count": 20,
      "outputs": []
    },
    {
      "cell_type": "markdown",
      "metadata": {
        "id": "K4pvND75AWuG"
      },
      "source": [
        "#### Exercise\n",
        "\n",
        "Broadcast and add the vector `[10, 20, 30]` across the columns of `ar`. \n",
        "\n",
        "You should get \n",
        "```\n",
        "array([[10. , 10.2],\n",
        "       [20.9, 20.5],\n",
        "       [30.3, 30.7]])\n",
        " ```\n"
      ]
    },
    {
      "cell_type": "code",
      "metadata": {
        "id": "AgnJiYHm_ENT"
      },
      "source": [
        "# @title Code\n",
        "\n",
        "# Recall that you can use vec.shape to verify that your array has the\n",
        "# shape you expect.\n",
        "\n",
        "### Your code here ###"
      ],
      "execution_count": 21,
      "outputs": []
    },
    {
      "cell_type": "code",
      "metadata": {
        "cellView": "form",
        "colab": {
          "base_uri": "https://localhost:8080/"
        },
        "id": "gS1X9kt6_pLW",
        "outputId": "1e8e05f5-1a52-446d-a522-99880417c119"
      },
      "source": [
        "# @title Solution\n",
        "\n",
        "vec = np.array([[10], [20], [30]])\n",
        "ar + vec"
      ],
      "execution_count": 22,
      "outputs": [
        {
          "output_type": "execute_result",
          "data": {
            "text/plain": [
              "array([[10. , 10.2],\n",
              "       [20.9, 20.5],\n",
              "       [30.3, 30.7]])"
            ]
          },
          "metadata": {
            "tags": []
          },
          "execution_count": 22
        }
      ]
    },
    {
      "cell_type": "markdown",
      "metadata": {
        "id": "ZHGWztEX99vd"
      },
      "source": [
        "### `np.newaxis`\n",
        "\n",
        "We can use another numpy feature, `np.newaxis` to simply form the column vector that was required for the example above. It adds a singleton dimension to arrays at the desired location:"
      ]
    },
    {
      "cell_type": "code",
      "metadata": {
        "colab": {
          "base_uri": "https://localhost:8080/"
        },
        "id": "ac9tsc4e5JhA",
        "outputId": "1bfc04ba-69d1-4acd-e35c-fabfe7c0ec49"
      },
      "source": [
        "vec = np.array([1, 2])\n",
        "vec.shape"
      ],
      "execution_count": 23,
      "outputs": [
        {
          "output_type": "execute_result",
          "data": {
            "text/plain": [
              "(2,)"
            ]
          },
          "metadata": {
            "tags": []
          },
          "execution_count": 23
        }
      ]
    },
    {
      "cell_type": "code",
      "metadata": {
        "colab": {
          "base_uri": "https://localhost:8080/"
        },
        "id": "WpG-B92VCNAL",
        "outputId": "f817123e-6130-4cf2-9540-879c28f13e1d"
      },
      "source": [
        "vec[np.newaxis, :].shape"
      ],
      "execution_count": 24,
      "outputs": [
        {
          "output_type": "execute_result",
          "data": {
            "text/plain": [
              "(1, 2)"
            ]
          },
          "metadata": {
            "tags": []
          },
          "execution_count": 24
        }
      ]
    },
    {
      "cell_type": "code",
      "metadata": {
        "colab": {
          "base_uri": "https://localhost:8080/"
        },
        "id": "YdbrkV1OCz8V",
        "outputId": "474f5777-27dc-468d-9b3c-094c17020a81"
      },
      "source": [
        "vec[:, np.newaxis].shape"
      ],
      "execution_count": 25,
      "outputs": [
        {
          "output_type": "execute_result",
          "data": {
            "text/plain": [
              "(2, 1)"
            ]
          },
          "metadata": {
            "tags": []
          },
          "execution_count": 25
        }
      ]
    },
    {
      "cell_type": "markdown",
      "metadata": {
        "id": "KQZcrYaJxOOR"
      },
      "source": [
        "Now you know more than enough to generate some example data for our `NXOR` function.\n",
        "\n",
        "\n",
        "### Exercise: Generate Data for NXOR\n",
        "\n",
        "Write a function `get_data(num_examples)` that returns two numpy arrays\n",
        "\n",
        "* `inputs` of shape  `num_examples x 2` with points selected uniformly from the $[-1, 1]^2$ domain.\n",
        "* `labels` of shape `num_examples` with the associated output of `NXOR`."
      ]
    },
    {
      "cell_type": "code",
      "metadata": {
        "id": "SlZD-vcTVv-t"
      },
      "source": [
        "# @title Code\n",
        "\n",
        "def get_data(num_examples):\n",
        "    # Replace with your code.\n",
        "    return np.zeros((num_examples, 2)), np.zeros((num_examples))"
      ],
      "execution_count": 26,
      "outputs": []
    },
    {
      "cell_type": "code",
      "metadata": {
        "cellView": "form",
        "id": "JWHBltJ7fimG"
      },
      "source": [
        "# @title Solution\n",
        "\n",
        "# Solution 1.\n",
        "def get_data(num_examples):\n",
        "    inputs = 2*np.random.random((num_examples, 2)) - 1\n",
        "    labels = np.prod(inputs, axis=1)\n",
        "    labels[labels <= 0] = -1\n",
        "    labels[labels > 0] = 1\n",
        "    return inputs, labels\n",
        "\n",
        "# Solution 1.\n",
        "# def get_data(num_examples):\n",
        "#   inputs = 2*np.random.random((num_examples, 2)) - 1\n",
        "#   labels = np.sign(np.prod(inputs, axis=1))\n",
        "#   labels[labels == 0] = -1\n",
        "#   return inputs, labels"
      ],
      "execution_count": 27,
      "outputs": []
    },
    {
      "cell_type": "code",
      "metadata": {
        "colab": {
          "base_uri": "https://localhost:8080/"
        },
        "id": "8HhjadmmvZyc",
        "outputId": "8ac3d30a-d8a4-4577-b76a-9fdd65cfe422"
      },
      "source": [
        "get_data(4)"
      ],
      "execution_count": 28,
      "outputs": [
        {
          "output_type": "execute_result",
          "data": {
            "text/plain": [
              "(array([[ 0.20552675,  0.08976637],\n",
              "        [-0.1526904 ,  0.29178823],\n",
              "        [-0.12482558,  0.783546  ],\n",
              "        [ 0.92732552, -0.23311696]]), array([ 1., -1., -1., -1.]))"
            ]
          },
          "metadata": {
            "tags": []
          },
          "execution_count": 28
        }
      ]
    },
    {
      "cell_type": "markdown",
      "metadata": {
        "id": "IQ0Ip-SVb3Nc"
      },
      "source": [
        "## That's all, folks!\n",
        "\n",
        "For now."
      ]
    }
  ]
}