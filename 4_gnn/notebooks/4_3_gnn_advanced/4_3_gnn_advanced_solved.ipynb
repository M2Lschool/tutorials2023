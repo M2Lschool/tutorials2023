{
 "cells": [
  {
   "cell_type": "markdown",
   "metadata": {
    "id": "U-9hE8CPW0o1"
   },
   "source": [
    "# Practical 3 - Graph Classification and Link Prediction using GNNs\n",
    "---\n",
    "\n",
    "**Tutorial overview:** In this tutorial, you will learn how Graph Networks can be used to perform graph classification on the MUTAG molecule property dataset and link prediction on the CORA citation network.\n",
    "\n",
    "\n",
    "**Tutorial outline**:\n",
    "- Graph classification task with MUTAG dataset\n",
    "- Edge prediction task with CORA dataset"
   ]
  },
  {
   "cell_type": "markdown",
   "metadata": {
    "id": "jhiTC5A9YHsG"
   },
   "source": [
    "## Theory Overview"
   ]
  },
  {
   "cell_type": "markdown",
   "metadata": {
    "id": "tA1WQUycOJ5C"
   },
   "source": [
    "### Practical 1 and 2 Recap"
   ]
  },
  {
   "cell_type": "markdown",
   "metadata": {
    "id": "jCs0Eb8eYiFO"
   },
   "source": [
    "The previous practicals introduced the main components of Graph Neural Networks. Based on the understanding behind these components, we designed two GNN models from scratch: Graph Convolutional Network (GCN) and a modification that utilizes Graph Attention (GAT). In this tutorial, we see how these components make up the general Graph Network (GN) model in jraph. Furthermore, we will demonstrate how to solve different graph-related tasks using GNs on two more real-world datasets."
   ]
  },
  {
   "cell_type": "markdown",
   "metadata": {
    "id": "EJaqyvbKYKYg"
   },
   "source": [
    "### Graph Prediction Tasks\n",
    "What are the kinds of problems we want to solve on graphs?\n",
    "\n",
    "\n",
    "The tasks fall into roughly three categories:\n",
    "\n",
    "1. **Node Classification**: E.g. what is the topic of a paper given a citation network of papers? We already saw how to tackle this task in the previous practicals using the Karate Club and OGBN-Arxiv datasets.\n",
    "2. **Graph Classification**: E.g. is this protein molecule (represented as a graph) likely going to be effective? In the first half of this colab, we will build and train a GNN that precisely solves the task of predicting the property of different molecules.\n",
    "3. **Link Prediction / Edge Classification**: E.g. are two people in a social network friends? In the second half of this colab, we introduce the link prediction task and its training objectives in detail. We will build and train a GNN to predict if a paper is likely / not-likely to cite another paper.\n",
    "<center><image src=\"https://storage.googleapis.com/dm-educational/assets/graph-nets/graph_tasks.png\" width=\"700px\"></center>.\n",
    "\n",
    "*The three main graph learning tasks. Image source: Petar Veličković.*\n",
    "\n"
   ]
  },
  {
   "cell_type": "markdown",
   "metadata": {
    "id": "l1-dUkohGb5-"
   },
   "source": [
    "### Graph Network Model definition\n",
    "Graph networks (GN) framework defines a class of functions for\n",
    "relational reasoning over graph-structured representations.\n",
    "\n",
    "A GN block contains three “update” functions $\\phi$,\n",
    "mapped across all nodes, edges and graph properties to compute per-node/edge/graph updata; and three “aggregation” functions $\\rho$. We will define these  functions in the following exercises.\n",
    "\n",
    "source: https://arxiv.org/pdf/1806.01261.pdf"
   ]
  },
  {
   "cell_type": "markdown",
   "metadata": {
    "id": "LfKFaSpBd-2h"
   },
   "source": [
    "### Setup"
   ]
  },
  {
   "cell_type": "code",
   "execution_count": 1,
   "metadata": {
    "colab": {
     "base_uri": "https://localhost:8080/"
    },
    "id": "b52rWbVbeBrg",
    "outputId": "5024ec9f-7bfb-488b-f118-28298190e8af"
   },
   "outputs": [
    {
     "name": "stdout",
     "output_type": "stream",
     "text": [
      "Collecting git+https://github.com/deepmind/jraph.git\n",
      "  Cloning https://github.com/deepmind/jraph.git to /tmp/pip-req-build-6c5an_og\n",
      "  Running command git clone --filter=blob:none --quiet https://github.com/deepmind/jraph.git /tmp/pip-req-build-6c5an_og\n",
      "  Resolved https://github.com/deepmind/jraph.git to commit 51f5990104f7374492f8f3ea1cbc47feb411c69c\n",
      "  Preparing metadata (setup.py) ... \u001b[?25l\u001b[?25hdone\n",
      "Requirement already satisfied: jax>=0.1.55 in /usr/local/lib/python3.10/dist-packages (from jraph==0.0.6.dev0) (0.4.13)\n",
      "Requirement already satisfied: jaxlib>=0.1.37 in /usr/local/lib/python3.10/dist-packages (from jraph==0.0.6.dev0) (0.4.13+cuda11.cudnn86)\n",
      "Requirement already satisfied: numpy>=1.18.0 in /usr/local/lib/python3.10/dist-packages (from jraph==0.0.6.dev0) (1.22.4)\n",
      "Requirement already satisfied: ml-dtypes>=0.1.0 in /usr/local/lib/python3.10/dist-packages (from jax>=0.1.55->jraph==0.0.6.dev0) (0.2.0)\n",
      "Requirement already satisfied: opt-einsum in /usr/local/lib/python3.10/dist-packages (from jax>=0.1.55->jraph==0.0.6.dev0) (3.3.0)\n",
      "Requirement already satisfied: scipy>=1.7 in /usr/local/lib/python3.10/dist-packages (from jax>=0.1.55->jraph==0.0.6.dev0) (1.10.1)\n",
      "Building wheels for collected packages: jraph\n",
      "  Building wheel for jraph (setup.py) ... \u001b[?25l\u001b[?25hdone\n",
      "  Created wheel for jraph: filename=jraph-0.0.6.dev0-py3-none-any.whl size=91255 sha256=723b0a2c964f36bc3d83e1f70d5276c78ebdf10667b427bfb8e656f44cc7c886\n",
      "  Stored in directory: /tmp/pip-ephem-wheel-cache-qt8fbb9e/wheels/76/61/34/8fb9aa4dac00d471de4a5f7157614181de683c445fc2d640db\n",
      "Successfully built jraph\n",
      "Installing collected packages: jraph\n",
      "Successfully installed jraph-0.0.6.dev0\n",
      "Requirement already satisfied: flax in /usr/local/lib/python3.10/dist-packages (0.7.0)\n",
      "Requirement already satisfied: numpy>=1.12 in /usr/local/lib/python3.10/dist-packages (from flax) (1.22.4)\n",
      "Requirement already satisfied: jax>=0.4.2 in /usr/local/lib/python3.10/dist-packages (from flax) (0.4.13)\n",
      "Requirement already satisfied: msgpack in /usr/local/lib/python3.10/dist-packages (from flax) (1.0.5)\n",
      "Requirement already satisfied: optax in /usr/local/lib/python3.10/dist-packages (from flax) (0.1.5)\n",
      "Requirement already satisfied: orbax-checkpoint in /usr/local/lib/python3.10/dist-packages (from flax) (0.2.7)\n",
      "Requirement already satisfied: tensorstore in /usr/local/lib/python3.10/dist-packages (from flax) (0.1.40)\n",
      "Requirement already satisfied: rich>=11.1 in /usr/local/lib/python3.10/dist-packages (from flax) (13.4.2)\n",
      "Requirement already satisfied: typing-extensions>=4.1.1 in /usr/local/lib/python3.10/dist-packages (from flax) (4.7.1)\n",
      "Requirement already satisfied: PyYAML>=5.4.1 in /usr/local/lib/python3.10/dist-packages (from flax) (6.0)\n",
      "Requirement already satisfied: ml-dtypes>=0.1.0 in /usr/local/lib/python3.10/dist-packages (from jax>=0.4.2->flax) (0.2.0)\n",
      "Requirement already satisfied: opt-einsum in /usr/local/lib/python3.10/dist-packages (from jax>=0.4.2->flax) (3.3.0)\n",
      "Requirement already satisfied: scipy>=1.7 in /usr/local/lib/python3.10/dist-packages (from jax>=0.4.2->flax) (1.10.1)\n",
      "Requirement already satisfied: markdown-it-py>=2.2.0 in /usr/local/lib/python3.10/dist-packages (from rich>=11.1->flax) (3.0.0)\n",
      "Requirement already satisfied: pygments<3.0.0,>=2.13.0 in /usr/local/lib/python3.10/dist-packages (from rich>=11.1->flax) (2.14.0)\n",
      "Requirement already satisfied: absl-py>=0.7.1 in /usr/local/lib/python3.10/dist-packages (from optax->flax) (1.4.0)\n",
      "Requirement already satisfied: chex>=0.1.5 in /usr/local/lib/python3.10/dist-packages (from optax->flax) (0.1.7)\n",
      "Requirement already satisfied: jaxlib>=0.1.37 in /usr/local/lib/python3.10/dist-packages (from optax->flax) (0.4.13+cuda11.cudnn86)\n",
      "Requirement already satisfied: etils[epath,epy] in /usr/local/lib/python3.10/dist-packages (from orbax-checkpoint->flax) (1.3.0)\n",
      "Requirement already satisfied: nest_asyncio in /usr/local/lib/python3.10/dist-packages (from orbax-checkpoint->flax) (1.5.6)\n",
      "Requirement already satisfied: protobuf in /usr/local/lib/python3.10/dist-packages (from orbax-checkpoint->flax) (3.20.3)\n",
      "Requirement already satisfied: dm-tree>=0.1.5 in /usr/local/lib/python3.10/dist-packages (from chex>=0.1.5->optax->flax) (0.1.8)\n",
      "Requirement already satisfied: toolz>=0.9.0 in /usr/local/lib/python3.10/dist-packages (from chex>=0.1.5->optax->flax) (0.12.0)\n",
      "Requirement already satisfied: mdurl~=0.1 in /usr/local/lib/python3.10/dist-packages (from markdown-it-py>=2.2.0->rich>=11.1->flax) (0.1.2)\n",
      "Requirement already satisfied: importlib_resources in /usr/local/lib/python3.10/dist-packages (from etils[epath,epy]->orbax-checkpoint->flax) (6.0.0)\n",
      "Requirement already satisfied: zipp in /usr/local/lib/python3.10/dist-packages (from etils[epath,epy]->orbax-checkpoint->flax) (3.16.1)\n",
      "Collecting dm-haiku\n",
      "  Downloading dm_haiku-0.0.10-py3-none-any.whl (360 kB)\n",
      "\u001b[2K     \u001b[90m━━━━━━━━━━━━━━━━━━━━━━━━━━━━━━━━━━━━━━━\u001b[0m \u001b[32m360.3/360.3 kB\u001b[0m \u001b[31m5.4 MB/s\u001b[0m eta \u001b[36m0:00:00\u001b[0m\n",
      "\u001b[?25hRequirement already satisfied: absl-py>=0.7.1 in /usr/local/lib/python3.10/dist-packages (from dm-haiku) (1.4.0)\n",
      "Collecting jmp>=0.0.2 (from dm-haiku)\n",
      "  Downloading jmp-0.0.4-py3-none-any.whl (18 kB)\n",
      "Requirement already satisfied: numpy>=1.18.0 in /usr/local/lib/python3.10/dist-packages (from dm-haiku) (1.22.4)\n",
      "Requirement already satisfied: tabulate>=0.8.9 in /usr/local/lib/python3.10/dist-packages (from dm-haiku) (0.8.10)\n",
      "Installing collected packages: jmp, dm-haiku\n",
      "Successfully installed dm-haiku-0.0.10 jmp-0.0.4\n"
     ]
    }
   ],
   "source": [
    "!pip install git+https://github.com/deepmind/jraph.git\n",
    "!pip install flax\n",
    "!pip install dm-haiku"
   ]
  },
  {
   "cell_type": "code",
   "execution_count": 2,
   "metadata": {
    "id": "R4e-yt_4eI1D"
   },
   "outputs": [],
   "source": [
    "# Imports\n",
    "%matplotlib inline\n",
    "import functools\n",
    "import matplotlib.pyplot as plt\n",
    "import jax\n",
    "import jax.numpy as jnp\n",
    "import jax.tree_util as tree\n",
    "import jraph\n",
    "import flax\n",
    "import haiku as hk\n",
    "import optax\n",
    "import pickle\n",
    "import numpy as onp\n",
    "import networkx as nx\n",
    "from typing import Any, Callable, Dict, List, Optional, Tuple"
   ]
  },
  {
   "cell_type": "code",
   "execution_count": 3,
   "metadata": {
    "id": "B4G20DVVeMfY"
   },
   "outputs": [],
   "source": [
    "# Utils for visualization\n",
    "def convert_jraph_to_networkx_graph(jraph_graph: jraph.GraphsTuple) -> nx.Graph:\n",
    "  nodes, edges, receivers, senders, _, _, _ = jraph_graph\n",
    "  nx_graph = nx.DiGraph()\n",
    "  if nodes is None:\n",
    "    for n in range(jraph_graph.n_node[0]):\n",
    "      nx_graph.add_node(n)\n",
    "  else:\n",
    "    for n in range(jraph_graph.n_node[0]):\n",
    "      nx_graph.add_node(n, node_feature=nodes[n])\n",
    "  if edges is None:\n",
    "    for e in range(jraph_graph.n_edge[0]):\n",
    "      nx_graph.add_edge(int(senders[e]), int(receivers[e]))\n",
    "  else:\n",
    "    for e in range(jraph_graph.n_edge[0]):\n",
    "      nx_graph.add_edge(\n",
    "          int(senders[e]), int(receivers[e]), edge_feature=edges[e])\n",
    "  return nx_graph"
   ]
  },
  {
   "cell_type": "code",
   "execution_count": 4,
   "metadata": {
    "id": "X5mpO2eqeOW9"
   },
   "outputs": [],
   "source": [
    "def draw_jraph_graph_structure(jraph_graph: jraph.GraphsTuple) -> None:\n",
    "  nx_graph = convert_jraph_to_networkx_graph(jraph_graph)\n",
    "  pos = nx.spring_layout(nx_graph)\n",
    "  nx.draw(\n",
    "      nx_graph, pos=pos, with_labels=True, node_size=500, font_color='yellow')"
   ]
  },
  {
   "cell_type": "markdown",
   "metadata": {
    "id": "mXPoEW-md4Eq"
   },
   "source": [
    "## [Optional for fun I] Graph Network Model Definition\n",
    "We will use jraph.GraphNetwork() to build our graph model. The GraphNetwork architecture is defined in Battaglia et al. (2018).\n",
    "\n",
    "We first define update functions for nodes and edges. We will use MLP blocks for all three.\n",
    "\n"
   ]
  },
  {
   "cell_type": "code",
   "execution_count": 5,
   "metadata": {
    "id": "E2c-xSgmVSlY"
   },
   "outputs": [],
   "source": [
    "# Adapted from https://github.com/deepmind/jraph/blob/master/jraph/ogb_examples/train.py\n",
    "\n",
    "EMBEDDING_SIZE = 128\n",
    "@jraph.concatenated_args\n",
    "def edge_update_fn(feats: jnp.ndarray) -> jnp.ndarray:\n",
    "  \"\"\"Edge update function for graph net.\"\"\"\n",
    "  # Define an MLP(128,128) with relu activation\n",
    "\n",
    "  ################\n",
    "  # YOUR CODE HERE\n",
    "  # net = ...\n",
    "  net = hk.Sequential(\n",
    "      [hk.Linear(EMBEDDING_SIZE), jax.nn.relu,\n",
    "       hk.Linear(EMBEDDING_SIZE)])\n",
    "  ################\n",
    "\n",
    "  return net(feats)\n",
    "\n",
    "@jraph.concatenated_args\n",
    "def node_update_fn(feats: jnp.ndarray) -> jnp.ndarray:\n",
    "  \"\"\"Node update function for graph net.\"\"\"\n",
    "  # Define an MLP(128,128) with relu activation\n",
    "\n",
    "  ################\n",
    "  # YOUR CODE HERE\n",
    "  # net = ...\n",
    "  net = hk.Sequential(\n",
    "      [hk.Linear(EMBEDDING_SIZE), jax.nn.relu,\n",
    "       hk.Linear(EMBEDDING_SIZE)])\n",
    "\n",
    "  ################\n",
    "  return net(feats)"
   ]
  },
  {
   "cell_type": "markdown",
   "metadata": {
    "id": "vSdZijCIgniQ"
   },
   "source": [
    "Now we want to make our Graph Network suitable for the task of graph classification.\n",
    "\n",
    "The main difference from node classification task is that instead of observing individual node latents, we are now attempting to summarize them into one embedding vector, representative of the entire graph, which we then use to predict the class of this graph.\n",
    "\n",
    "Hence, we need to implement the update function for the full graph (global), using an MLP that eventually classifies i"
   ]
  },
  {
   "cell_type": "code",
   "execution_count": 6,
   "metadata": {
    "id": "k5iy3Qu3gr59"
   },
   "outputs": [],
   "source": [
    "@jraph.concatenated_args\n",
    "def update_global_fn(feats: jnp.ndarray) -> jnp.ndarray:\n",
    "  \"\"\"Global update function for graph net.\"\"\"\n",
    "  # Define an MLP(128,2) as it must provide a prediction for the graph\n",
    "  # assuming a standard binary classification task\n",
    "\n",
    "  ################\n",
    "  # YOUR CODE HERE\n",
    "  # net = ...\n",
    "  net = hk.Sequential(\n",
    "      [hk.Linear(EMBEDDING_SIZE), jax.nn.relu,\n",
    "       hk.Linear(2)])\n",
    "  ################\n",
    "  return net(feats)\n"
   ]
  },
  {
   "cell_type": "markdown",
   "metadata": {
    "id": "BK042QJNhkOk"
   },
   "source": [
    "We are ready to define the network builder"
   ]
  },
  {
   "cell_type": "code",
   "execution_count": 7,
   "metadata": {
    "id": "nBV1gk70hlg0"
   },
   "outputs": [],
   "source": [
    "def net_fn_graph_classification(graph: jraph.GraphsTuple) -> jraph.GraphsTuple:\n",
    "  # Add a global parameter for graph classification.\n",
    "  graph = graph._replace(globals=jnp.zeros([graph.n_node.shape[0], 1]))\n",
    "\n",
    "  # 1. Define an embedder function that will linearly project\n",
    "  # the input graph, i.e., the nodes, the edges, and the globals.\n",
    "  # Project them all to 128-dimensional space.\n",
    "  # Use jraph.GraphMapFeatures setting each layer accordingly\n",
    "  # embedder = jraph.GraphMapFeatures( ... , ... , ... )\n",
    "\n",
    "  # 2. Define the network using jraph.GraphNetwork and the\n",
    "  # update functions defined previously for nodes, edges and global\n",
    "  # net = jraph.GraphNetwork( ... , ... , ...)\n",
    "\n",
    "  ################\n",
    "  # YOUR CODE HERE\n",
    "  # embedder = ...\n",
    "  # net = ...\n",
    "  embedder = jraph.GraphMapFeatures(\n",
    "      hk.Linear(EMBEDDING_SIZE), hk.Linear(EMBEDDING_SIZE), hk.Linear(EMBEDDING_SIZE))\n",
    "  net = jraph.GraphNetwork(\n",
    "      update_node_fn=node_update_fn,\n",
    "      update_edge_fn=edge_update_fn,\n",
    "      update_global_fn=update_global_fn)\n",
    "  ################\n",
    "  return net(embedder(graph))\n"
   ]
  },
  {
   "cell_type": "markdown",
   "metadata": {
    "id": "KjVmeo0Ohsu1"
   },
   "source": [
    "## [Optional for fun II] Graph Classification on MUTAG (Molecules)"
   ]
  },
  {
   "cell_type": "markdown",
   "metadata": {
    "id": "Y0yIj2tEiLFz"
   },
   "source": [
    "\n",
    "Let's now try the model on a real graph classification scenario -- **molecular property prediction**, where molecules are represented as graphs. Nodes correspond to atoms, and edges represent the bonds between them.\n",
    "\n",
    "We use the **MUTAG** dataset for this example, a common dataset from the [TUDatasets](https://chrsmrrs.github.io/datasets/) collection.\n",
    "\n",
    "We have converted this dataset to be compatible with jraph and will download it in the cell below.\n",
    "\n",
    "Citation for TUDatasets: [Morris, Christopher, et al. Tudataset: A collection of benchmark datasets for learning with graphs. arXiv preprint arXiv:2007.08663. 2020.](https://chrsmrrs.github.io/datasets/)"
   ]
  },
  {
   "cell_type": "code",
   "execution_count": 8,
   "metadata": {
    "colab": {
     "base_uri": "https://localhost:8080/"
    },
    "id": "MN0VtdCvhlno",
    "outputId": "a92aaad6-c316-4644-a203-a418a21b168e"
   },
   "outputs": [
    {
     "name": "stdout",
     "output_type": "stream",
     "text": [
      "--2023-07-21 12:13:22--  https://storage.googleapis.com/dm-educational/assets/graph-nets/jraph_datasets/mutag.pickle\n",
      "Resolving storage.googleapis.com (storage.googleapis.com)... 172.217.218.128, 142.251.31.128, 142.251.18.128, ...\n",
      "Connecting to storage.googleapis.com (storage.googleapis.com)|172.217.218.128|:443... connected.\n",
      "HTTP request sent, awaiting response... 200 OK\n",
      "Length: 352981 (345K) [application/octet-stream]\n",
      "Saving to: ‘/tmp/mutag.pickle’\n",
      "\n",
      "mutag.pickle        100%[===================>] 344.71K   987KB/s    in 0.3s    \n",
      "\n",
      "2023-07-21 12:13:23 (987 KB/s) - ‘/tmp/mutag.pickle’ saved [352981/352981]\n",
      "\n"
     ]
    }
   ],
   "source": [
    "# Download jraph version of MUTAG.\n",
    "!wget -P /tmp/ https://storage.googleapis.com/dm-educational/assets/graph-nets/jraph_datasets/mutag.pickle\n",
    "with open('/tmp/mutag.pickle', 'rb') as f:\n",
    "  mutag_ds = pickle.load(f)"
   ]
  },
  {
   "cell_type": "markdown",
   "metadata": {
    "id": "w1_gO_bXiUd3"
   },
   "source": [
    "The dataset is saved as a list of examples, each example is a dictionary containing an input_graph and its corresponding target."
   ]
  },
  {
   "cell_type": "code",
   "execution_count": 9,
   "metadata": {
    "colab": {
     "base_uri": "https://localhost:8080/"
    },
    "id": "FmlQpBvUiVhH",
    "outputId": "54dcc270-f4b4-4e43-9fc2-6e411ff3ef14"
   },
   "outputs": [
    {
     "data": {
      "text/plain": [
       "188"
      ]
     },
     "execution_count": 9,
     "metadata": {},
     "output_type": "execute_result"
    }
   ],
   "source": [
    "len(mutag_ds)"
   ]
  },
  {
   "cell_type": "code",
   "execution_count": 10,
   "metadata": {
    "colab": {
     "base_uri": "https://localhost:8080/"
    },
    "id": "hTlejIeSieV5",
    "outputId": "d9081faf-010f-4392-ce39-dae3c0aa5616"
   },
   "outputs": [
    {
     "name": "stdout",
     "output_type": "stream",
     "text": [
      "Number of nodes: 17\n",
      "Number of edges: 38\n",
      "Node features shape: (17, 7)\n",
      "Edge features shape: (38, 4)\n"
     ]
    }
   ],
   "source": [
    "# Inspect the first graph\n",
    "g = mutag_ds[0]['input_graph']\n",
    "print(f'Number of nodes: {g.n_node[0]}')\n",
    "print(f'Number of edges: {g.n_edge[0]}')\n",
    "print(f'Node features shape: {g.nodes.shape}')\n",
    "print(f'Edge features shape: {g.edges.shape}')"
   ]
  },
  {
   "cell_type": "code",
   "execution_count": 11,
   "metadata": {
    "colab": {
     "base_uri": "https://localhost:8080/",
     "height": 516
    },
    "id": "Za41vy36ifs3",
    "outputId": "107c66f8-3238-4b85-b165-09cb3a7e53ca"
   },
   "outputs": [
    {
     "data": {
      "image/png": "[encoded data removed]",
      "text/plain": [
       "<Figure size 640x480 with 1 Axes>"
      ]
     },
     "metadata": {},
     "output_type": "display_data"
    }
   ],
   "source": [
    "draw_jraph_graph_structure(g)"
   ]
  },
  {
   "cell_type": "code",
   "execution_count": 12,
   "metadata": {
    "colab": {
     "base_uri": "https://localhost:8080/"
    },
    "id": "_-zTcXUPihCC",
    "outputId": "5652be57-a9c9-4bbd-8c5c-b3572132287a"
   },
   "outputs": [
    {
     "name": "stdout",
     "output_type": "stream",
     "text": [
      "Target: [1]\n"
     ]
    }
   ],
   "source": [
    "# Target for first graph\n",
    "print(f\"Target: {mutag_ds[0]['target']}\")"
   ]
  },
  {
   "cell_type": "markdown",
   "metadata": {
    "id": "ort13vIzilJ2"
   },
   "source": [
    "We see that there are 188 graphs, to be classified in one of 2 classes, representing \"their mutagenic effect on a specific gram negative bacterium\". Node features represent the 1-hot encoding of the atom type (0=C, 1=N, 2=O, 3=F, 4=I, 5=Cl, 6=Br). Edge features (`edge_attr`) represent the bond type, which we will here ignore.\n",
    "\n",
    "Let's split the dataset to use the first 150 graphs as the training set (and the rest as the test set)."
   ]
  },
  {
   "cell_type": "code",
   "execution_count": 13,
   "metadata": {
    "id": "JFXuEk7qikad"
   },
   "outputs": [],
   "source": [
    "train_mutag_ds = mutag_ds[:150]\n",
    "test_mutag_ds = mutag_ds[150:]"
   ]
  },
  {
   "cell_type": "markdown",
   "metadata": {
    "id": "ITZ8bz5IiovC"
   },
   "source": [
    "#### Padding Graphs to Speed Up Training\n",
    "\n",
    "Since jax recompiles the program for each graph size, training would take a long time due to recompilation for different graph sizes. To address that, we pad the number of nodes and edges in the graphs to nearest power of two. Since jax maintains a cache\n",
    "of compiled programs, the compilation cost is amortized."
   ]
  },
  {
   "cell_type": "code",
   "execution_count": 14,
   "metadata": {
    "id": "Fill4MTsirnJ"
   },
   "outputs": [],
   "source": [
    "# Adapted from https://github.com/deepmind/jraph/blob/master/jraph/ogb_examples/train.py\n",
    "def _nearest_bigger_power_of_two(x: int) -> int:\n",
    "  \"\"\"Computes the nearest power of two greater than x for padding.\"\"\"\n",
    "  y = 2\n",
    "  while y < x:\n",
    "    y *= 2\n",
    "  return y\n",
    "\n",
    "def pad_graph_to_nearest_power_of_two(\n",
    "    graphs_tuple: jraph.GraphsTuple) -> jraph.GraphsTuple:\n",
    "  \"\"\"Pads a batched `GraphsTuple` to the nearest power of two.\n",
    "  For example, if a `GraphsTuple` has 7 nodes, 5 edges and 3 graphs, this method\n",
    "  would pad the `GraphsTuple` nodes and edges:\n",
    "    7 nodes --> 8 nodes (2^3)\n",
    "    5 edges --> 8 edges (2^3)\n",
    "  And since padding is accomplished using `jraph.pad_with_graphs`, an extra\n",
    "  graph and node is added:\n",
    "    8 nodes --> 9 nodes\n",
    "    3 graphs --> 4 graphs\n",
    "  Args:\n",
    "    graphs_tuple: a batched `GraphsTuple` (can be batch size 1).\n",
    "  Returns:\n",
    "    A graphs_tuple batched to the nearest power of two.\n",
    "  \"\"\"\n",
    "  # Add 1 since we need at least one padding node for pad_with_graphs.\n",
    "  pad_nodes_to = _nearest_bigger_power_of_two(jnp.sum(graphs_tuple.n_node)) + 1\n",
    "  pad_edges_to = _nearest_bigger_power_of_two(jnp.sum(graphs_tuple.n_edge))\n",
    "  # Add 1 since we need at least one padding graph for pad_with_graphs.\n",
    "  # We do not pad to nearest power of two because the batch size is fixed.\n",
    "  pad_graphs_to = graphs_tuple.n_node.shape[0] + 1\n",
    "  return jraph.pad_with_graphs(graphs_tuple, pad_nodes_to, pad_edges_to,\n",
    "                               pad_graphs_to)"
   ]
  },
  {
   "cell_type": "markdown",
   "metadata": {
    "id": "SIZdD_YCiuLf"
   },
   "source": [
    "#### Loss and Accuracy Function\n",
    "Define the classification cross-entropy loss and accuracy function."
   ]
  },
  {
   "cell_type": "code",
   "execution_count": 15,
   "metadata": {
    "id": "MAOYAAm4ivll"
   },
   "outputs": [],
   "source": [
    "def compute_loss(params: hk.Params, graph: jraph.GraphsTuple, label: jnp.ndarray,\n",
    "                 net: jraph.GraphsTuple) -> Tuple[jnp.ndarray, jnp.ndarray]:\n",
    "  \"\"\"Computes loss and accuracy.\"\"\"\n",
    "  pred_graph = net.apply(params, graph)\n",
    "  preds = jax.nn.log_softmax(pred_graph.globals)\n",
    "  targets = jax.nn.one_hot(label, 2)\n",
    "\n",
    "  # Since we have an extra 'dummy' graph in our batch due to padding, we want\n",
    "  # to mask out any loss associated with the dummy graph.\n",
    "  # Since we padded with `pad_with_graphs` we can recover the mask by using\n",
    "  # get_graph_padding_mask.\n",
    "  mask = jraph.get_graph_padding_mask(pred_graph)\n",
    "\n",
    "  # Cross entropy loss.\n",
    "  loss = -jnp.mean(preds * targets * mask[:, None])\n",
    "\n",
    "  # Accuracy taking into account the mask.\n",
    "  accuracy = jnp.sum(\n",
    "      (jnp.argmax(pred_graph.globals, axis=1) == label) * mask) / jnp.sum(mask)\n",
    "  return loss, accuracy"
   ]
  },
  {
   "cell_type": "markdown",
   "metadata": {
    "id": "3zbLzoNfixVE"
   },
   "source": [
    "#### Training and Evaluation Functions"
   ]
  },
  {
   "cell_type": "code",
   "execution_count": 16,
   "metadata": {
    "id": "RDxv0AGLiyZR"
   },
   "outputs": [],
   "source": [
    "# Adapted from https://github.com/deepmind/jraph/blob/master/jraph/ogb_examples/train.py\n",
    "def train(dataset: List[Dict[str, Any]], num_train_steps: int) -> hk.Params:\n",
    "  \"\"\"Training loop.\"\"\"\n",
    "\n",
    "  # Transform impure `net_fn` to pure functions with hk.transform.\n",
    "  net = hk.without_apply_rng(hk.transform(net_fn_graph_classification))\n",
    "  # Get a candidate graph and label to initialize the network.\n",
    "  graph = dataset[0]['input_graph']\n",
    "\n",
    "  # Initialize the network.\n",
    "  params = net.init(jax.random.PRNGKey(42), graph)\n",
    "  # Initialize the optimizer.\n",
    "  opt_init, opt_update = optax.adam(1e-4)\n",
    "  opt_state = opt_init(params)\n",
    "\n",
    "  compute_loss_fn = functools.partial(compute_loss, net=net)\n",
    "  # We jit the computation of our loss, since this is the main computation.\n",
    "  # Using jax.jit means that we will use a single accelerator. If you want\n",
    "  # to use more than 1 accelerator, use jax.pmap. More information can be\n",
    "  # found in the jax documentation.\n",
    "  compute_loss_fn = jax.jit(jax.value_and_grad(\n",
    "      compute_loss_fn, has_aux=True))\n",
    "\n",
    "  for idx in range(num_train_steps):\n",
    "    graph = dataset[idx % len(dataset)]['input_graph']\n",
    "    label = dataset[idx % len(dataset)]['target']\n",
    "    # Jax will re-jit your graphnet every time a new graph shape is encountered.\n",
    "    # In the limit, this means a new compilation every training step, which\n",
    "    # will result in *extremely* slow training. To prevent this, pad each\n",
    "    # batch of graphs to the nearest power of two. Since jax maintains a cache\n",
    "    # of compiled programs, the compilation cost is amortized.\n",
    "    graph = pad_graph_to_nearest_power_of_two(graph)\n",
    "\n",
    "    # Since padding is implemented with pad_with_graphs, an extra graph has\n",
    "    # been added to the batch, which means there should be an extra label.\n",
    "    label = jnp.concatenate([label, jnp.array([0])])\n",
    "\n",
    "    (loss, acc), grad = compute_loss_fn(params, graph, label)\n",
    "    updates, opt_state = opt_update(grad, opt_state, params)\n",
    "    params = optax.apply_updates(params, updates)\n",
    "    if idx % 50 == 0:\n",
    "      print(f'step: {idx}, loss: {loss}, acc: {acc}')\n",
    "  print('Training finished')\n",
    "  return params"
   ]
  },
  {
   "cell_type": "code",
   "execution_count": 17,
   "metadata": {
    "id": "GQ2eLKCDizqB"
   },
   "outputs": [],
   "source": [
    "def evaluate(dataset: List[Dict[str, Any]],\n",
    "             params: hk.Params) -> Tuple[jnp.ndarray, jnp.ndarray]:\n",
    "  \"\"\"Evaluation Script.\"\"\"\n",
    "  # Transform impure `net_fn` to pure functions with hk.transform.\n",
    "  net = hk.without_apply_rng(hk.transform(net_fn_graph_classification))\n",
    "  # Get a candidate graph and label to initialize the network.\n",
    "  graph = dataset[0]['input_graph']\n",
    "  accumulated_loss = 0\n",
    "  accumulated_accuracy = 0\n",
    "  compute_loss_fn = jax.jit(functools.partial(compute_loss, net=net))\n",
    "  for idx in range(len(dataset)):\n",
    "    graph = dataset[idx]['input_graph']\n",
    "    label = dataset[idx]['target']\n",
    "    graph = pad_graph_to_nearest_power_of_two(graph)\n",
    "    label = jnp.concatenate([label, jnp.array([0])])\n",
    "    loss, acc = compute_loss_fn(params, graph, label)\n",
    "    accumulated_accuracy += acc\n",
    "    accumulated_loss += loss\n",
    "    if idx % 100 == 0:\n",
    "      print(f'Evaluated {idx + 1} graphs')\n",
    "  print('Completed evaluation.')\n",
    "  loss = accumulated_loss / idx\n",
    "  accuracy = accumulated_accuracy / idx\n",
    "  print(f'Eval loss: {loss}, accuracy {accuracy}')\n",
    "  return loss, accuracy"
   ]
  },
  {
   "cell_type": "code",
   "execution_count": 18,
   "metadata": {
    "colab": {
     "base_uri": "https://localhost:8080/"
    },
    "id": "jDadB_sUi2PX",
    "outputId": "707f2660-1249-4706-d5f9-3538f2548860"
   },
   "outputs": [
    {
     "name": "stdout",
     "output_type": "stream",
     "text": [
      "step: 0, loss: 0.2843889594078064, acc: 0.0\n",
      "step: 50, loss: 0.0006321418331936002, acc: 1.0\n",
      "step: 100, loss: 0.0013380241580307484, acc: 1.0\n",
      "step: 150, loss: 0.04702799394726753, acc: 1.0\n",
      "step: 200, loss: 0.041739653795957565, acc: 1.0\n",
      "Training finished\n"
     ]
    }
   ],
   "source": [
    "params = train(train_mutag_ds, num_train_steps=250)"
   ]
  },
  {
   "cell_type": "code",
   "execution_count": 19,
   "metadata": {
    "colab": {
     "base_uri": "https://localhost:8080/"
    },
    "id": "LE97e0l6i3VI",
    "outputId": "414291e9-5a32-4bce-abec-a2392f10af26"
   },
   "outputs": [
    {
     "name": "stdout",
     "output_type": "stream",
     "text": [
      "Evaluated 1 graphs\n",
      "Completed evaluation.\n",
      "Eval loss: 0.1478191763162613, accuracy 0.7027026414871216\n"
     ]
    },
    {
     "data": {
      "text/plain": [
       "(Array(0.14781918, dtype=float32), Array(0.70270264, dtype=float32))"
      ]
     },
     "execution_count": 19,
     "metadata": {},
     "output_type": "execute_result"
    }
   ],
   "source": [
    "evaluate(test_mutag_ds, params)"
   ]
  },
  {
   "cell_type": "markdown",
   "metadata": {
    "id": "t6r8VkXXi5tg"
   },
   "source": [
    "We converge at ~70% test accuracy. We could of course further tune the parameters to improve this result."
   ]
  },
  {
   "cell_type": "markdown",
   "metadata": {
    "id": "YfjpKT3ui-UU"
   },
   "source": [
    "## [Optional for fun III] Link prediction on CORA (Citation Network)\n",
    "\n"
   ]
  },
  {
   "cell_type": "markdown",
   "metadata": {
    "id": "iZgtMUj9gI0v"
   },
   "source": [
    "### Edge prediction task\n",
    "\n",
    "The final problem type we will explore is **link prediction**, an instance of an **edge-level** task. Given a graph, our goal is to predict whether a certain edge $(u,v)$ should be present or not. This is often useful in the recommender system settings (e.g., propose new friends in a social network, propose a movie to a user).\n",
    "\n",
    "As before, the first step is to obtain node latents $h_i$ using a GNN. In this context we will use the autoencoder language and call this GNN **encoder**. Then, we learn a binary classifier $f: (h_i, h_j) \\to z_{i,j}$ (**decoder**), predicting if an edge $(i,j)$ should exist or not. While we could use a more elaborate decoder (e.g., an MLP), a common approach we will also use here is to focus on obtaining good node embeddings, and for the decoder simply use the similarity between node latents, i.e. $z_{i,j} = h_i^T h_j$. Note that when defining the decoder, we need to consider whether the graph have undirected or directed graph; in the first case the function $f$ must be invariant w.r.t. the order of the nodes in each edge, i.e., $f(h_i, h_j) = z_{i,j} = z_{j,i} = f(h_j, h_i)$, while in the second case $f$ can also be variant.\n",
    "\n",
    "In this third exercise we infer the existence of such edges on CORA Citation Network.\n",
    "\n"
   ]
  },
  {
   "cell_type": "markdown",
   "metadata": {
    "id": "4eEwiTitjfAk"
   },
   "source": [
    "For this problem we will use the [**Cora** dataset](https://linqs.github.io/linqs-website/datasets/#cora), a citation graph containing 2708 scientific publications. For each publication we have a 1433-dimensional feature vector, which is a bag-of-words representation (with a small, fixed dictionary) of the paper text. The edges in this graph represent citations, and are commonly treated as undirected. Each paper is in one of seven topics (classes) so you can also use this dataset for node classification.\n",
    "\n",
    "Similar to MUTAG, we have converted this dataset to jraph for you.\n",
    "\n",
    "Citation for the use of the Cora dataset:\n",
    "- [Qing Lu and Lise Getoor. Link-Based Classification. International Conference on Machine Learning. 2003.](https://linqs.github.io/linqs-website/publications/#id:lu-icml03)\n",
    "- [Sen, Prithviraj, et al. Collective classification in network data. AI magazine 29.3. 2008.](https://linqs.github.io/linqs-website/datasets/#cora)\n",
    "- [Dataset download link](https://linqs.github.io/linqs-website/datasets/#cora)\n",
    "\n",
    "\n"
   ]
  },
  {
   "cell_type": "code",
   "execution_count": 20,
   "metadata": {
    "colab": {
     "base_uri": "https://localhost:8080/"
    },
    "id": "VWBLFU3GjkuK",
    "outputId": "b11ff932-b033-4737-bbbe-47331b6281d3"
   },
   "outputs": [
    {
     "name": "stdout",
     "output_type": "stream",
     "text": [
      "--2023-07-21 12:14:26--  https://storage.googleapis.com/dm-educational/assets/graph-nets/jraph_datasets/cora.pickle\n",
      "Resolving storage.googleapis.com (storage.googleapis.com)... 142.250.153.128, 142.250.145.128, 74.125.128.128, ...\n",
      "Connecting to storage.googleapis.com (storage.googleapis.com)|142.250.153.128|:443... connected.\n",
      "HTTP request sent, awaiting response... 200 OK\n",
      "Length: 15618018 (15M) [application/octet-stream]\n",
      "Saving to: ‘/tmp/cora.pickle’\n",
      "\n",
      "cora.pickle         100%[===================>]  14.89M  26.0MB/s    in 0.6s    \n",
      "\n",
      "2023-07-21 12:14:27 (26.0 MB/s) - ‘/tmp/cora.pickle’ saved [15618018/15618018]\n",
      "\n"
     ]
    }
   ],
   "source": [
    "# Download jraph version of Cora.\n",
    "!wget -P /tmp/ https://storage.googleapis.com/dm-educational/assets/graph-nets/jraph_datasets/cora.pickle\n",
    "with open('/tmp/cora.pickle', 'rb') as f:\n",
    "  cora_ds = pickle.load(f)"
   ]
  },
  {
   "cell_type": "markdown",
   "metadata": {
    "id": "nPEG45YEjmmN"
   },
   "source": [
    "#### Splitting Edges and Adding \"Negative\" Edges\n",
    "For the link prediction task, we split the edges into train, val and test sets and also add \"negative\" examples (edges that do not correspond to a citation). We will ignore the topic classes.\n",
    "\n",
    "For the validation and test splits, we add the same number of existing edges (\"positive examples\") and non-existing edges (\"negative examples\").\n",
    "\n",
    "In contrast to the validation and test splits, the training split only contains positive examples (set $T_+$). The $|T_+|$ negative examples to be used during training will be sampled ad hoc in each epoch and uniformly at random from all edges that are not in $T_+$. This allows the model to see a wider range of negative examples."
   ]
  },
  {
   "cell_type": "code",
   "execution_count": 21,
   "metadata": {
    "id": "sonds8ZYjpM-"
   },
   "outputs": [],
   "source": [
    "def train_val_test_split_edges(graph: jraph.GraphsTuple,\n",
    "                               val_perc: float = 0.05,\n",
    "                               test_perc: float = 0.1):\n",
    "  \"\"\"Split edges in input graph into train, val and test splits.\n",
    "\n",
    "  For val and test sets, also include negative edges.\n",
    "  Based on torch_geometric.utils.train_test_split_edges.\n",
    "  \"\"\"\n",
    "  mask = graph.senders < graph.receivers\n",
    "  senders = graph.senders[mask]\n",
    "  receivers = graph.receivers[mask]\n",
    "  num_val = int(val_perc * senders.shape[0])\n",
    "  num_test = int(test_perc * senders.shape[0])\n",
    "  permuted_indices = onp.random.permutation(range(senders.shape[0]))\n",
    "  senders = senders[permuted_indices]\n",
    "  receivers = receivers[permuted_indices]\n",
    "  if graph.edges is not None:\n",
    "    edges = graph.edges[permuted_indices]\n",
    "\n",
    "  val_senders = senders[:num_val]\n",
    "  val_receivers = receivers[:num_val]\n",
    "  if graph.edges is not None:\n",
    "    val_edges = edges[:num_val]\n",
    "\n",
    "  test_senders = senders[num_val:num_val + num_test]\n",
    "  test_receivers = receivers[num_val:num_val + num_test]\n",
    "  if graph.edges is not None:\n",
    "    test_edges = edges[num_val:num_val + num_test]\n",
    "\n",
    "  train_senders = senders[num_val + num_test:]\n",
    "  train_receivers = receivers[num_val + num_test:]\n",
    "  train_edges = None\n",
    "  if graph.edges is not None:\n",
    "    train_edges = edges[num_val + num_test:]\n",
    "\n",
    "  # make training edges undirected by adding reverse edges back in\n",
    "  train_senders_undir = jnp.concatenate((train_senders, train_receivers))\n",
    "  train_receivers_undir = jnp.concatenate((train_receivers, train_senders))\n",
    "  train_senders = train_senders_undir\n",
    "  train_receivers = train_receivers_undir\n",
    "\n",
    "  # Negative edges.\n",
    "  num_nodes = graph.n_node[0]\n",
    "  # Create a negative adjacency mask, s.t. mask[i, j] = True iff edge i->j does\n",
    "  # not exist in the original graph.\n",
    "  neg_adj_mask = onp.ones((num_nodes, num_nodes), dtype=onp.uint8)\n",
    "  # upper triangular part\n",
    "  neg_adj_mask = onp.triu(neg_adj_mask, k=1)\n",
    "  neg_adj_mask[graph.senders, graph.receivers] = 0\n",
    "  neg_adj_mask = neg_adj_mask.astype(onp.bool)\n",
    "  neg_senders, neg_receivers = neg_adj_mask.nonzero()\n",
    "\n",
    "  perm = onp.random.permutation(range(len(neg_senders)))\n",
    "  neg_senders = neg_senders[perm]\n",
    "  neg_receivers = neg_receivers[perm]\n",
    "\n",
    "  val_neg_senders = neg_senders[:num_val]\n",
    "  val_neg_receivers = neg_receivers[:num_val]\n",
    "  test_neg_senders = neg_senders[num_val:num_val + num_test]\n",
    "  test_neg_receivers = neg_receivers[num_val:num_val + num_test]\n",
    "\n",
    "  train_graph = jraph.GraphsTuple(\n",
    "      nodes=graph.nodes,\n",
    "      edges=train_edges,\n",
    "      senders=train_senders,\n",
    "      receivers=train_receivers,\n",
    "      n_node=graph.n_node,\n",
    "      n_edge=jnp.array([len(train_senders)]),\n",
    "      globals=graph.globals)\n",
    "\n",
    "  return train_graph, neg_adj_mask, val_senders, val_receivers, val_neg_senders, val_neg_receivers, test_senders, test_receivers, test_neg_senders, test_neg_receivers"
   ]
  },
  {
   "cell_type": "markdown",
   "metadata": {
    "id": "_-Q-AsQajrUI"
   },
   "source": [
    "#### Test the Edge Splitting Function"
   ]
  },
  {
   "cell_type": "code",
   "execution_count": 22,
   "metadata": {
    "colab": {
     "base_uri": "https://localhost:8080/"
    },
    "id": "Q5LIfDgVi49l",
    "outputId": "11b732ee-bd1f-4191-99d8-f1cb2c01c600"
   },
   "outputs": [
    {
     "name": "stderr",
     "output_type": "stream",
     "text": [
      "<ipython-input-21-37bddf7861ba>:50: DeprecationWarning: `np.bool` is a deprecated alias for the builtin `bool`. To silence this warning, use `bool` by itself. Doing this will not modify any behavior and is safe. If you specifically wanted the numpy scalar type, use `np.bool_` here.\n",
      "Deprecated in NumPy 1.20; for more details and guidance: https://numpy.org/devdocs/release/1.20.0-notes.html#deprecations\n",
      "  neg_adj_mask = neg_adj_mask.astype(onp.bool)\n"
     ]
    }
   ],
   "source": [
    "graph = cora_ds[0]['input_graph']\n",
    "train_graph, neg_adj_mask, val_pos_senders, val_pos_receivers, val_neg_senders, val_neg_receivers, test_pos_senders, test_pos_receivers, test_neg_senders, test_neg_receivers = train_val_test_split_edges(graph)"
   ]
  },
  {
   "cell_type": "code",
   "execution_count": 23,
   "metadata": {
    "colab": {
     "base_uri": "https://localhost:8080/"
    },
    "id": "aK9FmLj7jvvv",
    "outputId": "49072046-577f-4934-d29d-0af0353e0da1"
   },
   "outputs": [
    {
     "name": "stdout",
     "output_type": "stream",
     "text": [
      "Train set: 8976 positive edges, we will sample the same number of negative edges at runtime\n",
      "Val set: 263 positive edges, 263 negative edges\n",
      "Test set: 527 positive edges, 527 negative edges\n",
      "Negative adjacency mask shape: (2708, 2708)\n",
      "Numbe of negative edges to sample from: 3660000\n"
     ]
    }
   ],
   "source": [
    "print(f'Train set: {train_graph.senders.shape[0]} positive edges, we will sample the same number of negative edges at runtime')\n",
    "print(f'Val set: {val_pos_senders.shape[0]} positive edges, {val_neg_senders.shape[0]} negative edges')\n",
    "print(f'Test set: {test_pos_senders.shape[0]} positive edges, {test_neg_senders.shape[0]} negative edges')\n",
    "print(f'Negative adjacency mask shape: {neg_adj_mask.shape}')\n",
    "print(f'Numbe of negative edges to sample from: {neg_adj_mask.sum()}')"
   ]
  },
  {
   "cell_type": "markdown",
   "metadata": {
    "id": "m3O6oJ_njx-Y"
   },
   "source": [
    "\n",
    "*Note*: It will often happen during training that as a negative example, we sample an initially existing edge (that is now e.g. a positive example in the test set). We are however not allowed to check for this, as we should be unaware of the existence of test edges during training.\n",
    "\n",
    "Assuming our dot product decoder, we are essentially attempting to bring the latents of endpoints of edges from $T_+$ closer together, and make the latents of all other pairs of nodes as distant as possible. As this is impossible to fully satisfy, the hope is that the model will \"fail\" to distance those pairs of nodes where the edges should actually exist (positive examples from the test set)."
   ]
  },
  {
   "cell_type": "markdown",
   "metadata": {
    "id": "JTUe8Ht_kDvG"
   },
   "source": [
    "#### Graph Network Model Definition\n",
    "\n",
    "We will use jraph.GraphNetwork to build our graph net model.\n",
    "\n",
    "We first define update functions for node features. We are not using edge or global features for this task."
   ]
  },
  {
   "cell_type": "code",
   "execution_count": 24,
   "metadata": {
    "id": "9-8XVEG8kFZV"
   },
   "outputs": [],
   "source": [
    "@jraph.concatenated_args\n",
    "def node_update_fn(feats: jnp.ndarray) -> jnp.ndarray:\n",
    "  \"\"\"Node update function for graph net.\"\"\"\n",
    "  # Define an MLP(128,128)\n",
    "\n",
    "  ################\n",
    "  # YOUR CODE HERE\n",
    "  # net = ...\n",
    "  net = hk.Sequential(\n",
    "      [hk.Linear(64), jax.nn.relu,\n",
    "       hk.Linear(64)])\n",
    "  ################\n",
    "  return net(feats)\n",
    "\n",
    "\n",
    "def net_fn_link_prediction(graph: jraph.GraphsTuple) -> jraph.GraphsTuple:\n",
    "  \"\"\"Network definition.\"\"\"\n",
    "  graph = graph._replace(globals=jnp.zeros([graph.n_node.shape[0], 1]))\n",
    "  net = jraph.GraphNetwork(\n",
    "      update_node_fn=node_update_fn, update_edge_fn=None, update_global_fn=None)\n",
    "  return net(graph)\n",
    "\n",
    "\n",
    "def decode(pred_graph: jraph.GraphsTuple, senders: jnp.ndarray,\n",
    "           receivers: jnp.ndarray) -> jnp.ndarray:\n",
    "  \"\"\"Given a set of candidate edges, take dot product of respective nodes.\n",
    "\n",
    "  Args:\n",
    "    pred_graph: input graph.\n",
    "    senders: Senders of candidate edges.\n",
    "    receivers: Receivers of candidate edges.\n",
    "\n",
    "  Returns:\n",
    "    For each edge, computes dot product of the features of the two nodes.\n",
    "\n",
    "  \"\"\"\n",
    "  # Implement the decoder as the dot product between node latents.\n",
    "\n",
    "  ################\n",
    "  # YOUR CODE HERE\n",
    "  # similarity = ...\n",
    "  similarity = jnp.sum(pred_graph.nodes[senders] * pred_graph.nodes[receivers], axis=1)\n",
    "  ################\n",
    "  return jnp.squeeze(similarity)"
   ]
  },
  {
   "cell_type": "markdown",
   "metadata": {
    "id": "ORU-WK4NkHAc"
   },
   "source": [
    "To evaluate our model, we first apply the sigmoid function to obtained dot products to get a score $s_{i,j} \\in [0,1]$ for each edge. Now, we can pick a threshold $\\tau$ and say that we predict all pairs $(i,j)$ s.t. $s_{i,j} \\geq \\tau$ as edges (and all the rest as non-edges)."
   ]
  },
  {
   "cell_type": "markdown",
   "metadata": {
    "id": "GagHpnckkJcv"
   },
   "source": [
    "#### Loss and ROC-AUC-Metric Function\n",
    "Define the binary classification cross-entropy loss.\n",
    "To aggregate the results over all choices of $\\tau$, we will use ROC-AUC (the area under the ROC curve) as our evaluation metric."
   ]
  },
  {
   "cell_type": "code",
   "execution_count": 25,
   "metadata": {
    "id": "EdOS5vH_kMK7"
   },
   "outputs": [],
   "source": [
    "from sklearn.metrics import roc_auc_score\n",
    "\n",
    "def compute_bce_with_logits_loss(x: jnp.ndarray, y: jnp.ndarray) -> jnp.ndarray:\n",
    "  \"\"\"Computes binary cross-entropy with logits loss.\n",
    "\n",
    "  Combines sigmoid and BCE, and uses log-sum-exp trick for numerical stability.\n",
    "  See https://stackoverflow.com/a/66909858 if you want to learn more.\n",
    "\n",
    "  Args:\n",
    "    x: Predictions (logits).\n",
    "    y: Labels.\n",
    "\n",
    "  Returns:\n",
    "    Binary cross-entropy loss with mean aggregation.\n",
    "\n",
    "  \"\"\"\n",
    "  max_val = jnp.clip(x, 0, None)\n",
    "  loss = x - x * y + max_val + jnp.log(\n",
    "      jnp.exp(-max_val) + jnp.exp((-x - max_val)))\n",
    "  return loss.mean()\n",
    "\n",
    "\n",
    "def compute_loss(params: hk.Params, graph: jraph.GraphsTuple,\n",
    "                 senders: jnp.ndarray, receivers: jnp.ndarray,\n",
    "                 labels: jnp.ndarray,\n",
    "                 net: hk.Transformed) -> Tuple[jnp.ndarray, jnp.ndarray]:\n",
    "  \"\"\"Computes loss.\"\"\"\n",
    "  pred_graph = net.apply(params, graph)\n",
    "  preds = decode(pred_graph, senders, receivers)\n",
    "  loss = compute_bce_with_logits_loss(preds, labels)\n",
    "  return loss, preds\n",
    "\n",
    "\n",
    "def compute_roc_auc_score(preds: jnp.ndarray,\n",
    "                          labels: jnp.ndarray) -> jnp.ndarray:\n",
    "  \"\"\"Computes roc auc (area under the curve) score for classification.\"\"\"\n",
    "  s = jax.nn.sigmoid(preds)\n",
    "  roc_auc = roc_auc_score(labels, s)\n",
    "  return roc_auc"
   ]
  },
  {
   "cell_type": "markdown",
   "metadata": {
    "id": "xH_WZ2lpkOGZ"
   },
   "source": [
    "Helper function for sampling negative edges during training."
   ]
  },
  {
   "cell_type": "code",
   "execution_count": 26,
   "metadata": {
    "colab": {
     "base_uri": "https://localhost:8080/"
    },
    "id": "vFG6t9C5kQMA",
    "outputId": "72acd00e-5302-43ad-db8c-fcfffa81ac0b"
   },
   "outputs": [
    {
     "name": "stderr",
     "output_type": "stream",
     "text": [
      "<ipython-input-26-2ee50fe24e52>:3: DeprecationWarning: jax.numpy.DeviceArray is deprecated. Use jax.Array.\n",
      "  key: jnp.DeviceArray) -> Tuple[jnp.DeviceArray, jnp.DeviceArray]:\n"
     ]
    }
   ],
   "source": [
    "def negative_sampling(\n",
    "    graph: jraph.GraphsTuple, num_neg_samples: int,\n",
    "    key: jnp.array) -> Tuple[jnp.array, jnp.array]:\n",
    "  \"\"\"Samples negative edges, i.e. edges that don't exist in the input graph.\"\"\"\n",
    "  num_nodes = graph.n_node[0]\n",
    "  total_possible_edges = num_nodes**2\n",
    "  # convert 2D edge indices to 1D representation.\n",
    "  pos_idx = graph.senders * num_nodes + graph.receivers\n",
    "\n",
    "  # Percentage to oversample edges, so most likely will sample enough neg edges.\n",
    "  alpha = jnp.abs(1 / (1 - 1.1 *\n",
    "                       (graph.senders.shape[0] / total_possible_edges)))\n",
    "\n",
    "  perm = jax.random.randint(\n",
    "      key,\n",
    "      shape=(int(alpha * num_neg_samples),),\n",
    "      minval=0,\n",
    "      maxval=total_possible_edges,\n",
    "      dtype=jnp.uint32)\n",
    "\n",
    "  # mask where sampled edges are positive edges.\n",
    "  mask = jnp.isin(perm, pos_idx)\n",
    "  # remove positive edges.\n",
    "  perm = perm[~mask][:num_neg_samples]\n",
    "\n",
    "  # convert 1d back to 2d edge indices.\n",
    "  neg_senders = perm // num_nodes\n",
    "  neg_receivers = perm % num_nodes\n",
    "\n",
    "  return neg_senders, neg_receivers\n"
   ]
  },
  {
   "cell_type": "markdown",
   "metadata": {
    "id": "eGAIfGm2kT8X"
   },
   "source": [
    "Let's write the training loop:"
   ]
  },
  {
   "cell_type": "code",
   "execution_count": 27,
   "metadata": {
    "id": "ocxDR8sTkV1c"
   },
   "outputs": [],
   "source": [
    "def train(dataset: List[Dict[str, Any]], num_epochs: int) -> hk.Params:\n",
    "  \"\"\"Training loop.\"\"\"\n",
    "  key = jax.random.PRNGKey(42)\n",
    "  # Transform impure `net_fn` to pure functions with hk.transform.\n",
    "  net = hk.without_apply_rng(hk.transform(net_fn_link_prediction))\n",
    "  # Get a candidate graph and label to initialize the network.\n",
    "  graph = dataset[0]['input_graph']\n",
    "\n",
    "  train_graph, _, val_pos_s, val_pos_r, val_neg_s, val_neg_r, test_pos_s, \\\n",
    "      test_pos_r, test_neg_s, test_neg_r = train_val_test_split_edges(\n",
    "      graph)\n",
    "\n",
    "  # Prepare the validation and test data.\n",
    "  val_senders = jnp.concatenate((val_pos_s, val_neg_s))\n",
    "  val_receivers = jnp.concatenate((val_pos_r, val_neg_r))\n",
    "  val_labels = jnp.concatenate(\n",
    "      (jnp.ones(len(val_pos_s)), jnp.zeros(len(val_neg_s))))\n",
    "  test_senders = jnp.concatenate((test_pos_s, test_neg_s))\n",
    "  test_receivers = jnp.concatenate((test_pos_r, test_neg_r))\n",
    "  test_labels = jnp.concatenate(\n",
    "      (jnp.ones(len(test_pos_s)), jnp.zeros(len(test_neg_s))))\n",
    "  # Initialize the network.\n",
    "  params = net.init(key, train_graph)\n",
    "  # Initialize the optimizer.\n",
    "  opt_init, opt_update = optax.adam(1e-4)\n",
    "  opt_state = opt_init(params)\n",
    "\n",
    "  compute_loss_fn = functools.partial(compute_loss, net=net)\n",
    "  # We jit the computation of our loss, since this is the main computation.\n",
    "  # Using jax.jit means that we will use a single accelerator. If you want\n",
    "  # to use more than 1 accelerator, use jax.pmap. More information can be\n",
    "  # found in the jax documentation.\n",
    "  compute_loss_fn = jax.jit(jax.value_and_grad(compute_loss_fn, has_aux=True))\n",
    "\n",
    "  for epoch in range(num_epochs):\n",
    "    num_neg_samples = train_graph.senders.shape[0]\n",
    "    train_neg_senders, train_neg_receivers = negative_sampling(\n",
    "        train_graph, num_neg_samples=num_neg_samples, key=key)\n",
    "    train_senders = jnp.concatenate((train_graph.senders, train_neg_senders))\n",
    "    train_receivers = jnp.concatenate(\n",
    "        (train_graph.receivers, train_neg_receivers))\n",
    "    train_labels = jnp.concatenate(\n",
    "        (jnp.ones(len(train_graph.senders)), jnp.zeros(len(train_neg_senders))))\n",
    "\n",
    "    (train_loss,\n",
    "     train_preds), grad = compute_loss_fn(params, train_graph, train_senders,\n",
    "                                          train_receivers, train_labels)\n",
    "\n",
    "    updates, opt_state = opt_update(grad, opt_state, params)\n",
    "    params = optax.apply_updates(params, updates)\n",
    "    if epoch % 10 == 0 or epoch == (num_epochs - 1):\n",
    "      train_roc_auc = compute_roc_auc_score(train_preds, train_labels)\n",
    "      val_loss, val_preds = compute_loss(params, train_graph, val_senders,\n",
    "                                         val_receivers, val_labels, net)\n",
    "      val_roc_auc = compute_roc_auc_score(val_preds, val_labels)\n",
    "      print(f'epoch: {epoch}, train_loss: {train_loss:.3f}, '\n",
    "            f'train_roc_auc: {train_roc_auc:.3f}, val_loss: {val_loss:.3f}, '\n",
    "            f'val_roc_auc: {val_roc_auc:.3f}')\n",
    "  test_loss, test_preds = compute_loss(params, train_graph, test_senders,\n",
    "                                       test_receivers, test_labels, net)\n",
    "  test_roc_auc = compute_roc_auc_score(test_preds, test_labels)\n",
    "  print('Training finished')\n",
    "  print(\n",
    "      f'epoch: {epoch}, test_loss: {test_loss:.3f}, test_roc_auc: {test_roc_auc:.3f}'\n",
    "  )\n",
    "  return params"
   ]
  },
  {
   "cell_type": "markdown",
   "metadata": {
    "id": "h_Ju-vZ5kXkG"
   },
   "source": [
    "Let's train the model! We expect the model to reach roughly test_roc_auc of 0.84.\n",
    "\n",
    "(Note that ROC-AUC is a scalar between 0 and 1, with 1 being the ROC-AUC of a perfect classifier.)"
   ]
  },
  {
   "cell_type": "code",
   "execution_count": 28,
   "metadata": {
    "colab": {
     "base_uri": "https://localhost:8080/"
    },
    "id": "yW7BVYC_kZB3",
    "outputId": "7a4310a3-8f6c-44e4-ae8c-08b4cb17bb70"
   },
   "outputs": [
    {
     "name": "stderr",
     "output_type": "stream",
     "text": [
      "<ipython-input-21-37bddf7861ba>:50: DeprecationWarning: `np.bool` is a deprecated alias for the builtin `bool`. To silence this warning, use `bool` by itself. Doing this will not modify any behavior and is safe. If you specifically wanted the numpy scalar type, use `np.bool_` here.\n",
      "Deprecated in NumPy 1.20; for more details and guidance: https://numpy.org/devdocs/release/1.20.0-notes.html#deprecations\n",
      "  neg_adj_mask = neg_adj_mask.astype(onp.bool)\n"
     ]
    },
    {
     "name": "stdout",
     "output_type": "stream",
     "text": [
      "epoch: 0, train_loss: 0.690, train_roc_auc: 0.596, val_loss: 0.691, val_roc_auc: 0.592\n",
      "epoch: 10, train_loss: 0.686, train_roc_auc: 0.664, val_loss: 0.689, val_roc_auc: 0.632\n",
      "epoch: 20, train_loss: 0.682, train_roc_auc: 0.711, val_loss: 0.686, val_roc_auc: 0.659\n",
      "epoch: 30, train_loss: 0.677, train_roc_auc: 0.743, val_loss: 0.684, val_roc_auc: 0.678\n",
      "epoch: 40, train_loss: 0.671, train_roc_auc: 0.768, val_loss: 0.680, val_roc_auc: 0.696\n",
      "epoch: 50, train_loss: 0.664, train_roc_auc: 0.790, val_loss: 0.675, val_roc_auc: 0.713\n",
      "epoch: 60, train_loss: 0.654, train_roc_auc: 0.812, val_loss: 0.669, val_roc_auc: 0.734\n",
      "epoch: 70, train_loss: 0.643, train_roc_auc: 0.834, val_loss: 0.661, val_roc_auc: 0.756\n",
      "epoch: 80, train_loss: 0.631, train_roc_auc: 0.853, val_loss: 0.650, val_roc_auc: 0.778\n",
      "epoch: 90, train_loss: 0.616, train_roc_auc: 0.870, val_loss: 0.638, val_roc_auc: 0.799\n",
      "epoch: 100, train_loss: 0.599, train_roc_auc: 0.882, val_loss: 0.624, val_roc_auc: 0.817\n",
      "epoch: 110, train_loss: 0.580, train_roc_auc: 0.891, val_loss: 0.608, val_roc_auc: 0.830\n",
      "epoch: 120, train_loss: 0.561, train_roc_auc: 0.898, val_loss: 0.592, val_roc_auc: 0.840\n",
      "epoch: 130, train_loss: 0.542, train_roc_auc: 0.903, val_loss: 0.577, val_roc_auc: 0.846\n",
      "epoch: 140, train_loss: 0.523, train_roc_auc: 0.909, val_loss: 0.565, val_roc_auc: 0.851\n",
      "epoch: 150, train_loss: 0.506, train_roc_auc: 0.915, val_loss: 0.554, val_roc_auc: 0.856\n",
      "epoch: 160, train_loss: 0.490, train_roc_auc: 0.921, val_loss: 0.546, val_roc_auc: 0.859\n",
      "epoch: 170, train_loss: 0.474, train_roc_auc: 0.927, val_loss: 0.541, val_roc_auc: 0.862\n",
      "epoch: 180, train_loss: 0.460, train_roc_auc: 0.933, val_loss: 0.537, val_roc_auc: 0.865\n",
      "epoch: 190, train_loss: 0.447, train_roc_auc: 0.939, val_loss: 0.534, val_roc_auc: 0.867\n",
      "epoch: 199, train_loss: 0.436, train_roc_auc: 0.944, val_loss: 0.533, val_roc_auc: 0.870\n",
      "Training finished\n",
      "epoch: 199, test_loss: 0.554, test_roc_auc: 0.844\n"
     ]
    }
   ],
   "source": [
    "params = train(cora_ds, num_epochs=200)"
   ]
  },
  {
   "cell_type": "markdown",
   "metadata": {
    "id": "b99lPFoedrlM"
   },
   "source": [
    "## Benchmarking"
   ]
  },
  {
   "cell_type": "markdown",
   "metadata": {
    "id": "Q24rALyyZVLB"
   },
   "source": [
    "The `jraph` library allows to easily define the Graph Convolutional Network (GCN) and Graph Attention Layer (GAT) and create composite networks comprising of different layers. Please take a look at the [implementation of different layers](https://github.com/deepmind/jraph/blob/master/jraph/_src/models.py) provided by `jraph`. Here, we will be implementing GCN and GAT layers."
   ]
  },
  {
   "cell_type": "markdown",
   "metadata": {
    "id": "8k1T7OYSQywr"
   },
   "source": [
    "### GCN Building Blocks"
   ]
  },
  {
   "cell_type": "code",
   "execution_count": 29,
   "metadata": {
    "id": "T97fHOHiQ-2N"
   },
   "outputs": [],
   "source": [
    "add_self_edges = False\n",
    "symmetric_normalization = True"
   ]
  },
  {
   "cell_type": "markdown",
   "metadata": {
    "id": "vhjIAD4IQv7b"
   },
   "source": [
    "### GAT Building Blocks"
   ]
  },
  {
   "cell_type": "code",
   "execution_count": 30,
   "metadata": {
    "id": "iSyZ77WSQuQJ"
   },
   "outputs": [],
   "source": [
    "@jraph.concatenated_args\n",
    "def attention_query_fn(feats: jnp.ndarray) -> jnp.ndarray:\n",
    "  \"\"\"Generates attention queries from sender node features.\"\"\"\n",
    "  # Define an MLP(128,128)\n",
    "\n",
    "  ################\n",
    "  # YOUR CODE HERE\n",
    "  # net = ...\n",
    "  net = hk.Sequential(\n",
    "      [hk.Linear(EMBEDDING_SIZE), jax.nn.leaky_relu])\n",
    "\n",
    "  ################\n",
    "  return net(feats)\n",
    "\n",
    "@jraph.concatenated_args\n",
    "def attention_logit_fn(feats: jnp.ndarray) -> jnp.ndarray:\n",
    "  \"\"\"Converts attention queries into logits for softmax attention.\"\"\"\n",
    "  # Define an MLP(128,128)\n",
    "\n",
    "  ################\n",
    "  # YOUR CODE HERE\n",
    "  # net = ...\n",
    "  net = hk.Sequential(\n",
    "      [hk.Linear(EMBEDDING_SIZE), jax.nn.leaky_relu,\n",
    "       hk.Linear(EMBEDDING_SIZE)])\n",
    "\n",
    "  ################\n",
    "  return net(feats)"
   ]
  },
  {
   "cell_type": "markdown",
   "metadata": {
    "id": "06oAFdeiRS6j"
   },
   "source": [
    "### Model Zoo"
   ]
  },
  {
   "cell_type": "code",
   "execution_count": 31,
   "metadata": {
    "id": "N9m2gMsURRgi"
   },
   "outputs": [],
   "source": [
    "architecture = 'GraphNet'\n",
    "def net_fn_graph_classification(graph: jraph.GraphsTuple) -> jraph.GraphsTuple:\n",
    "  # Add a global parameter for graph classification.\n",
    "  graph = graph._replace(globals=jnp.zeros([graph.n_node.shape[0], 1]))\n",
    "\n",
    "  # Build all networks for graph classification\n",
    "  # embedder = ...\n",
    "  # net = ...\n",
    "  # attention_layer = ...\n",
    "  # gcn_layer = ...\n",
    "  ################\n",
    "  # YOUR CODE HERE\n",
    "  embedder = jraph.GraphMapFeatures(\n",
    "      hk.Linear(EMBEDDING_SIZE), hk.Linear(EMBEDDING_SIZE), hk.Linear(EMBEDDING_SIZE))\n",
    "  net = jraph.GraphNetwork(\n",
    "      update_node_fn=node_update_fn,\n",
    "      update_edge_fn=edge_update_fn,\n",
    "      update_global_fn=update_global_fn)\n",
    "  attention_layer = jraph.GAT(\n",
    "      attention_query_fn=attention_query_fn,\n",
    "      attention_logit_fn=attention_logit_fn,\n",
    "      node_update_fn=node_update_fn\n",
    "    )\n",
    "  gcn_layer = jraph.GraphConvolution(\n",
    "      update_node_fn=node_update_fn,\n",
    "      add_self_edges=add_self_edges,\n",
    "      symmetric_normalization=symmetric_normalization\n",
    "  )\n",
    "  ################\n",
    "\n",
    "  if architecture == 'GraphNet':\n",
    "    return net(embedder(graph))\n",
    "\n",
    "  elif architecture == 'gat':\n",
    "    return net(attention_layer(embedder(graph)))\n",
    "\n",
    "  elif architecture == 'gcn':\n",
    "    return net(gcn_layer(embedder(graph)))\n",
    "\n",
    "  elif architecture == 'composite':\n",
    "    ################\n",
    "    # Play around :)\n",
    "    pass\n",
    "    ################\n",
    "\n",
    "  else:\n",
    "    raise ValueError"
   ]
  },
  {
   "cell_type": "markdown",
   "metadata": {
    "id": "dpVB3MjFYRvk"
   },
   "source": [
    "Is it okay to have a composite model where the attention layer / graph convolution layer is applied after the `net` layer? If not, why?"
   ]
  },
  {
   "cell_type": "code",
   "execution_count": 32,
   "metadata": {
    "id": "KBbUx5ThU1F2"
   },
   "outputs": [],
   "source": [
    "architecture = 'GraphNet'\n",
    "def net_fn_link_prediction(graph: jraph.GraphsTuple) -> jraph.GraphsTuple:\n",
    "  # Add a global parameter for graph classification.\n",
    "  graph = graph._replace(globals=jnp.zeros([graph.n_node.shape[0], 1]))\n",
    "\n",
    "  # Build all networks for link prediction\n",
    "  # net = ...\n",
    "  # attention_layer = ...\n",
    "  # gcn_layer = ...\n",
    "\n",
    "  ################\n",
    "  # YOUR CODE HERE\n",
    "  graph = graph._replace(globals=jnp.zeros([graph.n_node.shape[0], 1]))\n",
    "  net = jraph.GraphNetwork(\n",
    "      update_node_fn=node_update_fn, update_edge_fn=None, update_global_fn=None)\n",
    "  attention_layer = jraph.GAT(\n",
    "      attention_query_fn=attention_query_fn,\n",
    "      attention_logit_fn=attention_logit_fn,\n",
    "      node_update_fn=node_update_fn\n",
    "    )\n",
    "  gcn_layer = jraph.GraphConvolution(\n",
    "      update_node_fn=node_update_fn,\n",
    "      add_self_edges=add_self_edges,\n",
    "      symmetric_normalization=symmetric_normalization\n",
    "  )\n",
    "  ################\n",
    "\n",
    "  if architecture == 'GraphNet':\n",
    "    return net(graph)\n",
    "\n",
    "  elif architecture == 'gat':\n",
    "    return attention_layer(graph)\n",
    "\n",
    "  elif architecture == 'gcn':\n",
    "    return gcn_layer(graph)\n",
    "\n",
    "  elif architecture == 'composite':\n",
    "    ################\n",
    "    # Play around :)\n",
    "    pass\n",
    "    ################\n",
    "\n",
    "  else:\n",
    "    raise ValueError"
   ]
  },
  {
   "cell_type": "markdown",
   "metadata": {},
   "source": [
    "## Analysis"
   ]
  },
  {
   "cell_type": "markdown",
   "metadata": {
    "id": "VpgaCDZZYqW3"
   },
   "source": [
    "Play around with composite models with more than 1 layers. How does the performance of link prediction change? What would you attribute to this difference in performance?\n",
    "\n",
    "Hidden response: \n",
    "Adding more layers introduces non-linearity into the model, which can increase the model's expressive power and allow it to learn more complex patterns in the data.\n",
    "However models with many layers can suffer from vanishing or exploding gradients, which can make training more challenging. Proper normalization, careful initialization, and advanced optimization techniques can help mitigate these issues. Thus this tradeoff should explored per task."
   ]
  },
  {
   "cell_type": "markdown",
   "metadata": {
    "id": "tri0NWT3aOPJ"
   },
   "source": [
    "## Summary\n",
    "In this tutorial, we learned about how to represent directed and undirected graphs in jraph, how to create the basic GNN blocks (GCN + GAT) and how to compose them into GNNs. We also learned about three types of graph predictions tasks (node classification, link prediction and graph classification) and trained a model on each of these tasks.\n",
    "\n",
    "To practice your knowledge, you can:\n",
    "\n",
    "\n",
    "*   Create your own graphs, e.g. following the toy graph template and adding nodes, edges, features or using the `jraph` [collection of models](https://github.com/deepmind/jraph/blob/master/jraph/_src/models.py).\n",
    "\n",
    "\n",
    "*   Modify the GNN blocks, e.g. by changing the update_node_fn() / update_edge_fn() functions.\n",
    "\n",
    "*  Train a model on a different dataset and/or task.\n",
    "\n",
    "\n"
   ]
  }
 ],
 "metadata": {
  "accelerator": "GPU",
  "colab": {
   "gpuType": "T4",
   "provenance": [],
   "toc_visible": true
  },
  "kernelspec": {
   "display_name": "Python 3 (ipykernel)",
   "language": "python",
   "name": "python3"
  },
  "language_info": {
   "codemirror_mode": {
    "name": "ipython",
    "version": 3
   },
   "file_extension": ".py",
   "mimetype": "text/x-python",
   "name": "python",
   "nbconvert_exporter": "python",
   "pygments_lexer": "ipython3",
   "version": "3.11.4"
  }
 },
 "nbformat": 4,
 "nbformat_minor": 1
}
