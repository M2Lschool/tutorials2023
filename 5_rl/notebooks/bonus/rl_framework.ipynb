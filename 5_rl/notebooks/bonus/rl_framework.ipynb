{
  "cells": [
    {
      "cell_type": "markdown",
      "source": [
        "---\n",
        "# Bonus Part 🔥 Reinforcement Learning with a framework.\n",
        "---"
      ],
      "metadata": {
        "id": "Vna9XNvHWgMZ"
      }
    },
    {
      "cell_type": "markdown",
      "source": [
        "So far, we implemented two widely used Reinforcement Learning algorithms by scratch using jax and haiku.\n",
        "In this tutorial, we will provide a more convenient way to train RL agents on various tasks, using a popular framework.\n",
        "We will be using stable-baselines3, a set of reliable implementations of reinforcement learning algorithms in PyTorch."
      ],
      "metadata": {
        "id": "A_psL930XJKC"
      }
    },
    {
      "cell_type": "code",
      "execution_count": null,
      "metadata": {
        "id": "edQ9VrVeDJnI"
      },
      "outputs": [],
      "source": [
        "# Installation\n",
        "!apt-get update && apt-get install ffmpeg freeglut3-dev xvfb  # For visualization\n",
        "!pip install \"stable-baselines3[extra]>=2.0.0a4\""
      ]
    },
    {
      "cell_type": "code",
      "execution_count": null,
      "metadata": {
        "id": "NnRM5A2HDNtC"
      },
      "outputs": [],
      "source": [
        "# Imports\n",
        "import warnings\n",
        "warnings.filterwarnings('ignore')\n",
        "import gymnasium as gym\n",
        "import numpy as np\n",
        "import os\n",
        "from stable_baselines3 import PPO, DQN, A2C\n",
        "from stable_baselines3.ppo import MlpPolicy, CnnPolicy\n",
        "from stable_baselines3.common.evaluation import evaluate_policy\n",
        "from stable_baselines3.common.vec_env import VecVideoRecorder, DummyVecEnv\n",
        "\n",
        "import torchvision\n",
        "from stable_baselines3.common.torch_layers import BaseFeaturesExtractor\n",
        "import torch.nn as nn\n",
        "import torch\n",
        "\n"
      ]
    },
    {
      "cell_type": "markdown",
      "source": [
        "# Some helper functions for visualization"
      ],
      "metadata": {
        "id": "oj8yktAXXvIx"
      }
    },
    {
      "cell_type": "code",
      "execution_count": 3,
      "metadata": {
        "id": "7dUUA5iyPdQr"
      },
      "outputs": [],
      "source": [
        "# Set up fake display; otherwise rendering will fail\n",
        "os.system(\"Xvfb :1 -screen 0 1024x768x24 &\")\n",
        "os.environ['DISPLAY'] = ':1'"
      ]
    },
    {
      "cell_type": "code",
      "execution_count": 4,
      "metadata": {
        "id": "XWLbgsBXPb6O"
      },
      "outputs": [],
      "source": [
        "import base64\n",
        "from pathlib import Path\n",
        "\n",
        "from IPython import display as ipythondisplay\n",
        "\n",
        "\n",
        "def show_videos(video_path=\"\", prefix=\"\"):\n",
        "    \"\"\"\n",
        "    Taken from https://github.com/eleurent/highway-env\n",
        "\n",
        "    :param video_path: (str) Path to the folder containing videos\n",
        "    :param prefix: (str) Filter the video, showing only the only starting with this prefix\n",
        "    \"\"\"\n",
        "    html = []\n",
        "    for mp4 in Path(video_path).glob(\"{}*.mp4\".format(prefix)):\n",
        "        video_b64 = base64.b64encode(mp4.read_bytes())\n",
        "        html.append(\n",
        "            \"\"\"<video alt=\"{}\" autoplay\n",
        "                    loop controls style=\"height: 400px;\">\n",
        "                    <source src=\"data:video/mp4;base64,{}\" type=\"video/mp4\" />\n",
        "                </video>\"\"\".format(\n",
        "                mp4, video_b64.decode(\"ascii\")\n",
        "            )\n",
        "        )\n",
        "    ipythondisplay.display(ipythondisplay.HTML(data=\"<br>\".join(html)))"
      ]
    },
    {
      "cell_type": "code",
      "execution_count": 5,
      "metadata": {
        "id": "tubE2g3HOXsD"
      },
      "outputs": [],
      "source": [
        "def record_video(env_id, model, video_length=500, prefix=\"\", video_folder=\"videos/\"):\n",
        "    \"\"\"\n",
        "    :param env_id: (str)\n",
        "    :param model: (RL model)\n",
        "    :param video_length: (int)\n",
        "    :param prefix: (str)\n",
        "    :param video_folder: (str)\n",
        "    \"\"\"\n",
        "    eval_env = DummyVecEnv([lambda: gym.make(rom, render_mode=\"rgb_array\")])\n",
        "    # Start the video at step=0 and record 500 steps\n",
        "    eval_env = VecVideoRecorder(\n",
        "        eval_env,\n",
        "        video_folder=video_folder,\n",
        "        record_video_trigger=lambda step: step == 0,\n",
        "        video_length=video_length,\n",
        "        name_prefix=prefix,\n",
        "    )\n",
        "\n",
        "    obs = eval_env.reset()\n",
        "    for _ in range(video_length):\n",
        "        action, _ = model.predict(obs)\n",
        "        obs, _, _, _ = eval_env.step(action)\n",
        "\n",
        "    # Close the video recorder\n",
        "    eval_env.close()"
      ]
    },
    {
      "cell_type": "markdown",
      "source": [
        "# Create an Atari environment using Gym, and initiate our agent.\n",
        "Stable baselines provides several RL algorithms for experimenting.\n",
        "We will use PPO in our first experiment, but feel free to uncomment another algorithm and observe the differences between them."
      ],
      "metadata": {
        "id": "41Rv441WYCk-"
      }
    },
    {
      "cell_type": "code",
      "execution_count": 6,
      "metadata": {
        "id": "qssxSsqfDjTQ"
      },
      "outputs": [],
      "source": [
        "rom = 'CartPole-v1'\n",
        "env = gym.make(rom, render_mode=\"rgb_array\")\n",
        "model = PPO('MlpPolicy',\n",
        "            env,\n",
        "            learning_rate=0.0003,\n",
        "            n_steps=2048,\n",
        "            batch_size=64,\n",
        "            n_epochs=10,\n",
        "            gamma=0.99,\n",
        "            gae_lambda=0.95,\n",
        "            clip_range=0.2,\n",
        "            clip_range_vf=None,\n",
        "            normalize_advantage=True,\n",
        "            ent_coef=0.0,\n",
        "            vf_coef=0.5,\n",
        "            max_grad_norm=0.5,\n",
        "            use_sde=False,\n",
        "            sde_sample_freq=-1,\n",
        "            target_kl=None,\n",
        "            stats_window_size=100,\n",
        "            tensorboard_log=None,\n",
        "            policy_kwargs=None,\n",
        "            verbose=0,\n",
        "            seed=None,\n",
        "            device='auto',\n",
        "            _init_setup_model=True)\n",
        "#model = A2C(policy='MlpPolicy', env=env, verbose=2, batch_size=256, clip_range=0.1, ent_coef=0.1)\n",
        "#model = DQN(policy='CnnPolicy', env=env, verbose=2, batch_size=256, policy_kwargs=policy_kwargs)"
      ]
    },
    {
      "cell_type": "markdown",
      "source": [
        "Print the model's architecture."
      ],
      "metadata": {
        "id": "Dy9V6-lnZCd7"
      }
    },
    {
      "cell_type": "code",
      "source": [
        "model.policy"
      ],
      "metadata": {
        "id": "tegx3W2gursJ"
      },
      "execution_count": null,
      "outputs": []
    },
    {
      "cell_type": "markdown",
      "source": [
        "You can easily change the model's architecture. Feel free to experiment with different architectures and observe the performance!"
      ],
      "metadata": {
        "id": "t9QU_Z6FZl1n"
      }
    },
    {
      "cell_type": "code",
      "source": [
        "policy_kwargs = dict(activation_fn=torch.nn.ReLU,\n",
        "                     net_arch=dict(pi=[128, 128], vf=[128,128]))\n",
        "\n",
        "# model = PPO(policy='MlpPolicy', env=env, verbose=2, batch_size=256, clip_range=0.1, ent_coef=0.1, policy_kwargs=policy_kwargs)\n",
        "# print(model.policy)\n"
      ],
      "metadata": {
        "id": "Ibz70wNVtd79"
      },
      "execution_count": 8,
      "outputs": []
    },
    {
      "cell_type": "code",
      "execution_count": null,
      "metadata": {
        "id": "VUnfj_iFkmaA"
      },
      "outputs": [],
      "source": [
        "# Use a separate environement for evaluation\n",
        "eval_env = gym.make(rom, render_mode=\"rgb_array\")\n",
        "\n",
        "# Let's see the mean reward of a random agent.\n",
        "mean_reward, std_reward = evaluate_policy(model, eval_env, n_eval_episodes=10)\n",
        "print(f\"mean_reward:{mean_reward:.2f} +/- {std_reward:.2f}\")"
      ]
    },
    {
      "cell_type": "code",
      "execution_count": 10,
      "metadata": {
        "colab": {
          "base_uri": "https://localhost:8080/"
        },
        "id": "U5LZjDbODxGH",
        "outputId": "8a72647b-fbd2-4100-a0b7-8f23ab88fcef"
      },
      "outputs": [
        {
          "output_type": "execute_result",
          "data": {
            "text/plain": [
              "<stable_baselines3.ppo.ppo.PPO at 0x7bdf9c257430>"
            ]
          },
          "metadata": {},
          "execution_count": 10
        }
      ],
      "source": [
        "# Train the agent for 50000 steps\n",
        "model.learn(total_timesteps=50000)"
      ]
    },
    {
      "cell_type": "code",
      "execution_count": 11,
      "metadata": {
        "colab": {
          "base_uri": "https://localhost:8080/"
        },
        "id": "PcO45VnoDzaJ",
        "outputId": "1a9d48a6-d7bb-458b-95d4-9a6d2899f766"
      },
      "outputs": [
        {
          "output_type": "stream",
          "name": "stdout",
          "text": [
            "mean_reward:500.00 +/- 0.00\n"
          ]
        }
      ],
      "source": [
        "# Evaluate the trained agent\n",
        "mean_reward, std_reward = evaluate_policy(model, eval_env, n_eval_episodes=10)\n",
        "\n",
        "print(f\"mean_reward:{mean_reward:.2f} +/- {std_reward:.2f}\")"
      ]
    },
    {
      "cell_type": "markdown",
      "source": [
        "Visualize the trained agent in action!"
      ],
      "metadata": {
        "id": "9pTZeJ5GZZSz"
      }
    },
    {
      "cell_type": "code",
      "execution_count": 12,
      "metadata": {
        "id": "dN3C3F_9Oc82",
        "colab": {
          "base_uri": "https://localhost:8080/"
        },
        "outputId": "0d5470c3-c6f9-439e-e328-7ee4fc8639e7"
      },
      "outputs": [
        {
          "output_type": "stream",
          "name": "stdout",
          "text": [
            "Saving video to /content/videos/ppo-step-0-to-step-500.mp4\n",
            "Moviepy - Building video /content/videos/ppo-step-0-to-step-500.mp4.\n",
            "Moviepy - Writing video /content/videos/ppo-step-0-to-step-500.mp4\n",
            "\n"
          ]
        },
        {
          "output_type": "stream",
          "name": "stderr",
          "text": []
        },
        {
          "output_type": "stream",
          "name": "stdout",
          "text": [
            "Moviepy - Done !\n",
            "Moviepy - video ready /content/videos/ppo-step-0-to-step-500.mp4\n"
          ]
        }
      ],
      "source": [
        "record_video(rom, model, video_length=500, prefix=\"ppo\")"
      ]
    },
    {
      "cell_type": "code",
      "execution_count": 13,
      "metadata": {
        "id": "9A1an3C5OcVu",
        "colab": {
          "base_uri": "https://localhost:8080/",
          "height": 421
        },
        "outputId": "e0248ec2-f7a5-4ba1-c56c-645c92d2c9ad"
      },
      "outputs": [
        {
          "output_type": "display_data",
          "data": {
            "text/plain": [
              "<IPython.core.display.HTML object>"
            ],
            "text/html": [
              "<video alt=\"videos/ppo-step-0-to-step-500.mp4\" autoplay\n",
              "                    loop controls style=\"height: 400px;\">\n",
              "                    <source src=\"data:video/mp4;base64,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\" type=\"video/mp4\" />\n",
              "                </video>"
            ]
          },
          "metadata": {}
        }
      ],
      "source": [
        "show_videos(\"videos\", prefix=\"ppo\")"
      ]
    },
    {
      "cell_type": "markdown",
      "source": [
        "You can also specify more complex architectures. Here is an example on how to use a pretrained ResNet as the feature extractor:\n",
        "(Note that CnnPolicy is used for image input by default)"
      ],
      "metadata": {
        "id": "HCbkmAmVaWR7"
      }
    },
    {
      "cell_type": "code",
      "source": [
        "fe = torchvision.models.resnet18(pretrained=True, progress=True)\n",
        "fe = nn.Sequential(*list(fe.children())[:-1])\n",
        "\n",
        "class CustomCNN(BaseFeaturesExtractor):\n",
        "    \"\"\"\n",
        "    :param observation_space: (gym.Space)\n",
        "    :param features_dim: (int) Number of features extracted.\n",
        "        This corresponds to the number of unit for the last layer.\n",
        "    \"\"\"\n",
        "    def __init__(self, observation_space: gym.spaces.Box, features_dim: int = 512):\n",
        "        super(CustomCNN, self).__init__(observation_space, features_dim)\n",
        "        self.cnn = fe\n",
        "        self.linear = nn.Sequential(nn.Linear(512, 128), nn.ReLU())\n",
        "\n",
        "    def forward(self, observations: torch.Tensor) -> torch.Tensor:\n",
        "        return self.linear(self.cnn(observations).squeeze().unsqueeze(0))"
      ],
      "metadata": {
        "id": "ueT_KJqjahXG"
      },
      "execution_count": 14,
      "outputs": []
    },
    {
      "cell_type": "code",
      "source": [
        "policy_kwargs = dict(\n",
        "    features_extractor_class=CustomCNN,\n",
        "    features_extractor_kwargs=dict(features_dim=128),\n",
        ")"
      ],
      "metadata": {
        "id": "xKtGuB8AaVJX"
      },
      "execution_count": 15,
      "outputs": []
    },
    {
      "cell_type": "markdown",
      "source": [
        "Feel free to experiment with different algorithms and hyperparameters, as well as various environments provided by Atari."
      ],
      "metadata": {
        "id": "ohivT6n1cB7Y"
      }
    }
  ],
  "metadata": {
    "accelerator": "GPU",
    "colab": {
      "provenance": []
    },
    "kernelspec": {
      "display_name": "Python 3",
      "name": "python3"
    },
    "language_info": {
      "name": "python"
    }
  },
  "nbformat": 4,
  "nbformat_minor": 0
}
