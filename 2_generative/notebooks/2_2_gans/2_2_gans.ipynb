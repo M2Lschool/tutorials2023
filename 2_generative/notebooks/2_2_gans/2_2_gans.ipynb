{
  "nbformat": 4,
  "nbformat_minor": 0,
  "metadata": {
    "colab": {
      "provenance": []
    },
    "kernelspec": {
      "name": "python3",
      "display_name": "Python 3"
    },
    "language_info": {
      "name": "python"
    }
  },
  "cells": [
    {
      "cell_type": "markdown",
      "source": [
        "# Tutorial Title\n",
        "---\n",
        "[authors with contact details, credits]\n",
        "<br>\n",
        "[link to colab]\n",
        "\n",
        "\n",
        "Tutorial overview.\n",
        "\n",
        "\n",
        "Tutorial outline:\n",
        "- Theory recap\n",
        "- Setup (framework info and python imports)\n",
        "- Practical 1. (basic level)\n",
        "- Practical 2. (intermediate/advanced level)\n",
        "- [Optional] Practical 3. (advanced level) - can be moved into optional material\n",
        "\n",
        "\n",
        "---\n",
        "\n",
        "__NOTE__: Keep in mind that even though Practical 1 is \"basic\" it shouldn't be too simplistic and students should learn from it (see more details in Practical 1 below). Both Practicals 1 and 2 should have solutions. We should aim for 3-5 |\"exercises\" that students have to solve per tutorial, so 2-3 per practical, and plus a 2-3 in the optional part.\n",
        "\n",
        "__NOTE__: This template is just a guideline, sometimes there is need for additional sections, references between practicals, their code and their theoretical sections, which might be difficult to fit in this template.\n",
        "The main idea is to keep the difficulty levels and desired outcomes consistent (i.e. at least 1 exercise that can be completed during the tutorial sesison).\n",
        "If you have any doubts we can discuss this ad-hoc."
      ],
      "metadata": {
        "id": "QuolPkoI7i9X"
      }
    },
    {
      "cell_type": "markdown",
      "source": [
        "## Theory recap\n",
        "---\n",
        "\n",
        "If applicable, re-iterate on the maths, schematics and high-level ideas that are necessary in the subsequent Practicals. Although we would expect the Lectures to cover the theory in-depth, we should aim to make the tutorials self-contained. However, feel free to add relevant resources as links for further reading for completeness.\n",
        "\n",
        "This should not be the main focus initially - best to first work on the Practicals and code, and then write the Theory that is needed."
      ],
      "metadata": {
        "id": "0xsQsjbk8DtK"
      }
    },
    {
      "cell_type": "markdown",
      "source": [
        "## Setup\n",
        "---\n",
        "\n",
        "Additional Notes and Setup (framework info, python imports etc)"
      ],
      "metadata": {
        "id": "Cdptlndy2eqn"
      }
    },
    {
      "cell_type": "markdown",
      "source": [
        "## Practical 1.\n",
        "---\n",
        "\n",
        "The idea is for each Practical to be very clear. The first one especially, so some things to include should be:\n",
        "- What is it about?\n",
        " - A concise description of the task, enough context about how it relates to the tutorial topic, and an explanation of why is it important for the student to complete this exercise (in the context of outcomes). Having a clear goal and limiting the scope should help the students stay motivated.\n",
        " - We should ask a few questions that require the students to have a certain level of experience/intuition in order to answer, which they will acquire after completing the practical. It is good for them to have these questions in mind so they understand the point of the exercise. (Example: How does the learning rate affect the generated image quality?)\n",
        "- Relevant background.\n",
        " - The introduction should contain enough theoretical context for the task. For example - if the student needs to implement a convolution operation, reparameterisation trick or message passing in graphs, the high-level idea behind this should be explained with necessary schematics and equations that need to be transferred to code.\n",
        "- What is expected from the student to implement?\n",
        " - In the Practical 1. (basic) it is fine to leave for the student to implement very simple functions, or fill in lines which are crucial for the algorithm that are easy to figure out from the Task Description and the Theoretical Background. \n",
        " - We should aim to *over-comment* the code, and even explicitly try to link equations with lines of code.\n",
        " - If some jax-specific or other libraries have to be called, it is fine to say which one it is in the comment. We __don't__ want the students to spend time searching for methods, but they __should__ figure out how to use them properly by checking the docs etc. (Example given below, but could include NN layers etc)\n",
        " - The training and eval loop, and basic processing and visualisation functions should be already provided in the tutorial.\n",
        " - It is good to mention what the students will need to implement at the beginning of the practical, to manage expectations.\n"
      ],
      "metadata": {
        "id": "GeL6HW2g8HQx"
      }
    },
    {
      "cell_type": "code",
      "source": [
        "# @markdown This is an example of one function within the basic exercise for the students to impelment.\n",
        "\n",
        "def encode(image, hidden_sizes=(16, 16, 16)):\n",
        "  \"\"\"VAE encoder function.\"\"\"\n",
        "\n",
        "  ### YOUR CODE HERE #########################\n",
        "  # Use haiku Flatten layer to flatten the input image.\n",
        "  flat_image = ...\n",
        "  # Use the haiku MLP to encode the flattened input image, using the given hidden layer sizes.\n",
        "  flat_encoding = ...\n",
        "  ############################################\n",
        "\n",
        "  return flat_encoding"
      ],
      "metadata": {
        "id": "BrLLaK1iFA3t"
      },
      "execution_count": null,
      "outputs": []
    },
    {
      "cell_type": "markdown",
      "source": [
        "- What is the desired outcome, i.e. what should the student take away from this exercise?\n",
        " - Ideally, at the end of the practical, the student should be able to run the code and see some results (e.g. loss graphs, predicted images, etc).\n",
        " - They should be able to play around with the hyper-parameters and re-run the code, in order to understand their affects and draw conclusions and intuition.\n",
        " - They should be able debug the code to fully understand it and test hypothesis. This can be achieved through visualisations, plotting, printing, etc, and some cases could be analysing gradients exploding, instabilities etc through visualising gradient norms.\n",
        " - In the end, the students should be able to give answers to the questions from the beginning of the Practical (or they could be posed at the end), and this is something that we will be evaluating.\n",
        "\n",
        "- Feel free to be creative with visualisations, analysis etc when designing the exercises."
      ],
      "metadata": {
        "id": "s5VCpHT1E_-F"
      }
    },
    {
      "cell_type": "markdown",
      "source": [
        "## Practical 2.\n",
        "---\n",
        "\n",
        "The format of this practical should be similar to Practical 1, with clear goals and desired outcomes.\n",
        "\n",
        "This Practical could build on top of the previous practical - requiring students to implement tools for a more thorough analysis, modify some of the original algorithm's components, using a different dataset, perform a different task etc. However, it should be significantly different than the Practical 1.\n",
        "\n",
        "\n",
        "Alternatively, this Practical could be self-sustainable, introducing another algorithm, with its own Theory Recap section. "
      ],
      "metadata": {
        "id": "oncDCZYGE35v"
      }
    },
    {
      "cell_type": "markdown",
      "source": [
        "## Practical 3.\n",
        "---\n",
        "\n",
        "The format of this Practical is open-ended and requires more coding or reasoning, as it is not expected for a beginner to be able to solve it during the tutorial, but more as a take-home exercise. \n",
        "\n",
        "The goal of this practical should be:\n",
        "1. To give something to do to students who might already know the basic stuff and want something more challenging,\n",
        "2. Give something to do to those who finish the first part quickly,\n",
        "3. Provide more advanced/deeper insights than the first 2 practicals.\n",
        "\n",
        "Some examples could include: \n",
        "- Build on top of the previous practicals by extending some of their components \n",
        "using state-of-the-art methods from a recent research paper. \n",
        "- Understanding some concepts more in-depth (e.g., if Practical 1 was around learning rates, Practical 3 could be around understanding how Adam works and how e.g., spikes in the gradient affect the metrics tracked by the optimizer).\n",
        "- Implement a similar model \"from scratch\".\n",
        "- Implement a more advanced model and assess its performance on a new dataset, then compare it to the \"basic\" version.\n",
        "- ..."
      ],
      "metadata": {
        "id": "_GaYc2mGF-Mg"
      }
    }
  ]
}