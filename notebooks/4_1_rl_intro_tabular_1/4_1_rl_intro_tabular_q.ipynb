{
  "nbformat": 4,
  "nbformat_minor": 0,
  "metadata": {
    "colab": {
      "provenance": [],
      "toc_visible": true
    },
    "kernelspec": {
      "name": "python3",
      "display_name": "Python 3"
    },
    "language_info": {
      "name": "python"
    }
  },
  "cells": [
    {
      "cell_type": "markdown",
      "source": [
        "\n",
        "\n",
        "---\n",
        "# Part I ⛳  Basics: environment, agent and tabular value-based RL\n",
        "---\n",
        "\n"
      ],
      "metadata": {
        "id": "Yy9UF1Vhg8rv"
      }
    },
    {
      "cell_type": "markdown",
      "source": [
        "This tutorial is based on\n",
        "- [Deep Learning Indaba](https://github.com/deep-learning-indaba/indaba-pracs-2022)\n",
        "- [DeepMind Educational Resources](https://github.com/deepmind/educational)\n",
        "\n",
        "Adapted by Ksenia Konyushkova with feedback from Lucas Maystre, Andrey Konyushkov, Nemanja Rakićević, and Pavlos Tosidis.\n",
        "\n",
        "Note: in this tutorial we don't need to run the code on any accelerator, so you can select CPU kernel."
      ],
      "metadata": {
        "id": "X_UgSyP-ILIR"
      }
    },
    {
      "cell_type": "markdown",
      "source": [
        "##🎉🎉🎉 Welcome to the Reinforcement Learning (RL) tutorial! 🎉🎉🎉\n",
        "\n",
        "In this tutorial, we will be learning about Reinforcement Learning, a type of Machine Learning where an **agent** learns to choose **actions** in an **environment** that lead to maximal **reward** in the long run. RL has seen tremendous success on a wide range of challenging problems such as learning to play complex games like [Atari](https://www.deepmind.com/blog/agent57-outperforming-the-human-atari-benchmark), [StarCraft II](https://www.deepmind.com/blog/alphastar-mastering-the-real-time-strategy-game-starcraft-ii) and [Dota II](https://openai.com/five/) and [Go](https://www.nature.com/articles/nature16961).\n",
        "\n",
        "Unlike fields like supervised learning, where we give examples of expected behaviour to our models, RL focuses on *goal-orientated* learning from interactions, through trial-and-error. RL algorithms learn what to do (i.e., which actions to take) in an environment to maximise some reward signal. In settings like a video game, the reward signal could be the score of the game, i.e., RL algorithms will try to maximise the score in the game by choosing the best actions.  \n",
        "\n",
        "<center>\n",
        "<img src=\"https://miro.medium.com/max/1400/1*Ews7HaMiSn2l8r70eeIszQ.png\" width=\"40%\" />\n",
        "</center>\n",
        "\n",
        "[*Image Source*](https://towardsdatascience.com/multi-agent-deep-reinforcement-learning-in-15-lines-of-code-using-pettingzoo-e0b963c0820b)\n",
        "\n",
        "More precisely, in RL we have an **agent** which perceives an **observation** $o_t$ of the current state $s_t$ of the **environment** and must choose an **action** $a_t$ to take. The environment then transitions to a new state $s_{t+1}$ in response to the agent's action and also gives the agent a scalar reward $r_t$ to indicate how good or bad the chosen action was given the environment's state. The goal in RL is for the agent to maximise the amount of reward it receives from the environment over time. The subscript $t$ is used to indicate the timestep number. In this tutorial we will only consider fully observable games, which means thet state of the environment and observation of the agent are the same.\n",
        "\n",
        "We will cover the following sections in this tutorial:\n",
        "\n",
        "* **Environments** where we will either implement a simple environment or use a classical gym environment.\n",
        "* **Agent-Environment loop** where we will see how agent and environment interact. We will consider the simplest possible agent for this: the agent that just takes a random action at each step.\n",
        "* **Value-based reinforcement learning** where we will implement an agent that learns from its interactions with the environment which actions to take to achieve the highest reward."
      ],
      "metadata": {
        "id": "SF6XjKzGKcMQ"
      }
    },
    {
      "cell_type": "markdown",
      "source": [
        "In this colab you will find some\n",
        "\n",
        "#### ⭐ Exercises\n",
        "where you need to implement missing parts in the code, or answer the quesions that test your understanding of code and algothims.\n",
        "When you need to complete some code, the section is marked as:\n",
        "\n",
        "```\n",
        "# -----------------------------------#\n",
        "# You code goes here\n",
        "# -----------------------------------#\n",
        "```\n",
        "with any comments to help you to complete the task. Sometimes it is useful to have a look at further code in the cell to understand which variables you need to assign in your implementation.\n",
        "Some exercises only require you to answer the questions or experiment with the code.\n",
        "You can skip bonus exercises if you are short on time as the rest of the content does not depend on them. You can use the Table of content on the left to vavigate the tutorial. Let's begin!\n"
      ],
      "metadata": {
        "id": "833wUQyy5DsU"
      }
    },
    {
      "cell_type": "code",
      "source": [
        "# Install dependencies\n",
        "%%capture\n",
        "\n",
        "!pip install dm_env\n",
        "!pip install gym[accept-rom-license]\n",
        "!pip install dm-acme[envs]\n",
        "!pip install autorom[accept-rom-license]"
      ],
      "metadata": {
        "id": "bz9ZYSVK5D_e"
      },
      "execution_count": null,
      "outputs": []
    },
    {
      "cell_type": "code",
      "source": [
        "# Imports\n",
        "\n",
        "import collections\n",
        "import random\n",
        "from typing import Sequence\n",
        "\n",
        "import dm_env\n",
        "from dm_env import specs\n",
        "from matplotlib import animation\n",
        "from matplotlib import rc\n",
        "import matplotlib.pyplot as plt\n",
        "import numpy as np\n",
        "import gym\n",
        "from acme.wrappers import atari_wrapper, gym_wrapper\n",
        "from acme import wrappers\n",
        "from matplotlib.patches import namedtuple\n",
        "\n",
        "rc('animation', html='jshtml')\n",
        "import warnings\n",
        "warnings.filterwarnings('ignore')"
      ],
      "metadata": {
        "id": "JAlbDPgu5I1m"
      },
      "execution_count": null,
      "outputs": []
    },
    {
      "cell_type": "markdown",
      "source": [
        "# Environments\n",
        "\n",
        "In reinforcement learning, we do not start with a dataset, but with an environment. Environments in RL represent the task or problem that we are trying to solve. There are many types of environments, such as board or computer games, simulated robotics settings, etc.\n",
        "\n",
        "In this tutorial, we will look in details at two simple environments: Catch and Cartpole."
      ],
      "metadata": {
        "id": "811cGXaC-AN7"
      }
    },
    {
      "cell_type": "markdown",
      "source": [
        "## Create your own environment\n",
        "\n",
        "We will use `dm_env` library to define the environment. We will rely on the example [Catch](https://github.com/deepmind/dm_env/blob/master/examples/catch.py). from the library. Catch is a simple game, which is often used as a test bed for RL algorithms.\n",
        "\n",
        "In this environment, a ball drops from the top and the agent controls the paddle at the bottom via three possible  **actions**: `left`, `stay`, and `right`. The **reward** 🥕 is given at the end of the episode, and is either $+1$ for catching the ball or $-1$ dropping the ball (and $0$ in all intermediate steps). The **episode** ends when the ball reaches the bottom of the screen. The **return** is the discounted sum of rewards in an episode:\n",
        "\n",
        "$${r}(\\tau_i) = \\sum_{t=1}^{T_i} \\gamma^t {r_{i,t}},$$\n",
        "\n",
        "where $T_i$ is the episode length.\n",
        "The discount factor allows us to increase the importance of rewards received quickly and decrease the importance of rewards that take long to receive. In this environment the discount does not have a large role to play, so we  set it to $\\gamma^t=1$ for now and for the rest of the tutorial consider return to be just the sum of rewards in an episode:\n",
        "$${r}(\\tau_i) = \\sum_{t=1}^{T_i} {r_{i,t}}$$\n"
      ],
      "metadata": {
        "id": "0r3SlrpIPrRH"
      }
    },
    {
      "cell_type": "markdown",
      "source": [
        "### ⭐ Exercise\n",
        "Read through the environment specification code. Fill in the missing code to complete the `Catch` class. In particular, you need to make sure the ball is moving down by one row at every timestep."
      ],
      "metadata": {
        "id": "I4YN8W-mRIaX"
      }
    },
    {
      "cell_type": "code",
      "source": [
        "_ACTIONS = (-1, 0, 1)  # Move paddle left, no-op, move paddle right.\n",
        "\n",
        "class Catch(dm_env.Environment):\n",
        "  \"\"\"A Catch environment built on the dm_env.Environment class.\n",
        "\n",
        "  The agent must move a paddle to intercept falling balls. Falling balls only\n",
        "  move downwards on the column they are in.\n",
        "\n",
        "  The observation is an array with shape (rows, columns) containing binary\n",
        "  values: 0 if a space is empty; 1 if it contains the paddle and 2 for a ball.\n",
        "\n",
        "  The actions are discrete, and by default there are three available actions:\n",
        "  move left, stay, and move right.\n",
        "\n",
        "  The episode terminates when the ball reaches the bottom of the screen.\n",
        "  \"\"\"\n",
        "\n",
        "  def __init__(self,\n",
        "               rows: int = 10,\n",
        "               columns: int = 5,\n",
        "               discount: float = 1.0):\n",
        "    \"\"\"Initializes a new Catch environment.\n",
        "\n",
        "    Args:\n",
        "      rows: number of rows.\n",
        "      columns: number of columns.\n",
        "      discount: discount factor for calculating reward.\n",
        "    \"\"\"\n",
        "    self._rows = rows\n",
        "    self._columns = columns\n",
        "    self._discount = discount\n",
        "    self._board = np.zeros((rows, columns), dtype=np.float32)\n",
        "    self._ball_x = None\n",
        "    self._ball_y = None\n",
        "    self._paddle_x = None\n",
        "    self._reset_next_step = True\n",
        "\n",
        "  def reset(self) -> dm_env.TimeStep:\n",
        "    \"\"\"Returns the first `TimeStep` of a new episode.\"\"\"\n",
        "    self._reset_next_step = False\n",
        "    # Ball can drop from any column.\n",
        "    self._ball_x = np.random.randint(self._columns)\n",
        "    self._ball_y = 0  # Top of matrix.\n",
        "    self._paddle_x = self._columns // 2  # Centre.\n",
        "\n",
        "    return dm_env.restart(self._observation())\n",
        "\n",
        "  def step(self, action: int) -> dm_env.TimeStep:\n",
        "    \"\"\"Updates the environment according to the action.\"\"\"\n",
        "    if self._reset_next_step:\n",
        "      return self.reset()\n",
        "\n",
        "    # Move the paddle.\n",
        "    dx = _ACTIONS[action]  # Get action. dx = change in x position.\n",
        "    # Clip to keep paddle in bounds of the environment matrix.\n",
        "    self._paddle_x = np.clip(self._paddle_x + dx, 0, self._columns - 1)\n",
        "\n",
        "    # -----------------------------------#\n",
        "    # Drop the ball down one row: increase y coordinate of the ball by 1.\n",
        "\n",
        "    # -----------------------------------#\n",
        "\n",
        "    # Check for termination.\n",
        "    if self._ball_y == self._rows - 1:  # Ball has fallen below the rows.\n",
        "      # Reward depends on whether the paddle is on the ball (positions match).\n",
        "      reward = 1. if self._paddle_x == self._ball_x else -1.\n",
        "      self._reset_next_step = True\n",
        "      return dm_env.termination(reward=reward, observation=self._observation())\n",
        "\n",
        "    return dm_env.transition(reward=0., observation=self._observation(),\n",
        "                             discount=self._discount)\n",
        "\n",
        "  def observation_spec(self) -> specs.BoundedArray:\n",
        "    \"\"\"Returns the observation spec.\"\"\"\n",
        "    return specs.BoundedArray(\n",
        "        shape=self._board.shape,\n",
        "        dtype=self._board.dtype,\n",
        "        name='board',\n",
        "        minimum=0,\n",
        "        maximum=2)\n",
        "\n",
        "  def action_spec(self) -> specs.DiscreteArray:\n",
        "    \"\"\"Returns the action spec.\"\"\"\n",
        "    return specs.DiscreteArray(\n",
        "        dtype=int, num_values=len(_ACTIONS), name='action')\n",
        "\n",
        "  def _observation(self) -> np.ndarray:\n",
        "    self._board.fill(0.)\n",
        "    self._board[self._ball_y, self._ball_x] = 2.\n",
        "    self._board[self._rows - 1, self._paddle_x] = 1.\n",
        "\n",
        "    return self._board.copy()\n",
        "\n",
        "# Function to animate the observations\n",
        "def animate(data, interval=200):\n",
        "  fig = plt.figure(1)\n",
        "  img = plt.imshow(data[0])\n",
        "  plt.axis('off')\n",
        "\n",
        "  def animate(i):\n",
        "    img.set_data(data[i])\n",
        "\n",
        "  anim = animation.FuncAnimation(fig, animate, frames=len(data), interval=interval)\n",
        "  plt.close(1)\n",
        "  return anim"
      ],
      "metadata": {
        "id": "d5uibC6q8kvd"
      },
      "execution_count": null,
      "outputs": []
    },
    {
      "cell_type": "markdown",
      "source": [
        "\n",
        "Let's look at the types of objects the environment returns (observations) and consumes (actions). The `environment_spec` will show you the form of the **observations**, **rewards** and discounts that the environment exposes and the form of the **actions** that can be taken:"
      ],
      "metadata": {
        "id": "SB-cx8PD-Fgg"
      }
    },
    {
      "cell_type": "code",
      "source": [
        "# Create an environment.\n",
        "env = Catch(rows=10, columns=5)\n",
        "print(env.observation_spec())\n",
        "print(env.reward_spec())\n",
        "print(env.action_spec())"
      ],
      "metadata": {
        "id": "Fp4ufjyj98LK"
      },
      "execution_count": null,
      "outputs": []
    },
    {
      "cell_type": "markdown",
      "source": [
        "### ⭐ Exercise\n",
        "\n",
        "What does observation\n",
        "```\n",
        "[[0., 0., 0., 0., 0.],\n",
        " [0., 0., 0., 0., 2.],\n",
        " [0., 0., 0., 0., 0.],\n",
        " [0., 0., 0., 0., 0.],\n",
        " [0., 0., 0., 0., 0.],\n",
        " [0., 0., 0., 0., 0.],\n",
        " [0., 0., 0., 0., 0.],\n",
        " [0., 0., 0., 0., 0.],\n",
        " [0., 0., 0., 0., 0.],\n",
        " [0., 1., 0., 0., 0.]]\n",
        "```\n",
        "represent?"
      ],
      "metadata": {
        "id": "u6Y81Jo3jUdC"
      }
    },
    {
      "cell_type": "markdown",
      "source": [
        "We can see that by default the **observations** consist of a matrix of shape $(10, 5)$. You can change the size of the game by setting the `rows` and `columns` parameters to different values when creating an instance of a game. The **actions** is a $1$-D integer array with possible values $[0, 1, 2]$. Finally, the **reward** is a scalar.\n",
        "\n",
        "Now we want to take an action using the `step` method to interact with the environment, which will return a `TimeStep` namedtuple with fields:\n",
        "\n",
        "```\n",
        "timestep = (step_type, reward, discount, observation)\n",
        "```"
      ],
      "metadata": {
        "id": "IgPb8rRL-pCT"
      }
    },
    {
      "cell_type": "markdown",
      "source": [
        "**step_type**: indicates whether we're at the beginning, middle, or end of the episode. For more details, look [here](https://github.com/deepmind/dm_env/blob/master/dm_env/_environment.py#L32). For example, if you want to check if you are at the end of the episode, you can check if `step_type.last()` is `True`.\n",
        "\n",
        "**reward**: is the reward returned by the environment at this step. Note that before we take an action the reward is `None`.\n",
        "\n",
        "**discount**: is the discount factor $\\gamma$ (will be set to $1$ for simplicity).\n",
        "\n",
        "**observations**: our observations are zero everywhere except where the paddle is indicated by $1$ and ball is indicated by $2$."
      ],
      "metadata": {
        "id": "G9K1ODXU_C8o"
      }
    },
    {
      "cell_type": "markdown",
      "source": [
        "We can visualise the observations after taking some actions as images."
      ],
      "metadata": {
        "id": "T5qOi851Rw-n"
      }
    },
    {
      "cell_type": "code",
      "source": [
        "# Reset and initialise the environment.\n",
        "step_type, reward, discount, observation = env.reset()\n",
        "plt.imshow(observation)\n",
        "plt.show()\n",
        "print('\\nstep_type:', step_type)\n",
        "print('reward:', reward)\n",
        "print('discount:', discount)\n",
        "\n",
        "# Let's take a single action.\n",
        "step_type, reward, discount, observation = env.step(0)\n",
        "plt.imshow(observation)\n",
        "plt.show()\n",
        "\n",
        "print('\\nstep_type:', step_type)\n",
        "print('reward:', reward)\n",
        "print('discount:', discount)"
      ],
      "metadata": {
        "id": "AiF4LbQ0-JYa"
      },
      "execution_count": null,
      "outputs": []
    },
    {
      "cell_type": "markdown",
      "source": [
        "### ⭐ Exercise\n",
        "\n",
        "Make a game board with $3$ rows and $2$ colums. Take $2$ actions to go to the right (until the game is finished). Questions:\n",
        "- what is the reward at the very first timestep?\n",
        "- compute the return as sum of rewards in the episode.\n",
        "- given that the ball's position is random at initialisation, what is the probability to catch the ball?"
      ],
      "metadata": {
        "id": "H8wxwt_cSTUE"
      }
    },
    {
      "cell_type": "code",
      "source": [
        "# Make an environment\n",
        "# -----------------------------------#\n",
        "# Create an environment\n",
        "env =\n",
        "# -----------------------------------#\n",
        "\n",
        "a_return = 0\n",
        "# -----------------------------------#\n",
        "# Reset and initialise the environment.\n",
        "# Remember that reward is None and it does not need to be used for return computation\n",
        "step_type, reward, discount, observation =\n",
        "# -----------------------------------#\n",
        "# show an observation\n",
        "plt.imshow(observation)\n",
        "plt.show()\n",
        "\n",
        "# -----------------------------------#\n",
        "# Go to the right\n",
        "# Remember to add the reward to a_return\n",
        "step_type, reward, discount, observation =\n",
        "# update a_return\n",
        "a_return =\n",
        "# -----------------------------------#\n",
        "# show an observation\n",
        "plt.imshow(observation)\n",
        "plt.show()\n",
        "\n",
        "# -----------------------------------#\n",
        "# Go to the right\n",
        "# Remember to add the reward to a_return\n",
        "step_type, reward, discount, observation =\n",
        "# update a_return\n",
        "a_return =\n",
        "# -----------------------------------#\n",
        "# show an observation\n",
        "plt.imshow(observation)\n",
        "plt.show()\n",
        "\n",
        "print('return=', a_return)"
      ],
      "metadata": {
        "id": "DlcTt1qkTJfa"
      },
      "execution_count": null,
      "outputs": []
    },
    {
      "cell_type": "markdown",
      "source": [
        "## Use one of the gym environments\n",
        "\n",
        "We will use a famous [CartPole](https://gymnasium.farama.org/environments/classic_control/cart_pole/) or inverted pendulum environment.\n",
        "\n",
        "<center><img src=\"https://user-images.githubusercontent.com/10624937/42135683-dde5c6f0-7d13-11e8-90b1-8770df3e40cf.gif\" height=\"250\" /></center>\n",
        "\n",
        "From the documentation:\n",
        "\n",
        "```A pole is attached by an un-actuated joint to a cart, which moves along a frictionless track. The pendulum is placed upright on the cart and the goal is to balance the pole by applying forces in the left and right direction on the cart. The action ... can take values $\\{0, 1\\}$ indicating the direction of the fixed force the cart is pushed with. The observation ... includes the values corresponding to the following positions and velocities: Cart Position, Cart Velocity, Pole Angle, Pole Angular Velocity. Since the goal is to keep the pole upright for as long as possible, a reward of $+1$ for every step taken, including the termination step, is allotted. At the starting state all observations are assigned a uniformly random value in $(-0.05, 0.05)$.```\n",
        "\n",
        "Please heck the [documentation](https://gymnasium.farama.org/environments/classic_control/cart_pole/) to see more details about the environment.\n",
        "\n",
        "Note that in this tutorial we will use *environement wrapper* in order to make the interface of the environment the same as `dm_env` so that we can swap them easily. This means that you can use the same functions as we used for Catch environment."
      ],
      "metadata": {
        "id": "VZnIsEzdUoGq"
      }
    },
    {
      "cell_type": "code",
      "source": [
        "# Make an environment\n",
        "env = gym_wrapper.GymWrapper(gym.make('CartPole-v1'))\n",
        "env = wrappers.SinglePrecisionWrapper(env)"
      ],
      "metadata": {
        "id": "T0T82Q-7rs8B"
      },
      "execution_count": null,
      "outputs": []
    },
    {
      "cell_type": "markdown",
      "source": [
        "### ⭐ Exercise\n",
        "\n",
        "What are the observation, action and reward spec? You the same functions for checking this as we used above for Catch."
      ],
      "metadata": {
        "id": "sisnidxvzarO"
      }
    },
    {
      "cell_type": "code",
      "source": [
        "# -----------------------------------#\n",
        "# print observation spec\n",
        "\n",
        "# print action spec\n",
        "\n",
        "# print reward spec\n",
        "\n",
        "# -----------------------------------#"
      ],
      "metadata": {
        "id": "QB9bejahwGTK"
      },
      "execution_count": null,
      "outputs": []
    },
    {
      "cell_type": "markdown",
      "source": [
        "### ⭐ Exercise\n",
        "\n",
        "Let's reset the environment and then apply the force in one direction until the episode is terminated. Fill in the gaps and compute the retrun. Run the code several times. Does the sum of rewards change? Why? What is the average (not discounted) return?"
      ],
      "metadata": {
        "id": "DkaQ6p9ycW5h"
      }
    },
    {
      "cell_type": "code",
      "source": [
        "# -----------------------------------#\n",
        "# Reset the environment.\n",
        "step_type, reward, discount, observation =\n",
        "# -----------------------------------#\n",
        "print('reward = ', reward)\n",
        "\n",
        "a_return = 0\n",
        "# we can use step_type.last() to determine if an episode terminated\n",
        "while not step_type.last():\n",
        "  # -----------------------------------#\n",
        "  # Go to the right\n",
        "  step_type, reward, discount, observation =\n",
        "  print('reward = ', reward)\n",
        "  # update a_return\n",
        "  a_return =\n",
        "  # -----------------------------------#\n",
        "\n",
        "print('Return=', a_return)"
      ],
      "metadata": {
        "id": "BE-8YiJyxpC4"
      },
      "execution_count": null,
      "outputs": []
    },
    {
      "cell_type": "markdown",
      "source": [
        "Let's visualise the environment frame"
      ],
      "metadata": {
        "id": "YFr5A2Jtc1u-"
      }
    },
    {
      "cell_type": "code",
      "source": [
        "plt.imshow(env.render(mode='rgb_array'))"
      ],
      "metadata": {
        "id": "RMBmvyTrDhuw"
      },
      "execution_count": null,
      "outputs": []
    },
    {
      "cell_type": "markdown",
      "source": [
        "### ⭐ Bonus exercise\n",
        "\n",
        "Load one of the other gym environments. Check what its specs are. Manually step through the environment. In atari, you can plot the observation which contains the game image.\n",
        "\n",
        "This is how you can load the Mountain Car environment:\n",
        "```\n",
        "env = gym_wrapper.GymWrapper(gym.make('MountainCar-v0'))\n",
        "env = wrappers.SinglePrecisionWrapper(env)\n",
        "```\n",
        "\n",
        "And this is how you can load some of the atari environments:\n",
        "```\n",
        "env = gym_wrapper.GymAtariAdapter(gym.make('Pong-v4'))\n",
        "env = atari_wrapper.AtariWrapper(env)\n",
        "env = wrappers.SinglePrecisionWrapper(env)\n",
        "```\n",
        "\n",
        "\n",
        "\n"
      ],
      "metadata": {
        "id": "H51yO57XEy00"
      }
    },
    {
      "cell_type": "code",
      "source": [
        "# -----------------------------------#\n",
        "\n",
        "# -----------------------------------#"
      ],
      "metadata": {
        "id": "sq77d2C9FDt_"
      },
      "execution_count": null,
      "outputs": []
    },
    {
      "cell_type": "markdown",
      "source": [
        "# Agent-Environment loop\n",
        "We now turn to the agent. An agent receives the current **state** from the environment, and uses an internal **policy** to determine an **action** to take. We implement the agent as a Python [class](https://en.wikibooks.org/wiki/A_Beginner%27s_Python_Tutorial/Classes), which is just a logical wrapper of variables and methods (functions) that operate on those variables. The methods our first agent will have are the following:\n",
        "\n",
        "\n",
        "* ```__init__```:  Initialises the agent the first time it's created.\n",
        "* `actor_step`: Receives the timestep information from the environment and returns an action.\n",
        "\n"
      ],
      "metadata": {
        "id": "vRTe5Tc7_HGQ"
      }
    },
    {
      "cell_type": "markdown",
      "source": [
        "## Random Agent\n",
        "\n",
        "To get a feel for an agent and the methods it has, let's first implement an agent that ignores the observations and just takes a *random* action at every step: for example, for Catch it decides to go righ, left or stay in place with equal probability."
      ],
      "metadata": {
        "id": "634NRlgl_JkG"
      }
    },
    {
      "cell_type": "markdown",
      "source": [
        "### ⭐ Exercise\n",
        "\n",
        "Fill in the gap in the random agent to return a random action. The main piece of information we need in order to implement this agent is the number of available actions in this environment (e.g., $3$ in Catch for going right, left or staying in place). We can get this information from the `num_values` attribute of an action spec `env.action_spec()`."
      ],
      "metadata": {
        "id": "dvOZbBV0_M6k"
      }
    },
    {
      "cell_type": "code",
      "source": [
        "class RandomAgent(object):\n",
        "  \"\"\"An agent which simply takes random actions ignoring observations.\"\"\"\n",
        "\n",
        "  def __init__(self,\n",
        "               action_spec: specs.DiscreteArray):\n",
        "    # -----------------------------------#\n",
        "    # _num_actions is the number of possible actions in the environment\n",
        "    self._num_actions =\n",
        "    # -----------------------------------#\n",
        "\n",
        "  def actor_step(self, timestep: dm_env.TimeStep):\n",
        "    # This agent is ignoring the observations, so we delete timestep\n",
        "    del timestep\n",
        "    # -----------------------------------#\n",
        "    # Return a random integer between 0 and (self._num_actions - 1)\n",
        "    # You can use np.random module here\n",
        "    return\n",
        "    # -----------------------------------#"
      ],
      "metadata": {
        "id": "lc_pNAB1_L4H"
      },
      "execution_count": null,
      "outputs": []
    },
    {
      "cell_type": "markdown",
      "source": [
        "## Run Loop\n",
        "\n",
        "Now we can loop through the environment using our random agent until the environment is terminated. We call each sequence of interactions with the environment until the termination of the episode. From now on we will refer to the NamedTuple `timestep = (step_type, reward, discount, observation)`. Note how we use `step_type` to determin the end of the episode. Here we repeat the loop $10$ times."
      ],
      "metadata": {
        "id": "ssUdHg7q_ZHl"
      }
    },
    {
      "cell_type": "markdown",
      "source": [
        "### ⭐ Exercise\n",
        "\n",
        "Fill in the gaps in the agent - environment loop with Catch environment. Compute the agent return at the end of each epsiode. What is the average return of the random agent?"
      ],
      "metadata": {
        "id": "T2FOgLAtb8V3"
      }
    },
    {
      "cell_type": "code",
      "source": [
        "num_episodes = 10  # @param\n",
        "\n",
        "# Initialise Catch environment.\n",
        "# -----------------------------------#\n",
        "env =\n",
        "# -----------------------------------#\n",
        "\n",
        "# Initialise the agent.\n",
        "agent = RandomAgent(env.action_spec())\n",
        "\n",
        "all_returns = []\n",
        "# Run loop.\n",
        "for episode in range(num_episodes):\n",
        "  timesteps = []  # Accumulate data for the episode.\n",
        "\n",
        "  # Prepare agent, environment and accumulator for a new episode.\n",
        "  # -----------------------------------#\n",
        "  # reset the environment\n",
        "  timestep =\n",
        "  # -----------------------------------#\n",
        "\n",
        "  while not timestep.last():\n",
        "    # Save the timestep\n",
        "    timesteps.append(timestep)\n",
        "    # -----------------------------------#\n",
        "    # use agents actor_step method to select the action\n",
        "    action =\n",
        "    # -----------------------------------#\n",
        "    # make a step in the environment and get the next timestep\n",
        "    timestep = env.step(action)\n",
        "\n",
        "  # Save the last timestep too.\n",
        "  timesteps.append(timestep)\n",
        "\n",
        "  # -----------------------------------#\n",
        "  # Compute the return from a list of timesteps\n",
        "  # Use can use timesteps.reward to access the reward\n",
        "  # Remember: The first timestep is ignored as reward is None.\n",
        "  returns =\n",
        "  # -----------------------------------#\n",
        "  all_returns.append(returns)\n",
        "  print(f'Episode {episode:}: Returns: {returns:.2f}.')\n",
        "average_return = np.mean(all_returns)\n",
        "print(f'Average return = {average_return:.2f}.')"
      ],
      "metadata": {
        "id": "-wS5Tmjf-s3t"
      },
      "execution_count": null,
      "outputs": []
    },
    {
      "cell_type": "markdown",
      "source": [
        "We can now look at the game from the last episode."
      ],
      "metadata": {
        "id": "AynOodKQAK-X"
      }
    },
    {
      "cell_type": "code",
      "source": [
        "animate([item.observation for item in timesteps])"
      ],
      "metadata": {
        "id": "Jiy-4Qql_BqB"
      },
      "execution_count": null,
      "outputs": []
    },
    {
      "cell_type": "markdown",
      "source": [
        "### ⭐ Bonus exercise\n",
        "\n",
        "- Experiment with the size of the game field (number of rows and number of columns). How does the average return vary with it?\n",
        "- Consider, for example, the number of columns and rows between $2$ and $7$ and make a plot of the average return. To make the results less noisy, you might need to increase the number of episodes for each size.\n",
        "- Which version of the game is the easiest? Which one is the hardest? What does it depend on?"
      ],
      "metadata": {
        "id": "UevfPALZbyrt"
      }
    },
    {
      "cell_type": "code",
      "source": [
        "# -----------------------------------#\n",
        "\n",
        "# -----------------------------------#"
      ],
      "metadata": {
        "id": "YOT88s5ZYBzw"
      },
      "execution_count": null,
      "outputs": []
    },
    {
      "cell_type": "markdown",
      "source": [
        "As the interface of CartPole environment is the same as for Catch, we can just replace the environment and run the same agent:"
      ],
      "metadata": {
        "id": "s06XD55yFbPq"
      }
    },
    {
      "cell_type": "code",
      "source": [
        "num_episodes = 10  # @param\n",
        "\n",
        "# Initialise the environment.\n",
        "env = gym_wrapper.GymWrapper(gym.make('CartPole-v1'))\n",
        "env = wrappers.SinglePrecisionWrapper(env)\n",
        "\n",
        "# Initialise the agent.\n",
        "agent = RandomAgent(env.action_spec())\n",
        "\n",
        "all_returns = []\n",
        "# Run loop.\n",
        "for episode in range(num_episodes):\n",
        "  timesteps = []  # Accumulate data for the episode.\n",
        "\n",
        "  # Prepare agent, environment and accumulator for a new episode.\n",
        "  # reset the environment\n",
        "  timestep = env.reset()\n",
        "\n",
        "  frames = []\n",
        "  while not timestep.last():\n",
        "    frames.append(env.render(mode='rgb_array'))\n",
        "    timesteps.append(timestep)\n",
        "    # use agents actor_step to select the action\n",
        "    action = agent.actor_step(timestep)\n",
        "    # make a step in the environment and get the next timestep\n",
        "    timestep = env.step(action)\n",
        "\n",
        "  # Save the last timestep too.\n",
        "  timesteps.append(timestep)\n",
        "\n",
        "  # Compute the return from a list of timesteps\n",
        "  # Remember: The first timestep is ignored as reward is NaN.\n",
        "  returns = sum([x.reward for x in timesteps[1:]])\n",
        "  all_returns.append(returns)\n",
        "  print(f'Episode {episode:}: Returns: {returns:.2f}.')\n",
        "average_return = np.mean(all_returns)\n",
        "print(f'Average return = {average_return:.2f}.')\n",
        "print('You are likely to get the average return between 15 and 30.')"
      ],
      "metadata": {
        "id": "XrxbrZ0jEIJN"
      },
      "execution_count": null,
      "outputs": []
    },
    {
      "cell_type": "code",
      "source": [
        "animate(frames, interval=50)"
      ],
      "metadata": {
        "id": "WCwRYkXGFk1O"
      },
      "execution_count": null,
      "outputs": []
    },
    {
      "cell_type": "markdown",
      "source": [
        "# Value-Based Reinforcement Learning\n",
        "\n",
        "Not surprisingly, our random agent is not really good at this game and we need to use some learning.\n",
        "\n",
        "In **value-based** reinforcement learning methods, agents maintain a **value** for all **state-action** pairs. A **value** of a **state-action** pair is telling us what reward to expect if we start at this **state**, take this action and afterwards follow a policy. Then, we use these **value** estimates to choose actions that maximise the value.\n",
        "\n",
        "\n",
        "## Q-learning\n",
        "\n",
        "One efficient algorithm for value-based learning is [Q-learning](https://en.wikipedia.org/wiki/Q-learning).\n",
        "The function that mapping state-action pairs to values for a specific policy $\\pi$ is called **Q-function**.\n",
        "Formally, **Q-function** is defined as:\n",
        "\n",
        "$$ Q^{\\pi}(s,a) = \\mathbb{E}_{\\tau \\sim P^{\\pi}} \\left[ \\sum_t \\gamma^t R_t| s_0=s,a=a_0 \\right]$$\n",
        "\n",
        "where $\\tau = \\{s_0, a_0, r_0, s_1, a_1, r_1, \\cdots \\}$. In other words, $Q^{\\pi}(s,a)$ is the expected **value** (sum of discounted rewards) of being in a given **state** $s$ and taking the **action** $a$ and then following policy ${\\pi}$ thereafter.\n",
        "\n",
        "Given a Q-function, it is easy to construct a good policy. For example, a greedy policy selects the action that maximises the Q-function estimate:\n",
        "$$\\pi_{greedy} (a|s) = \\arg\\max_a Q^{\\pi}(s,a). $$\n",
        "\n",
        "The value $V^\\pi$ of a state is the expected $Q^\\pi$ over possible actions:\n",
        "\n",
        "$$V^\\pi(s) = \\sum_{a \\in A} \\pi(a |s) Q^\\pi(s,a)$$\n",
        "\n",
        "We will reply on famous Bellman Optimality Equation to estimate the Q-function:\n",
        "\n",
        "$$ Q^\\pi(s,a) =  r(s,a) + \\gamma  \\sum_{s'\\in S} P(s' |s,a) V^\\pi(s'). $$\n",
        "\n",
        "It breaks down $Q^{\\pi}(s,a)$ into 2 parts: the immediate reward associated with being in state $s$ and taking action $a$, and the discounted sum of all future rewards. Then, to learn the Q-function we can use [temporal difference (TD) learning](https://en.wikipedia.org/wiki/Temporal_difference_learning).\n",
        "If we are given a sample of state $s$, action $a$, reward $r(s,a)$ and next state $s'$, we compute the TD-error $\\delta$ of a policy $\\pi_e$ as:\n",
        "\n",
        "$$\\delta = r(s,a) + \\gamma Q(s', \\underbrace{\\pi_e(s'}_{a'})) − Q(s, a).$$\n",
        "The first two terms is the Q-function estimate of $Q(s,a)$ through the immediate reward and Q-function of the next state, and the third term is the direct estimate of the Q-function.\n",
        "\n",
        "Then, we will update the $Q$ value estimates at each step with the following update rule:\n",
        "\n",
        "$$Q(s, a) \\gets Q(s, a) + \\alpha \\delta, $$\n",
        "\n",
        "where $\\delta$ is a TD-error and $\\alpha$ is a small learning step size will influence how quickly our $Q$ values will be updated given new observations.\n"
      ],
      "metadata": {
        "id": "ksA42QGY2JaI"
      }
    },
    {
      "cell_type": "markdown",
      "source": [
        "## Tabular Q-learning\n",
        "\n",
        "We will start with tabular Q-learning where Q-function is represented by a table with a value for every state and action. For this, we will need to enumerate all possible states and actions."
      ],
      "metadata": {
        "id": "d0vis_uAl-uJ"
      }
    },
    {
      "cell_type": "markdown",
      "source": [
        "### Steps to implement Q-learning agent\n",
        "\n",
        "We will modify the Random Agent in the following way:\n",
        "\n",
        "1. **Represent Q values.** Our state space is the position of the ball and paddle in the grid so its size is $c*r*c$, where $r, c$ are the numbers of rows and columns, respectively. Our number of actions is $3$ (move left, stay, move right). So a tabular representation of $Q$ will be a matrix of size `(number of states, number of actions)=(c*r*c, 3)`.\n",
        "\n",
        "2. **Implement a policy.** We will use a greedy policy that returns the action with the highest $Q$ value.\n",
        "\n",
        "3. **Implement a learning step.** We need to add a new method to our agent class to do the learning step which updates the $Q$ values based on the data. We will call this new method  `learner_step`."
      ],
      "metadata": {
        "id": "c0qFHG3Z2Pqf"
      }
    },
    {
      "cell_type": "markdown",
      "source": [
        "### Handling the data\n",
        "\n",
        "To compute the loss, we need timestep information from both the current and last timesteps. Let's define a new class to handle the data. We will call this new class `TransitionAccumulator`. This class is not absolutely necessary in this simple tabular learning, but it will set the interface that we will reuse later.\n",
        "\n",
        "At each timestep, we will save the data using the `push` method and retrieve data using the `sample` method. The `sample` method returns the previous observation in addition to the data for the current timestep."
      ],
      "metadata": {
        "id": "IrhQ_CRF2cTm"
      }
    },
    {
      "cell_type": "code",
      "source": [
        "Transition = collections.namedtuple(\n",
        "    'Transition', 'obs_tm1 a_tm1 r_t discount_t obs_t')\n",
        "\n",
        "class TransitionAccumulator:\n",
        "  \"\"\"Simple Python accumulator for transitions.\"\"\"\n",
        "\n",
        "  def __init__(self):\n",
        "    self._prev = None\n",
        "    self._action = None\n",
        "    self._latest = None\n",
        "\n",
        "  def push(self, env_output, action):\n",
        "    self._prev = self._latest\n",
        "    self._action = action\n",
        "    self._latest = env_output\n",
        "\n",
        "  def sample(self):\n",
        "    return Transition(self._prev.observation, self._action, self._latest.reward,\n",
        "                      self._latest.discount, self._latest.observation)\n",
        "\n",
        "  def is_ready(self):\n",
        "    \"\"\"Checks if there is previous data stored.\"\"\"\n",
        "    return self._prev is not None"
      ],
      "metadata": {
        "id": "YLX6q29y1mE3"
      },
      "execution_count": null,
      "outputs": []
    },
    {
      "cell_type": "markdown",
      "source": [
        "## Greedy agent\n",
        "\n",
        "Now, let's follow similar interface to the Random agent and implement Q-learning agent."
      ],
      "metadata": {
        "id": "Der43tCVknnB"
      }
    },
    {
      "cell_type": "markdown",
      "source": [
        "### ⭐ Exercise\n",
        "\n",
        "1) We implemented the `__init__` function that initialised the Q-function with $-1$ (attribute `_q`), have a look at this function and understand it.\n",
        "\n",
        "2) We also implemented a helper `_obs_to_index` function that helps us to convert the observation represented as an image into the index of the Q-function table. Take an example of a state from before, and think about how it will be converted into an index.\n",
        "\n",
        "3) Fill in the gaps in `actor_step`. First, use the helper funtion `_obs_to_index` in order to find the index that corresponds to the observation in the current timestep. Then, make sure we select the action that maximized the Q-function value.\n",
        "\n",
        "4) Fill in the gaps in the `learner_step` function to compute the TD error as $$\\delta = r(s,a) + \\gamma Q(s', a')) − Q(s, a).$$"
      ],
      "metadata": {
        "id": "qcxk7URam8vY"
      }
    },
    {
      "cell_type": "code",
      "source": [
        "class QlearningAgent(object):\n",
        "  \"\"\"Q-learning agent.\"\"\"\n",
        "\n",
        "  def __init__(self,\n",
        "               action_spec: specs.DiscreteArray,\n",
        "               observation_spec: specs.DiscreteArray,\n",
        "               step_size: float = 0.1):\n",
        "    self._num_actions = action_spec.num_values\n",
        "    self._step_size = step_size\n",
        "    r, c = observation_spec.shape\n",
        "    # variable for representing the Q-function\n",
        "    # before we know anything, assume that all actions are bad\n",
        "    self._q = -np.ones((c * r * c, self._num_actions))\n",
        "\n",
        "  def _obs_to_index(self, obs):\n",
        "    \"\"\"Convert the observation into an index for accessing q values.\"\"\"\n",
        "    # The paddle location is always at the bottom.\n",
        "    obs_shape = obs.shape\n",
        "    paddle = np.where(obs[-1, :].flatten() == 1)[0][0]\n",
        "    obs = obs.flatten().astype(int)\n",
        "    # Case where the ball and paddle overlap.\n",
        "    if obs.sum() == 1:\n",
        "      ball = (obs_shape[0] - 1) * obs_shape[1]  + paddle\n",
        "    else:\n",
        "      ball = np.where(obs == 2)[0][0]\n",
        "    return paddle * np.prod(obs_shape) + ball\n",
        "\n",
        "  def actor_step(self, timestep):\n",
        "    # -----------------------------------#\n",
        "    # Find the index corresponding to the current observation\n",
        "    observation_index =\n",
        "    # Index into the Q value matrix.\n",
        "    qvalue =\n",
        "    # Greedy policy: select the action that corresponds to the largest Q-value.\n",
        "    selected_action =\n",
        "    # -----------------------------------#\n",
        "    return selected_action\n",
        "\n",
        "  def learner_step(self, obs_tm1, a_tm1, r_t, discount_t, obs_t):\n",
        "    # obs_tm1 corresponds to s\n",
        "    # a_tm1 corresponds to a\n",
        "    # obs_t corresponds to s'\n",
        "    # Offline Q-value update.\n",
        "    # Find the indices corresponding to both observations\n",
        "    obs_t = self._obs_to_index(obs_t)\n",
        "    obs_tm1 = self._obs_to_index(obs_tm1)\n",
        "    # Greedy policy selects the action that maximises the Q-function\n",
        "    a_t = np.argmax(self._q[obs_t])\n",
        "    # -----------------------------------#\n",
        "    # Compute TD error as indicated above\n",
        "    td_error =\n",
        "    # -----------------------------------#\n",
        "    self._q[obs_tm1, a_tm1] += self._step_size * td_error\n",
        "    return td_error"
      ],
      "metadata": {
        "id": "QqOKX8ow2VcP"
      },
      "execution_count": null,
      "outputs": []
    },
    {
      "cell_type": "markdown",
      "source": [
        "Let's test `actor_step`:"
      ],
      "metadata": {
        "id": "IryvzNGdBDMb"
      }
    },
    {
      "cell_type": "code",
      "source": [
        "# Example of initialising the agent and making a dummy observation and selecting an action\n",
        "env = Catch()\n",
        "# Create an agent\n",
        "agent = QlearningAgent(action_spec=env.action_spec(),\n",
        "                       observation_spec=env.observation_spec())\n",
        "\n",
        "# Make a fake observation\n",
        "DummyTransition = collections.namedtuple(\n",
        "    'DummyTransition', 'observation')\n",
        "obs = np.zeros(env.observation_spec().shape, \"float32\")\n",
        "obs[0,0]=2\n",
        "obs[-1,-1]=1\n",
        "dummy_timestep = DummyTransition(obs)\n",
        "\n",
        "# Select an action\n",
        "action_to_take = agent.actor_step(dummy_timestep)\n",
        "print('Action = ', action_to_take)\n",
        "print('Action should be 0')"
      ],
      "metadata": {
        "id": "4JXhZZ6kBPD5"
      },
      "execution_count": null,
      "outputs": []
    },
    {
      "cell_type": "markdown",
      "source": [
        "Let's test `learner_step`:"
      ],
      "metadata": {
        "id": "v6Gn3_1eBGru"
      }
    },
    {
      "cell_type": "code",
      "source": [
        "# Example of initialising the agent and making a dummy observation and selecting an action\n",
        "env = Catch()\n",
        "# Create an agent\n",
        "agent = QlearningAgent(action_spec=env.action_spec(),\n",
        "                       observation_spec=env.observation_spec())\n",
        "\n",
        "# Make a fake observation\n",
        "obs = np.zeros(env.observation_spec().shape, \"float32\")\n",
        "obs[0,0]=2\n",
        "obs[-1,-1]=1\n",
        "\n",
        "# Select an action\n",
        "td_error = agent.learner_step(obs, 0, 2, 0.9, obs)\n",
        "print('td-error = ', td_error)\n",
        "print('td-error should be 2.1')"
      ],
      "metadata": {
        "id": "Fuuss0Rl-O2n"
      },
      "execution_count": null,
      "outputs": []
    },
    {
      "cell_type": "markdown",
      "source": [
        "### Run Loop\n",
        "\n",
        "Have a look again at the running loop of the random agent. The part that is missing now to make the greedy Q-learning is the `learner_step`. Note that we will need to run the environment for many episodes in order to gather sufficient data for learning. We will only evaluate our policy occasionally, every `evaluate_every` steps, to reduce the amount of logging info and computation."
      ],
      "metadata": {
        "id": "WW3V85E52ocu"
      }
    },
    {
      "cell_type": "markdown",
      "source": [
        "### ⭐ Exercise\n",
        "\n",
        "Add the learner step to complete the training loop. For this, `sample` the datapoint from `accumulator` and run the agent's `learning_step` on it."
      ],
      "metadata": {
        "id": "KtpHKBt2t48n"
      }
    },
    {
      "cell_type": "code",
      "source": [
        "train_episodes = 1_000  # @param\n",
        "evaluate_every = 100  # @param\n",
        "eval_episodes = 10  # @param\n",
        "\n",
        "# Initialise the environment.\n",
        "env = Catch()\n",
        "timestep = env.reset()\n",
        "\n",
        "# Build and initialise the agent.\n",
        "agent = QlearningAgent(env.action_spec(),\n",
        "                       env.observation_spec())\n",
        "\n",
        "# Initialise the accumulator.\n",
        "accumulator = TransitionAccumulator()\n",
        "\n",
        "# Run loop\n",
        "avg_returns = []\n",
        "\n",
        "for episode in range(train_episodes):\n",
        "  # Prepare agent, environment and accumulator for a new episode.\n",
        "  timestep = env.reset()\n",
        "  accumulator.push(timestep, None)\n",
        "  while not timestep.last():\n",
        "    # Acting.\n",
        "    action = agent.actor_step(timestep)\n",
        "    # Agent-environment interaction.\n",
        "    timestep = env.step(action)\n",
        "    # Accumulate experience.\n",
        "    accumulator.push(timestep, action)\n",
        "    if accumulator.is_ready():\n",
        "      # -----------------------------------#\n",
        "      # Learner step on sample from accumulator\n",
        "      accumulator_sample =\n",
        "      agent.\n",
        "      # -----------------------------------#\n",
        "   # Evaluation.\n",
        "  if not episode % evaluate_every:\n",
        "    returns = []\n",
        "    for _ in range(eval_episodes):\n",
        "      timestep = env.reset()\n",
        "      timesteps = [timestep]\n",
        "      while not timestep.last():\n",
        "        action = agent.actor_step(timestep)\n",
        "        timestep = env.step(action)\n",
        "        timesteps.append(timestep)\n",
        "      returns.append(np.sum([item.reward for item in timesteps[1:]]))\n",
        "\n",
        "    avg_returns.append(np.mean(returns))\n",
        "    print(f'Episode {episode:4d}: Average returns: {avg_returns[-1]:.2f}.')"
      ],
      "metadata": {
        "id": "-1fFRpo52kiR"
      },
      "execution_count": null,
      "outputs": []
    },
    {
      "cell_type": "markdown",
      "source": [
        "### ⭐ Exercise\n",
        "\n",
        "- Animate the last episode and plot the retun of the agent as a function of number of trainin episodes.\n",
        "\n",
        "- Does the agent manage to solve the task? Experiment with the number of training episodes, does it help?\n",
        "\n",
        "- Look at the initialisation of the Q-function table, all the values are set to $-1$. What do you think would happen after updating the Q-function with an episode where an agent a) succeeds, b) fails in an episode? Do you see any problem here? For the ways to fix it, look at the next section."
      ],
      "metadata": {
        "id": "2U4s5nHJuLKH"
      }
    },
    {
      "cell_type": "code",
      "source": [
        "# -----------------------------------#\n",
        "# Plot the average return as a function of number of episodes\n",
        "\n",
        "# Animate the last episode\n",
        "\n",
        "# -----------------------------------#"
      ],
      "metadata": {
        "id": "bM937s7HwXnc"
      },
      "execution_count": null,
      "outputs": []
    },
    {
      "cell_type": "markdown",
      "source": [
        "## Epsilon-greedy agent\n",
        "\n",
        "So, most of the time, a Q-learning agent fails to solve the task. One of the reasons for it is that the greedy policy with respect to a given estimate of $Q^\\pi$ fails to *explore* the environment as needed. The problem is that our initialisation of the Q-function was \"pessimistic\" that means that once any of the actions is tried and is successful (by chance), the agent will keep selecting this action as it is \"greedily\" exploiting the Q-function estimate."
      ],
      "metadata": {
        "id": "pumORMIq3AFD"
      }
    },
    {
      "cell_type": "markdown",
      "source": [
        "### ⭐ Exercise\n",
        "\n",
        "One way to encourage exploration is to initialise the Q-funtion \"optimistically\", for example, with zeros or ones. Try modifying the agent above like this, what happens in this case? Hint: look at the line `self._q = -np.ones((c * r * c, self._num_actions))`"
      ],
      "metadata": {
        "id": "PqPXfIte8qUs"
      }
    },
    {
      "cell_type": "markdown",
      "source": [
        "Optimistic initialisation might help us in this case, but a more general solution is to use **epsilon-greedy agent**. An $\\epsilon$-greedy policy is a simple policy that at each time-step with probability $\\epsilon$ will choose a random action instead of the greedy action. This ensures constant exploration  during learning."
      ],
      "metadata": {
        "id": "UVQqn2OxDOIL"
      }
    },
    {
      "cell_type": "markdown",
      "source": [
        "### ⭐ Exercise\n",
        "\n",
        "Update the QlearningAgent's policy to an $\\epsilon$-greedy policy. Most things stays the same, but you need to modify `actor_step` function to select the best action with probability $1-\\epsilon$ and a random action with probability $\\epsilon$. Note that agent takes parameters `epsilon` at the initialisation now."
      ],
      "metadata": {
        "id": "edVk9U6i-Q4Y"
      }
    },
    {
      "cell_type": "code",
      "source": [
        "class EGQlearningAgent(object):\n",
        "  \"\"\"Epsilon-greedy Q learning agent.\"\"\"\n",
        "\n",
        "  def __init__(self,\n",
        "               action_spec: specs.DiscreteArray,\n",
        "               observation_spec: specs.DiscreteArray,\n",
        "               epsilon: float = 0.1,\n",
        "               step_size: float = 0.1):\n",
        "    self._num_actions = action_spec.num_values\n",
        "    self._epsilon = epsilon\n",
        "    self._step_size = step_size\n",
        "    r, c = observation_spec.shape\n",
        "    # variable for representing the Q-function\n",
        "    # before we know anything, assume that all actions are bad\n",
        "    self._q = -np.ones((c * r * c, self._num_actions))\n",
        "\n",
        "  def _obs_to_index(self, obs):\n",
        "    \"\"\"Convert the observation into an index for accessing q values.\"\"\"\n",
        "    # The paddle location is always at the bottom.\n",
        "    obs_shape = obs.shape\n",
        "    paddle = np.where(obs[-1, :].flatten() == 1)[0][0]\n",
        "    obs = obs.flatten().astype(int)\n",
        "    # Case where the ball and paddle overlap.\n",
        "    if obs.sum() == 1:\n",
        "      ball = (obs_shape[0] - 1) * obs_shape[1]  + paddle\n",
        "    else:\n",
        "      ball = np.where(obs == 2)[0][0]\n",
        "    return paddle * np.prod(obs_shape) + ball\n",
        "\n",
        "  def actor_step(self, timestep, evaluation):\n",
        "    # Index into the Q value matrix.\n",
        "    qvalue = self._q[self._obs_to_index(timestep.observation)]\n",
        "    # Epsilon-greedy policy.\n",
        "    # -----------------------------------#\n",
        "    # With probability 1-self._epsilon, select the best action according to\n",
        "    # qvalue as before\n",
        "    if\n",
        "      train_a =\n",
        "    # With probability self._epsilon, select a random action\n",
        "    else:\n",
        "      train_a =\n",
        "    # -----------------------------------#\n",
        "    if evaluation:\n",
        "      # During evaluation, always select the best action according to qvalue\n",
        "      return np.argmax(qvalue)\n",
        "    else:\n",
        "      return train_a\n",
        "\n",
        "  def learner_step(self, obs_tm1, a_tm1, r_t, discount_t, obs_t):\n",
        "    # Offline Q-value update.\n",
        "    obs_t = self._obs_to_index(obs_t)\n",
        "    obs_tm1 = self._obs_to_index(obs_tm1)\n",
        "    td_error = r_t + discount_t * np.max(self._q[obs_t]) - self._q[obs_tm1, a_tm1]\n",
        "    self._q[obs_tm1, a_tm1] += self._step_size * td_error"
      ],
      "metadata": {
        "id": "3UiaeE9K2rG4"
      },
      "execution_count": null,
      "outputs": []
    },
    {
      "cell_type": "markdown",
      "source": [
        "Let's test `actor_step`."
      ],
      "metadata": {
        "id": "RFsb924tEkfm"
      }
    },
    {
      "cell_type": "code",
      "source": [
        "# Example of initialising the agent and making a dummy observation and selecting an action\n",
        "env = Catch()\n",
        "# Create an agent\n",
        "agent = EGQlearningAgent(action_spec=env.action_spec(),\n",
        "                         observation_spec=env.observation_spec(),\n",
        "                         epsilon=0.3)\n",
        "\n",
        "# Make a fake observation\n",
        "DummyTransition = collections.namedtuple(\n",
        "    'DummyTransition', 'observation')\n",
        "obs = np.zeros(env.observation_spec().shape, \"float32\")\n",
        "obs[0,0]=2\n",
        "obs[-1,-1]=1\n",
        "dummy_timestep = DummyTransition(obs)\n",
        "\n",
        "# Select an action\n",
        "action_to_take = agent.actor_step(dummy_timestep, evaluation=False)\n",
        "print('Action = ', action_to_take)\n",
        "print('If you run this code several times, most of the time action would be 0, but sometimes 1 or 2.')"
      ],
      "metadata": {
        "id": "4c91_TiGD__y"
      },
      "execution_count": null,
      "outputs": []
    },
    {
      "cell_type": "markdown",
      "source": [
        "### Run loop\n",
        "\n",
        "Now let's run the training loop for an epsilon greedy agent"
      ],
      "metadata": {
        "id": "X7fA7ox1ADYK"
      }
    },
    {
      "cell_type": "markdown",
      "source": [
        "### ⭐ Exercise\n",
        "\n",
        "Fill in the missing parameter values `train_episodes`, `epsilon`, and `step_size` to run the training loop"
      ],
      "metadata": {
        "id": "rYD0sWgRembU"
      }
    },
    {
      "cell_type": "code",
      "source": [
        "train_episodes = None  # @param\n",
        "evaluate_every = 100  # @param\n",
        "eval_episodes = 10  # @param\n",
        "epsilon = None  # @param\n",
        "step_size = None  # @param\n",
        "\n",
        "# Initialise the environment.\n",
        "env = Catch()\n",
        "timestep = env.reset()\n",
        "\n",
        "# Build and initialise the agent.\n",
        "agent = EGQlearningAgent(env.action_spec(),\n",
        "                         env.observation_spec(),\n",
        "                         epsilon=epsilon,\n",
        "                         step_size=step_size)\n",
        "\n",
        "# Initialise the accumulator.\n",
        "accumulator = TransitionAccumulator()\n",
        "\n",
        "# Run loop.\n",
        "avg_returns = []\n",
        "\n",
        "for episode in range(train_episodes):\n",
        "\n",
        "  # Prepare agent, environment and accumulator for a new episode.\n",
        "  timestep = env.reset()\n",
        "  accumulator.push(timestep, None)\n",
        "\n",
        "  while not timestep.last():\n",
        "    # Acting.\n",
        "    action = agent.actor_step(timestep, False)\n",
        "    # Agent-environment interaction.\n",
        "    timestep = env.step(action)\n",
        "    # Accumulate experience.\n",
        "    accumulator.push(timestep, action)\n",
        "\n",
        "    # Learning.\n",
        "    if accumulator.is_ready():\n",
        "      agent.learner_step(*accumulator.sample())\n",
        "\n",
        "  # Evaluation.\n",
        "  if not episode % evaluate_every:\n",
        "    returns = []\n",
        "    for _ in range(eval_episodes):\n",
        "      timestep = env.reset()\n",
        "      timesteps = [timestep]\n",
        "      while not timestep.last():\n",
        "        action = agent.actor_step(timestep, True)\n",
        "        timestep = env.step(action)\n",
        "        timesteps.append(timestep)\n",
        "      returns.append(np.sum([item.reward for item in timesteps[1:]]))\n",
        "\n",
        "    avg_returns.append(np.mean(returns))\n",
        "    print(f\"Episode {episode:4d}: Average returns: {avg_returns[-1]:.2f}.\")"
      ],
      "metadata": {
        "id": "I50JzJUt3NqL"
      },
      "execution_count": null,
      "outputs": []
    },
    {
      "cell_type": "code",
      "source": [
        "# Plot the average return as a function of number of epsiodes\n",
        "plt.plot(avg_returns)\n",
        "plt.xlabel('Number of episodes')\n",
        "plt.ylabel('Return')\n",
        "plt.title('Return of the epsilon greedy agent');"
      ],
      "metadata": {
        "id": "DDGgxatuBNcN"
      },
      "execution_count": null,
      "outputs": []
    },
    {
      "cell_type": "code",
      "source": [
        "animate([item.observation for item in timesteps])"
      ],
      "metadata": {
        "id": "KsUn9CIRA0GO"
      },
      "execution_count": null,
      "outputs": []
    },
    {
      "cell_type": "markdown",
      "source": [
        "### ⭐ Exercise\n",
        "\n",
        "- Does the agent manage to solve the task? Experiment with the number of training episodes, the exploration rate $\\epsilon$ and learning step. Can an agent achieve the perferc score?"
      ],
      "metadata": {
        "id": "0LGZBrKEAsv2"
      }
    },
    {
      "cell_type": "markdown",
      "source": [
        "### ⭐ Bonus exercise\n",
        "\n",
        "- Try to make the task harder: increase the size of the game board. Can the agent still solve this task?\n",
        "\n",
        "- Sometimes you may notice that the agent's policy is not very natural (even if its return is 1): instead of going to the location where the ball is going to fall and waiting, it takes some other random actions before that. Why do you think this might happen? How could it be fixed?"
      ],
      "metadata": {
        "id": "nlapdV4HFa38"
      }
    },
    {
      "cell_type": "markdown",
      "source": [
        "🥳 Congratulations on completing the first part of this tutorial, great job!!!\n",
        "\n",
        "It is the most important part as it sets the foundations which would allow you to understand more advanced RL algorithms. Next, we will look into Deep RL: when RL algorithms are combined with neural network training."
      ],
      "metadata": {
        "id": "nz6jNmWn-Odb"
      }
    }
  ]
}